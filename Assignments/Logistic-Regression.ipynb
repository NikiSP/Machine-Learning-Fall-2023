{
 "cells": [
  {
   "cell_type": "markdown",
   "id": "69d36241",
   "metadata": {
    "id": "p9ZZJ-BuI0jR",
    "papermill": {
     "duration": 0.010189,
     "end_time": "2023-12-17T10:18:53.985208",
     "exception": false,
     "start_time": "2023-12-17T10:18:53.975019",
     "status": "completed"
    },
    "tags": []
   },
   "source": [
    "**ML - Fall 2023 - Practical - 3**<br>\n",
    "**Practical Homework 3 - Logistic Regression**"
   ]
  },
  {
   "cell_type": "markdown",
   "id": "ac415874",
   "metadata": {
    "id": "YeD7CvFcJhBu",
    "papermill": {
     "duration": 0.013021,
     "end_time": "2023-12-17T10:18:54.007804",
     "exception": false,
     "start_time": "2023-12-17T10:18:53.994783",
     "status": "completed"
    },
    "tags": []
   },
   "source": [
    "### Full Name : Niki Sepasian\n",
    "### Student Number : 400105003\n",
    "### Colab Link:\n",
    "___"
   ]
  },
  {
   "cell_type": "markdown",
   "id": "f5550c7e",
   "metadata": {
    "id": "AW5uh7WjWrda",
    "papermill": {
     "duration": 0.008853,
     "end_time": "2023-12-17T10:18:54.026459",
     "exception": false,
     "start_time": "2023-12-17T10:18:54.017606",
     "status": "completed"
    },
    "tags": []
   },
   "source": [
    "# P1: Introduction (10 points)\n",
    "The dataset consists of several game result predictor (independent) variables and one target (dependent) variable, `win_or_defeat`. <br> Independent variables include the `spell_used`, `position`, `towers_damage`, `kill_death_ratio`, `controlling_time`, and so on.\n",
    "  * spell_used\n",
    "  * trap_used\n",
    "  * character\n",
    "  * position\n",
    "  * location\n",
    "  * assists\n",
    "  * damage_amount\n",
    "  * towers_damage\n",
    "  * rooms_damage\n",
    "  * deaths\n",
    "  * money_total\n",
    "  * kill_death_ratio\n",
    "  * kills_total\n",
    "  * level\n",
    "  * controlling_time\n",
    "  * total_damage\n",
    "  * earned_damage\n",
    "  * special_enemy_killed\n",
    "  * room_kills\n",
    "  * main_score\n",
    "  * win_or_defeat\n",
    "\n",
    "First, we perform data exploration to get a better understanding of the data. Then, we perform data preprocessing to prepare the data for the regression model. Finally, we train a regression model to predict the outcome."
   ]
  },
  {
   "cell_type": "code",
   "execution_count": 1,
   "id": "a688378d",
   "metadata": {
    "execution": {
     "iopub.execute_input": "2023-12-17T10:18:54.047022Z",
     "iopub.status.busy": "2023-12-17T10:18:54.046405Z",
     "iopub.status.idle": "2023-12-17T10:18:54.054975Z",
     "shell.execute_reply": "2023-12-17T10:18:54.054316Z"
    },
    "id": "Yzt_AGkxIsqL",
    "papermill": {
     "duration": 0.021498,
     "end_time": "2023-12-17T10:18:54.056920",
     "exception": false,
     "start_time": "2023-12-17T10:18:54.035422",
     "status": "completed"
    },
    "tags": []
   },
   "outputs": [],
   "source": [
    "data_link = \"https://drive.google.com/file/d/1SGuWqcRJ1GvPO9RxzxjOAkCEN_RDJY9d/view?usp=sharing\""
   ]
  },
  {
   "cell_type": "code",
   "execution_count": 2,
   "id": "ce35ddaa",
   "metadata": {
    "execution": {
     "iopub.execute_input": "2023-12-17T10:18:54.077630Z",
     "iopub.status.busy": "2023-12-17T10:18:54.077012Z",
     "iopub.status.idle": "2023-12-17T10:19:47.808010Z",
     "shell.execute_reply": "2023-12-17T10:19:47.807161Z"
    },
    "id": "xlJOL7Rt4h4X",
    "outputId": "b2e17dc8-07bd-4e84-b6d8-dd1ae58bfe75",
    "papermill": {
     "duration": 53.744709,
     "end_time": "2023-12-17T10:19:47.811144",
     "exception": false,
     "start_time": "2023-12-17T10:18:54.066435",
     "status": "completed"
    },
    "tags": []
   },
   "outputs": [
    {
     "name": "stdout",
     "output_type": "stream",
     "text": [
      "Requirement already satisfied: typing-extensions in /opt/conda/lib/python3.10/site-packages (4.5.0)\r\n",
      "Collecting typing-extensions\r\n",
      "  Obtaining dependency information for typing-extensions from https://files.pythonhosted.org/packages/b7/f4/6a90020cd2d93349b442bfcb657d0dc91eee65491600b2cb1d388bc98e6b/typing_extensions-4.9.0-py3-none-any.whl.metadata\r\n",
      "  Downloading typing_extensions-4.9.0-py3-none-any.whl.metadata (3.0 kB)\r\n",
      "Downloading typing_extensions-4.9.0-py3-none-any.whl (32 kB)\r\n",
      "Installing collected packages: typing-extensions\r\n",
      "  Attempting uninstall: typing-extensions\r\n",
      "    Found existing installation: typing_extensions 4.5.0\r\n",
      "    Uninstalling typing_extensions-4.5.0:\r\n",
      "      Successfully uninstalled typing_extensions-4.5.0\r\n",
      "\u001b[31mERROR: pip's dependency resolver does not currently take into account all the packages that are installed. This behaviour is the source of the following dependency conflicts.\r\n",
      "apache-beam 2.46.0 requires dill<0.3.2,>=0.3.1.1, but you have dill 0.3.7 which is incompatible.\r\n",
      "apache-beam 2.46.0 requires pyarrow<10.0.0,>=3.0.0, but you have pyarrow 14.0.1 which is incompatible.\r\n",
      "jupyterlab 4.0.5 requires jupyter-lsp>=2.0.0, but you have jupyter-lsp 1.5.1 which is incompatible.\r\n",
      "jupyterlab-lsp 5.0.0 requires jupyter-lsp>=2.0.0, but you have jupyter-lsp 1.5.1 which is incompatible.\r\n",
      "jupyterlab-lsp 5.0.0 requires jupyterlab<5.0.0a0,>=4.0.6, but you have jupyterlab 4.0.5 which is incompatible.\r\n",
      "pymc3 3.11.5 requires numpy<1.22.2,>=1.15.0, but you have numpy 1.24.3 which is incompatible.\r\n",
      "pymc3 3.11.5 requires scipy<1.8.0,>=1.7.3, but you have scipy 1.11.3 which is incompatible.\r\n",
      "tensorflow 2.13.0 requires typing-extensions<4.6.0,>=3.6.6, but you have typing-extensions 4.9.0 which is incompatible.\r\n",
      "tensorflow-probability 0.21.0 requires typing-extensions<4.6.0, but you have typing-extensions 4.9.0 which is incompatible.\r\n",
      "tensorflowjs 4.13.0 requires packaging~=23.1, but you have packaging 21.3 which is incompatible.\r\n",
      "ydata-profiling 4.5.1 requires numpy<1.24,>=1.16.0, but you have numpy 1.24.3 which is incompatible.\u001b[0m\u001b[31m\r\n",
      "\u001b[0mSuccessfully installed typing-extensions-4.7.1\r\n",
      "Requirement already satisfied: ydata-profiling in /opt/conda/lib/python3.10/site-packages (4.5.1)\r\n",
      "Requirement already satisfied: scipy<1.12,>=1.4.1 in /opt/conda/lib/python3.10/site-packages (from ydata-profiling) (1.11.3)\r\n",
      "Requirement already satisfied: pandas!=1.4.0,<2.1,>1.1 in /opt/conda/lib/python3.10/site-packages (from ydata-profiling) (2.0.3)\r\n",
      "Requirement already satisfied: matplotlib<4,>=3.2 in /opt/conda/lib/python3.10/site-packages (from ydata-profiling) (3.7.3)\r\n",
      "Requirement already satisfied: pydantic<2,>=1.8.1 in /opt/conda/lib/python3.10/site-packages (from ydata-profiling) (1.10.12)\r\n",
      "Requirement already satisfied: PyYAML<6.1,>=5.0.0 in /opt/conda/lib/python3.10/site-packages (from ydata-profiling) (6.0.1)\r\n",
      "Requirement already satisfied: jinja2<3.2,>=2.11.1 in /opt/conda/lib/python3.10/site-packages (from ydata-profiling) (3.1.2)\r\n",
      "Requirement already satisfied: visions[type_image_path]==0.7.5 in /opt/conda/lib/python3.10/site-packages (from ydata-profiling) (0.7.5)\r\n",
      "Collecting numpy<1.24,>=1.16.0 (from ydata-profiling)\r\n",
      "  Downloading numpy-1.23.5-cp310-cp310-manylinux_2_17_x86_64.manylinux2014_x86_64.whl (17.1 MB)\r\n",
      "\u001b[2K     \u001b[90m━━━━━━━━━━━━━━━━━━━━━━━━━━━━━━━━━━━━━━━━\u001b[0m \u001b[32m17.1/17.1 MB\u001b[0m \u001b[31m72.4 MB/s\u001b[0m eta \u001b[36m0:00:00\u001b[0m\r\n",
      "\u001b[?25hRequirement already satisfied: htmlmin==0.1.12 in /opt/conda/lib/python3.10/site-packages (from ydata-profiling) (0.1.12)\r\n",
      "Requirement already satisfied: phik<0.13,>=0.11.1 in /opt/conda/lib/python3.10/site-packages (from ydata-profiling) (0.12.3)\r\n",
      "Requirement already satisfied: requests<3,>=2.24.0 in /opt/conda/lib/python3.10/site-packages (from ydata-profiling) (2.31.0)\r\n",
      "Requirement already satisfied: tqdm<5,>=4.48.2 in /opt/conda/lib/python3.10/site-packages (from ydata-profiling) (4.66.1)\r\n",
      "Requirement already satisfied: seaborn<0.13,>=0.10.1 in /opt/conda/lib/python3.10/site-packages (from ydata-profiling) (0.12.2)\r\n",
      "Requirement already satisfied: multimethod<2,>=1.4 in /opt/conda/lib/python3.10/site-packages (from ydata-profiling) (1.9.1)\r\n",
      "Requirement already satisfied: statsmodels<1,>=0.13.2 in /opt/conda/lib/python3.10/site-packages (from ydata-profiling) (0.14.0)\r\n",
      "Requirement already satisfied: typeguard<3,>=2.13.2 in /opt/conda/lib/python3.10/site-packages (from ydata-profiling) (2.13.3)\r\n",
      "Requirement already satisfied: imagehash==4.3.1 in /opt/conda/lib/python3.10/site-packages (from ydata-profiling) (4.3.1)\r\n",
      "Requirement already satisfied: wordcloud>=1.9.1 in /opt/conda/lib/python3.10/site-packages (from ydata-profiling) (1.9.2)\r\n",
      "Requirement already satisfied: dacite>=1.8 in /opt/conda/lib/python3.10/site-packages (from ydata-profiling) (1.8.1)\r\n",
      "Requirement already satisfied: PyWavelets in /opt/conda/lib/python3.10/site-packages (from imagehash==4.3.1->ydata-profiling) (1.4.1)\r\n",
      "Requirement already satisfied: pillow in /opt/conda/lib/python3.10/site-packages (from imagehash==4.3.1->ydata-profiling) (10.1.0)\r\n",
      "Requirement already satisfied: attrs>=19.3.0 in /opt/conda/lib/python3.10/site-packages (from visions[type_image_path]==0.7.5->ydata-profiling) (23.1.0)\r\n",
      "Requirement already satisfied: networkx>=2.4 in /opt/conda/lib/python3.10/site-packages (from visions[type_image_path]==0.7.5->ydata-profiling) (3.1)\r\n",
      "Requirement already satisfied: tangled-up-in-unicode>=0.0.4 in /opt/conda/lib/python3.10/site-packages (from visions[type_image_path]==0.7.5->ydata-profiling) (0.2.0)\r\n",
      "Requirement already satisfied: MarkupSafe>=2.0 in /opt/conda/lib/python3.10/site-packages (from jinja2<3.2,>=2.11.1->ydata-profiling) (2.1.3)\r\n",
      "Requirement already satisfied: contourpy>=1.0.1 in /opt/conda/lib/python3.10/site-packages (from matplotlib<4,>=3.2->ydata-profiling) (1.1.0)\r\n",
      "Requirement already satisfied: cycler>=0.10 in /opt/conda/lib/python3.10/site-packages (from matplotlib<4,>=3.2->ydata-profiling) (0.11.0)\r\n",
      "Requirement already satisfied: fonttools>=4.22.0 in /opt/conda/lib/python3.10/site-packages (from matplotlib<4,>=3.2->ydata-profiling) (4.42.1)\r\n",
      "Requirement already satisfied: kiwisolver>=1.0.1 in /opt/conda/lib/python3.10/site-packages (from matplotlib<4,>=3.2->ydata-profiling) (1.4.4)\r\n",
      "Requirement already satisfied: packaging>=20.0 in /opt/conda/lib/python3.10/site-packages (from matplotlib<4,>=3.2->ydata-profiling) (21.3)\r\n",
      "Requirement already satisfied: pyparsing>=2.3.1 in /opt/conda/lib/python3.10/site-packages (from matplotlib<4,>=3.2->ydata-profiling) (3.0.9)\r\n",
      "Requirement already satisfied: python-dateutil>=2.7 in /opt/conda/lib/python3.10/site-packages (from matplotlib<4,>=3.2->ydata-profiling) (2.8.2)\r\n",
      "Requirement already satisfied: pytz>=2020.1 in /opt/conda/lib/python3.10/site-packages (from pandas!=1.4.0,<2.1,>1.1->ydata-profiling) (2023.3)\r\n",
      "Requirement already satisfied: tzdata>=2022.1 in /opt/conda/lib/python3.10/site-packages (from pandas!=1.4.0,<2.1,>1.1->ydata-profiling) (2023.3)\r\n",
      "Requirement already satisfied: joblib>=0.14.1 in /opt/conda/lib/python3.10/site-packages (from phik<0.13,>=0.11.1->ydata-profiling) (1.3.2)\r\n",
      "Requirement already satisfied: typing-extensions>=4.2.0 in /opt/conda/lib/python3.10/site-packages (from pydantic<2,>=1.8.1->ydata-profiling) (4.7.1)\r\n",
      "Requirement already satisfied: charset-normalizer<4,>=2 in /opt/conda/lib/python3.10/site-packages (from requests<3,>=2.24.0->ydata-profiling) (3.2.0)\r\n",
      "Requirement already satisfied: idna<4,>=2.5 in /opt/conda/lib/python3.10/site-packages (from requests<3,>=2.24.0->ydata-profiling) (3.4)\r\n",
      "Requirement already satisfied: urllib3<3,>=1.21.1 in /opt/conda/lib/python3.10/site-packages (from requests<3,>=2.24.0->ydata-profiling) (1.26.15)\r\n",
      "Requirement already satisfied: certifi>=2017.4.17 in /opt/conda/lib/python3.10/site-packages (from requests<3,>=2.24.0->ydata-profiling) (2023.7.22)\r\n",
      "Requirement already satisfied: patsy>=0.5.2 in /opt/conda/lib/python3.10/site-packages (from statsmodels<1,>=0.13.2->ydata-profiling) (0.5.3)\r\n",
      "Requirement already satisfied: six in /opt/conda/lib/python3.10/site-packages (from patsy>=0.5.2->statsmodels<1,>=0.13.2->ydata-profiling) (1.16.0)\r\n",
      "Installing collected packages: numpy\r\n",
      "  Attempting uninstall: numpy\r\n",
      "    Found existing installation: numpy 1.24.3\r\n",
      "    Uninstalling numpy-1.24.3:\r\n",
      "      Successfully uninstalled numpy-1.24.3\r\n",
      "\u001b[31mERROR: pip's dependency resolver does not currently take into account all the packages that are installed. This behaviour is the source of the following dependency conflicts.\r\n",
      "apache-beam 2.46.0 requires dill<0.3.2,>=0.3.1.1, but you have dill 0.3.7 which is incompatible.\r\n",
      "apache-beam 2.46.0 requires pyarrow<10.0.0,>=3.0.0, but you have pyarrow 14.0.1 which is incompatible.\r\n",
      "chex 0.1.84 requires numpy>=1.24.1, but you have numpy 1.23.5 which is incompatible.\r\n",
      "libpysal 4.9.2 requires packaging>=22, but you have packaging 21.3 which is incompatible.\r\n",
      "libpysal 4.9.2 requires shapely>=2.0.1, but you have shapely 1.8.5.post1 which is incompatible.\r\n",
      "momepy 0.6.0 requires shapely>=2, but you have shapely 1.8.5.post1 which is incompatible.\r\n",
      "pymc3 3.11.5 requires numpy<1.22.2,>=1.15.0, but you have numpy 1.23.5 which is incompatible.\r\n",
      "pymc3 3.11.5 requires scipy<1.8.0,>=1.7.3, but you have scipy 1.11.3 which is incompatible.\r\n",
      "tensorflow 2.13.0 requires typing-extensions<4.6.0,>=3.6.6, but you have typing-extensions 4.7.1 which is incompatible.\r\n",
      "tensorflow-probability 0.21.0 requires typing-extensions<4.6.0, but you have typing-extensions 4.7.1 which is incompatible.\r\n",
      "tensorflowjs 4.13.0 requires packaging~=23.1, but you have packaging 21.3 which is incompatible.\u001b[0m\u001b[31m\r\n",
      "\u001b[0mSuccessfully installed numpy-1.23.5\r\n",
      "Collecting gdown\r\n",
      "  Downloading gdown-4.7.1-py3-none-any.whl (15 kB)\r\n",
      "Requirement already satisfied: filelock in /opt/conda/lib/python3.10/site-packages (from gdown) (3.12.2)\r\n",
      "Requirement already satisfied: requests[socks] in /opt/conda/lib/python3.10/site-packages (from gdown) (2.31.0)\r\n",
      "Requirement already satisfied: six in /opt/conda/lib/python3.10/site-packages (from gdown) (1.16.0)\r\n",
      "Requirement already satisfied: tqdm in /opt/conda/lib/python3.10/site-packages (from gdown) (4.66.1)\r\n",
      "Requirement already satisfied: beautifulsoup4 in /opt/conda/lib/python3.10/site-packages (from gdown) (4.12.2)\r\n",
      "Requirement already satisfied: soupsieve>1.2 in /opt/conda/lib/python3.10/site-packages (from beautifulsoup4->gdown) (2.3.2.post1)\r\n",
      "Requirement already satisfied: charset-normalizer<4,>=2 in /opt/conda/lib/python3.10/site-packages (from requests[socks]->gdown) (3.2.0)\r\n",
      "Requirement already satisfied: idna<4,>=2.5 in /opt/conda/lib/python3.10/site-packages (from requests[socks]->gdown) (3.4)\r\n",
      "Requirement already satisfied: urllib3<3,>=1.21.1 in /opt/conda/lib/python3.10/site-packages (from requests[socks]->gdown) (1.26.15)\r\n",
      "Requirement already satisfied: certifi>=2017.4.17 in /opt/conda/lib/python3.10/site-packages (from requests[socks]->gdown) (2023.7.22)\r\n",
      "Requirement already satisfied: PySocks!=1.5.7,>=1.5.6 in /opt/conda/lib/python3.10/site-packages (from requests[socks]->gdown) (1.7.1)\r\n",
      "Installing collected packages: gdown\r\n",
      "Successfully installed gdown-4.7.1\r\n"
     ]
    }
   ],
   "source": [
    "!pip install typing-extensions --upgrade\n",
    "!pip install ydata-profiling\n",
    "!pip install gdown"
   ]
  },
  {
   "cell_type": "code",
   "execution_count": 3,
   "id": "395e8eef",
   "metadata": {
    "execution": {
     "iopub.execute_input": "2023-12-17T10:19:47.837567Z",
     "iopub.status.busy": "2023-12-17T10:19:47.837188Z",
     "iopub.status.idle": "2023-12-17T10:19:53.652344Z",
     "shell.execute_reply": "2023-12-17T10:19:53.651274Z"
    },
    "id": "Tmd8xRNwYBAX",
    "papermill": {
     "duration": 5.831632,
     "end_time": "2023-12-17T10:19:53.655338",
     "exception": false,
     "start_time": "2023-12-17T10:19:47.823706",
     "status": "completed"
    },
    "tags": []
   },
   "outputs": [
    {
     "name": "stderr",
     "output_type": "stream",
     "text": [
      "/opt/conda/lib/python3.10/site-packages/numba/core/decorators.py:262: NumbaDeprecationWarning: \u001b[1mnumba.generated_jit is deprecated. Please see the documentation at: https://numba.readthedocs.io/en/stable/reference/deprecation.html#deprecation-of-generated-jit for more information and advice on a suitable replacement.\u001b[0m\n",
      "  warnings.warn(msg, NumbaDeprecationWarning)\n",
      "/opt/conda/lib/python3.10/site-packages/visions/backends/shared/nan_handling.py:51: NumbaDeprecationWarning: \u001b[1mThe 'nopython' keyword argument was not supplied to the 'numba.jit' decorator. The implicit default value for this argument is currently False, but it will be changed to True in Numba 0.59.0. See https://numba.readthedocs.io/en/stable/reference/deprecation.html#deprecation-of-object-mode-fall-back-behaviour-when-using-jit for details.\u001b[0m\n",
      "  def hasna(x: np.ndarray) -> bool:\n"
     ]
    }
   ],
   "source": [
    "import numpy as np\n",
    "import pandas as pd\n",
    "import matplotlib.pyplot as plt\n",
    "import seaborn as sns\n",
    "from ydata_profiling import ProfileReport\n",
    "\n",
    "from sklearn.model_selection import train_test_split\n",
    "from sklearn import preprocessing\n",
    "from sklearn.preprocessing import StandardScaler\n",
    "from sklearn.preprocessing import LabelEncoder"
   ]
  },
  {
   "cell_type": "code",
   "execution_count": 4,
   "id": "fd569573",
   "metadata": {
    "execution": {
     "iopub.execute_input": "2023-12-17T10:19:53.680787Z",
     "iopub.status.busy": "2023-12-17T10:19:53.679875Z",
     "iopub.status.idle": "2023-12-17T10:19:55.145704Z",
     "shell.execute_reply": "2023-12-17T10:19:55.143647Z"
    },
    "id": "trp2GMGdZ-Sy",
    "outputId": "d1d45c24-9f83-48b9-873c-f80bb90ab7ef",
    "papermill": {
     "duration": 1.481664,
     "end_time": "2023-12-17T10:19:55.148706",
     "exception": false,
     "start_time": "2023-12-17T10:19:53.667042",
     "status": "completed"
    },
    "tags": []
   },
   "outputs": [
    {
     "name": "stdout",
     "output_type": "stream",
     "text": [
      "Downloading...\r\n",
      "From: https://drive.google.com/uc?id=1SGuWqcRJ1GvPO9RxzxjOAkCEN_RDJY9d\r\n",
      "To: /kaggle/working/train.csv\r\n",
      "100%|█████████████████████████████████████████| 493k/493k [00:00<00:00, 123MB/s]\r\n"
     ]
    }
   ],
   "source": [
    "!gdown 1SGuWqcRJ1GvPO9RxzxjOAkCEN_RDJY9d"
   ]
  },
  {
   "cell_type": "markdown",
   "id": "aa71aa3e",
   "metadata": {
    "id": "krjaoiiLapka",
    "papermill": {
     "duration": 0.011244,
     "end_time": "2023-12-17T10:19:55.171363",
     "exception": false,
     "start_time": "2023-12-17T10:19:55.160119",
     "status": "completed"
    },
    "tags": []
   },
   "source": [
    "Load the dataset as a dataframe. Then, check for any null values and remove the rows containing them. Finally, display the first 10 rows. Also check for duplicate rows and delete them, if there are any. Report some other metrics like `Kurtosis` and `Interquartile range (IQR)` (hint: search and read about ydata-profiling). **(P1-1: 5 points)**"
   ]
  },
  {
   "cell_type": "code",
   "execution_count": 5,
   "id": "a96969cd",
   "metadata": {
    "execution": {
     "iopub.execute_input": "2023-12-17T10:19:55.197290Z",
     "iopub.status.busy": "2023-12-17T10:19:55.196731Z",
     "iopub.status.idle": "2023-12-17T10:19:55.225246Z",
     "shell.execute_reply": "2023-12-17T10:19:55.223036Z"
    },
    "id": "29l6ChSOaJ7K",
    "papermill": {
     "duration": 0.045085,
     "end_time": "2023-12-17T10:19:55.228605",
     "exception": false,
     "start_time": "2023-12-17T10:19:55.183520",
     "status": "completed"
    },
    "tags": []
   },
   "outputs": [],
   "source": [
    "df= pd.read_csv('train.csv')"
   ]
  },
  {
   "cell_type": "code",
   "execution_count": 6,
   "id": "f5c46e24",
   "metadata": {
    "execution": {
     "iopub.execute_input": "2023-12-17T10:19:55.252543Z",
     "iopub.status.busy": "2023-12-17T10:19:55.252188Z",
     "iopub.status.idle": "2023-12-17T10:19:55.264757Z",
     "shell.execute_reply": "2023-12-17T10:19:55.262514Z"
    },
    "papermill": {
     "duration": 0.027548,
     "end_time": "2023-12-17T10:19:55.267557",
     "exception": false,
     "start_time": "2023-12-17T10:19:55.240009",
     "status": "completed"
    },
    "tags": []
   },
   "outputs": [],
   "source": [
    "report= ProfileReport(df)"
   ]
  },
  {
   "cell_type": "code",
   "execution_count": 7,
   "id": "f72caab8",
   "metadata": {
    "execution": {
     "iopub.execute_input": "2023-12-17T10:19:55.294160Z",
     "iopub.status.busy": "2023-12-17T10:19:55.292299Z",
     "iopub.status.idle": "2023-12-17T10:19:55.372575Z",
     "shell.execute_reply": "2023-12-17T10:19:55.371033Z"
    },
    "papermill": {
     "duration": 0.095781,
     "end_time": "2023-12-17T10:19:55.374837",
     "exception": false,
     "start_time": "2023-12-17T10:19:55.279056",
     "status": "completed"
    },
    "tags": []
   },
   "outputs": [
    {
     "name": "stdout",
     "output_type": "stream",
     "text": [
      "Kurtosis information:\n",
      " Unnamed: 0              -1.199976\n",
      "spell_used              -0.771228\n",
      "trap_used               -1.560519\n",
      "assists                  1.796163\n",
      "damage_amount           20.631801\n",
      "towers_damage            3.060186\n",
      "rooms_damage            20.631801\n",
      "deaths                   0.372563\n",
      "money_total              0.326406\n",
      "kill_death_ratio         9.973199\n",
      "kills_total              1.438422\n",
      "level                   -0.384155\n",
      "controlling_time        11.943538\n",
      "total_damage             0.696798\n",
      "earned_damage            1.792284\n",
      "special_enemy_killed    -1.157044\n",
      "room_kills               2.527769\n",
      "main_score               3.950108\n",
      "dtype: float64\n",
      "\n",
      "\n",
      "IQR information:\n",
      " Unnamed: 0               2306.0\n",
      "spell_used                  7.0\n",
      "trap_used                   8.0\n",
      "assists                     7.0\n",
      "damage_amount            3349.0\n",
      "towers_damage           11356.0\n",
      "rooms_damage             3349.0\n",
      "deaths                      5.0\n",
      "money_total              4738.0\n",
      "kill_death_ratio            3.2\n",
      "kills_total                 6.0\n",
      "level                       4.0\n",
      "controlling_time           17.0\n",
      "total_damage            92045.0\n",
      "earned_damage           12629.0\n",
      "special_enemy_killed      155.0\n",
      "room_kills                  2.0\n",
      "main_score                 20.0\n",
      "dtype: float64 \n",
      "\n"
     ]
    },
    {
     "data": {
      "text/html": [
       "<div>\n",
       "<style scoped>\n",
       "    .dataframe tbody tr th:only-of-type {\n",
       "        vertical-align: middle;\n",
       "    }\n",
       "\n",
       "    .dataframe tbody tr th {\n",
       "        vertical-align: top;\n",
       "    }\n",
       "\n",
       "    .dataframe thead th {\n",
       "        text-align: right;\n",
       "    }\n",
       "</style>\n",
       "<table border=\"1\" class=\"dataframe\">\n",
       "  <thead>\n",
       "    <tr style=\"text-align: right;\">\n",
       "      <th></th>\n",
       "      <th>Unnamed: 0</th>\n",
       "      <th>spell_used</th>\n",
       "      <th>trap_used</th>\n",
       "      <th>character</th>\n",
       "      <th>position</th>\n",
       "      <th>location</th>\n",
       "      <th>assists</th>\n",
       "      <th>damage_amount</th>\n",
       "      <th>towers_damage</th>\n",
       "      <th>rooms_damage</th>\n",
       "      <th>...</th>\n",
       "      <th>kill_death_ratio</th>\n",
       "      <th>kills_total</th>\n",
       "      <th>level</th>\n",
       "      <th>controlling_time</th>\n",
       "      <th>total_damage</th>\n",
       "      <th>earned_damage</th>\n",
       "      <th>special_enemy_killed</th>\n",
       "      <th>room_kills</th>\n",
       "      <th>main_score</th>\n",
       "      <th>win_or_defeat</th>\n",
       "    </tr>\n",
       "  </thead>\n",
       "  <tbody>\n",
       "    <tr>\n",
       "      <th>0</th>\n",
       "      <td>0</td>\n",
       "      <td>4</td>\n",
       "      <td>12</td>\n",
       "      <td>TwistedFate</td>\n",
       "      <td>Side.blue</td>\n",
       "      <td>Lane.top_lane</td>\n",
       "      <td>9.0</td>\n",
       "      <td>1862</td>\n",
       "      <td>5119</td>\n",
       "      <td>1862</td>\n",
       "      <td>...</td>\n",
       "      <td>1.222222</td>\n",
       "      <td>2</td>\n",
       "      <td>13</td>\n",
       "      <td>19</td>\n",
       "      <td>99079</td>\n",
       "      <td>25062</td>\n",
       "      <td>149</td>\n",
       "      <td>1</td>\n",
       "      <td>21</td>\n",
       "      <td>False</td>\n",
       "    </tr>\n",
       "    <tr>\n",
       "      <th>2</th>\n",
       "      <td>2</td>\n",
       "      <td>4</td>\n",
       "      <td>12</td>\n",
       "      <td>Ziggs</td>\n",
       "      <td>Side.blue</td>\n",
       "      <td>Lane.bot_lane</td>\n",
       "      <td>3.0</td>\n",
       "      <td>543</td>\n",
       "      <td>2754</td>\n",
       "      <td>543</td>\n",
       "      <td>...</td>\n",
       "      <td>1.750000</td>\n",
       "      <td>4</td>\n",
       "      <td>12</td>\n",
       "      <td>11</td>\n",
       "      <td>106757</td>\n",
       "      <td>10049</td>\n",
       "      <td>168</td>\n",
       "      <td>0</td>\n",
       "      <td>11</td>\n",
       "      <td>False</td>\n",
       "    </tr>\n",
       "    <tr>\n",
       "      <th>3</th>\n",
       "      <td>3</td>\n",
       "      <td>4</td>\n",
       "      <td>7</td>\n",
       "      <td>Senna</td>\n",
       "      <td>Side.red</td>\n",
       "      <td>Lane.bot_lane</td>\n",
       "      <td>4.0</td>\n",
       "      <td>1547</td>\n",
       "      <td>1547</td>\n",
       "      <td>1547</td>\n",
       "      <td>...</td>\n",
       "      <td>1.000000</td>\n",
       "      <td>2</td>\n",
       "      <td>12</td>\n",
       "      <td>14</td>\n",
       "      <td>53993</td>\n",
       "      <td>12480</td>\n",
       "      <td>129</td>\n",
       "      <td>1</td>\n",
       "      <td>11</td>\n",
       "      <td>False</td>\n",
       "    </tr>\n",
       "    <tr>\n",
       "      <th>5</th>\n",
       "      <td>5</td>\n",
       "      <td>4</td>\n",
       "      <td>11</td>\n",
       "      <td>Rengar</td>\n",
       "      <td>Side.red</td>\n",
       "      <td>Lane.jungle</td>\n",
       "      <td>7.0</td>\n",
       "      <td>1564</td>\n",
       "      <td>16053</td>\n",
       "      <td>1564</td>\n",
       "      <td>...</td>\n",
       "      <td>3.500000</td>\n",
       "      <td>7</td>\n",
       "      <td>14</td>\n",
       "      <td>14</td>\n",
       "      <td>128646</td>\n",
       "      <td>40236</td>\n",
       "      <td>27</td>\n",
       "      <td>1</td>\n",
       "      <td>17</td>\n",
       "      <td>True</td>\n",
       "    </tr>\n",
       "    <tr>\n",
       "      <th>6</th>\n",
       "      <td>6</td>\n",
       "      <td>4</td>\n",
       "      <td>12</td>\n",
       "      <td>Ziggs</td>\n",
       "      <td>Side.blue</td>\n",
       "      <td>Lane.bot_lane</td>\n",
       "      <td>9.0</td>\n",
       "      <td>19665</td>\n",
       "      <td>20431</td>\n",
       "      <td>19665</td>\n",
       "      <td>...</td>\n",
       "      <td>5.333333</td>\n",
       "      <td>7</td>\n",
       "      <td>12</td>\n",
       "      <td>11</td>\n",
       "      <td>123192</td>\n",
       "      <td>8057</td>\n",
       "      <td>140</td>\n",
       "      <td>4</td>\n",
       "      <td>9</td>\n",
       "      <td>True</td>\n",
       "    </tr>\n",
       "    <tr>\n",
       "      <th>7</th>\n",
       "      <td>7</td>\n",
       "      <td>4</td>\n",
       "      <td>14</td>\n",
       "      <td>Karma</td>\n",
       "      <td>Side.blue</td>\n",
       "      <td>Lane.utility</td>\n",
       "      <td>4.0</td>\n",
       "      <td>740</td>\n",
       "      <td>997</td>\n",
       "      <td>740</td>\n",
       "      <td>...</td>\n",
       "      <td>5.000000</td>\n",
       "      <td>1</td>\n",
       "      <td>10</td>\n",
       "      <td>17</td>\n",
       "      <td>18138</td>\n",
       "      <td>3414</td>\n",
       "      <td>25</td>\n",
       "      <td>0</td>\n",
       "      <td>38</td>\n",
       "      <td>False</td>\n",
       "    </tr>\n",
       "    <tr>\n",
       "      <th>8</th>\n",
       "      <td>8</td>\n",
       "      <td>3</td>\n",
       "      <td>4</td>\n",
       "      <td>Zyra</td>\n",
       "      <td>Side.red</td>\n",
       "      <td>Lane.utility</td>\n",
       "      <td>8.0</td>\n",
       "      <td>0</td>\n",
       "      <td>123</td>\n",
       "      <td>0</td>\n",
       "      <td>...</td>\n",
       "      <td>0.900000</td>\n",
       "      <td>1</td>\n",
       "      <td>12</td>\n",
       "      <td>49</td>\n",
       "      <td>32425</td>\n",
       "      <td>24632</td>\n",
       "      <td>30</td>\n",
       "      <td>0</td>\n",
       "      <td>91</td>\n",
       "      <td>False</td>\n",
       "    </tr>\n",
       "    <tr>\n",
       "      <th>9</th>\n",
       "      <td>9</td>\n",
       "      <td>4</td>\n",
       "      <td>12</td>\n",
       "      <td>Graves</td>\n",
       "      <td>Side.red</td>\n",
       "      <td>Lane.mid_lane</td>\n",
       "      <td>5.0</td>\n",
       "      <td>3277</td>\n",
       "      <td>3277</td>\n",
       "      <td>3277</td>\n",
       "      <td>...</td>\n",
       "      <td>1.800000</td>\n",
       "      <td>4</td>\n",
       "      <td>12</td>\n",
       "      <td>19</td>\n",
       "      <td>109150</td>\n",
       "      <td>13704</td>\n",
       "      <td>162</td>\n",
       "      <td>1</td>\n",
       "      <td>15</td>\n",
       "      <td>False</td>\n",
       "    </tr>\n",
       "    <tr>\n",
       "      <th>10</th>\n",
       "      <td>10</td>\n",
       "      <td>11</td>\n",
       "      <td>4</td>\n",
       "      <td>Olaf</td>\n",
       "      <td>Side.blue</td>\n",
       "      <td>Lane.jungle</td>\n",
       "      <td>3.0</td>\n",
       "      <td>0</td>\n",
       "      <td>7063</td>\n",
       "      <td>0</td>\n",
       "      <td>...</td>\n",
       "      <td>0.500000</td>\n",
       "      <td>2</td>\n",
       "      <td>13</td>\n",
       "      <td>12</td>\n",
       "      <td>106474</td>\n",
       "      <td>38614</td>\n",
       "      <td>19</td>\n",
       "      <td>0</td>\n",
       "      <td>29</td>\n",
       "      <td>False</td>\n",
       "    </tr>\n",
       "    <tr>\n",
       "      <th>11</th>\n",
       "      <td>11</td>\n",
       "      <td>14</td>\n",
       "      <td>12</td>\n",
       "      <td>Kled</td>\n",
       "      <td>Side.red</td>\n",
       "      <td>Lane.top_lane</td>\n",
       "      <td>3.0</td>\n",
       "      <td>3646</td>\n",
       "      <td>4463</td>\n",
       "      <td>3646</td>\n",
       "      <td>...</td>\n",
       "      <td>0.636364</td>\n",
       "      <td>4</td>\n",
       "      <td>14</td>\n",
       "      <td>7</td>\n",
       "      <td>119522</td>\n",
       "      <td>41289</td>\n",
       "      <td>178</td>\n",
       "      <td>0</td>\n",
       "      <td>13</td>\n",
       "      <td>False</td>\n",
       "    </tr>\n",
       "  </tbody>\n",
       "</table>\n",
       "<p>10 rows × 22 columns</p>\n",
       "</div>"
      ],
      "text/plain": [
       "    Unnamed: 0  spell_used  trap_used    character   position       location  \\\n",
       "0            0           4         12  TwistedFate  Side.blue  Lane.top_lane   \n",
       "2            2           4         12        Ziggs  Side.blue  Lane.bot_lane   \n",
       "3            3           4          7        Senna   Side.red  Lane.bot_lane   \n",
       "5            5           4         11       Rengar   Side.red    Lane.jungle   \n",
       "6            6           4         12        Ziggs  Side.blue  Lane.bot_lane   \n",
       "7            7           4         14        Karma  Side.blue   Lane.utility   \n",
       "8            8           3          4         Zyra   Side.red   Lane.utility   \n",
       "9            9           4         12       Graves   Side.red  Lane.mid_lane   \n",
       "10          10          11          4         Olaf  Side.blue    Lane.jungle   \n",
       "11          11          14         12         Kled   Side.red  Lane.top_lane   \n",
       "\n",
       "    assists  damage_amount  towers_damage  rooms_damage  ...  \\\n",
       "0       9.0           1862           5119          1862  ...   \n",
       "2       3.0            543           2754           543  ...   \n",
       "3       4.0           1547           1547          1547  ...   \n",
       "5       7.0           1564          16053          1564  ...   \n",
       "6       9.0          19665          20431         19665  ...   \n",
       "7       4.0            740            997           740  ...   \n",
       "8       8.0              0            123             0  ...   \n",
       "9       5.0           3277           3277          3277  ...   \n",
       "10      3.0              0           7063             0  ...   \n",
       "11      3.0           3646           4463          3646  ...   \n",
       "\n",
       "    kill_death_ratio  kills_total  level  controlling_time  total_damage  \\\n",
       "0           1.222222            2     13                19         99079   \n",
       "2           1.750000            4     12                11        106757   \n",
       "3           1.000000            2     12                14         53993   \n",
       "5           3.500000            7     14                14        128646   \n",
       "6           5.333333            7     12                11        123192   \n",
       "7           5.000000            1     10                17         18138   \n",
       "8           0.900000            1     12                49         32425   \n",
       "9           1.800000            4     12                19        109150   \n",
       "10          0.500000            2     13                12        106474   \n",
       "11          0.636364            4     14                 7        119522   \n",
       "\n",
       "    earned_damage  special_enemy_killed  room_kills  main_score  win_or_defeat  \n",
       "0           25062                   149           1          21          False  \n",
       "2           10049                   168           0          11          False  \n",
       "3           12480                   129           1          11          False  \n",
       "5           40236                    27           1          17           True  \n",
       "6            8057                   140           4           9           True  \n",
       "7            3414                    25           0          38          False  \n",
       "8           24632                    30           0          91          False  \n",
       "9           13704                   162           1          15          False  \n",
       "10          38614                    19           0          29          False  \n",
       "11          41289                   178           0          13          False  \n",
       "\n",
       "[10 rows x 22 columns]"
      ]
     },
     "execution_count": 7,
     "metadata": {},
     "output_type": "execute_result"
    }
   ],
   "source": [
    "df= df.dropna()\n",
    "df= df.drop_duplicates()\n",
    "\n",
    "# kurtosis\n",
    "num_df= df.select_dtypes(include='number')\n",
    "print('Kurtosis information:\\n', num_df.kurtosis())\n",
    "\n",
    "# Access the IQR information from the report\n",
    "print(\"\\n\\nIQR information:\\n\", num_df.quantile(0.75)-num_df.quantile(0.25), '\\n')\n",
    "\n",
    "df.head(10)"
   ]
  },
  {
   "cell_type": "markdown",
   "id": "b110cb17",
   "metadata": {
    "id": "KgSInOX3dLsy",
    "papermill": {
     "duration": 0.09044,
     "end_time": "2023-12-17T10:19:55.477697",
     "exception": false,
     "start_time": "2023-12-17T10:19:55.387257",
     "status": "completed"
    },
    "tags": []
   },
   "source": [
    "Calculate the mean, standard deviation, min and max value for each non object column. **(P1-2: 5 points)**"
   ]
  },
  {
   "cell_type": "code",
   "execution_count": 8,
   "id": "30c386db",
   "metadata": {
    "execution": {
     "iopub.execute_input": "2023-12-17T10:19:55.504517Z",
     "iopub.status.busy": "2023-12-17T10:19:55.504138Z",
     "iopub.status.idle": "2023-12-17T10:19:55.530781Z",
     "shell.execute_reply": "2023-12-17T10:19:55.529322Z"
    },
    "id": "Y-wpNz12dF3P",
    "outputId": "4f609f39-2dfd-4e2c-bc85-0645366e4a7b",
    "papermill": {
     "duration": 0.044085,
     "end_time": "2023-12-17T10:19:55.534056",
     "exception": false,
     "start_time": "2023-12-17T10:19:55.489971",
     "status": "completed"
    },
    "tags": []
   },
   "outputs": [
    {
     "data": {
      "text/html": [
       "<div>\n",
       "<style scoped>\n",
       "    .dataframe tbody tr th:only-of-type {\n",
       "        vertical-align: middle;\n",
       "    }\n",
       "\n",
       "    .dataframe tbody tr th {\n",
       "        vertical-align: top;\n",
       "    }\n",
       "\n",
       "    .dataframe thead th {\n",
       "        text-align: right;\n",
       "    }\n",
       "</style>\n",
       "<table border=\"1\" class=\"dataframe\">\n",
       "  <thead>\n",
       "    <tr style=\"text-align: right;\">\n",
       "      <th></th>\n",
       "      <th>Column</th>\n",
       "      <th>Mean</th>\n",
       "      <th>Min</th>\n",
       "      <th>Max</th>\n",
       "      <th>Std</th>\n",
       "    </tr>\n",
       "  </thead>\n",
       "  <tbody>\n",
       "    <tr>\n",
       "      <th>0</th>\n",
       "      <td>Unnamed: 0</td>\n",
       "      <td>2308.996098</td>\n",
       "      <td>0</td>\n",
       "      <td>4615</td>\n",
       "      <td>1331.809470</td>\n",
       "    </tr>\n",
       "    <tr>\n",
       "      <th>1</th>\n",
       "      <td>spell_used</td>\n",
       "      <td>6.707782</td>\n",
       "      <td>1</td>\n",
       "      <td>21</td>\n",
       "      <td>3.976734</td>\n",
       "    </tr>\n",
       "    <tr>\n",
       "      <th>2</th>\n",
       "      <td>trap_used</td>\n",
       "      <td>8.430739</td>\n",
       "      <td>1</td>\n",
       "      <td>21</td>\n",
       "      <td>4.312468</td>\n",
       "    </tr>\n",
       "    <tr>\n",
       "      <th>3</th>\n",
       "      <td>assists</td>\n",
       "      <td>8.189031</td>\n",
       "      <td>0.0</td>\n",
       "      <td>41.0</td>\n",
       "      <td>5.639756</td>\n",
       "    </tr>\n",
       "    <tr>\n",
       "      <th>4</th>\n",
       "      <td>damage_amount</td>\n",
       "      <td>2639.487752</td>\n",
       "      <td>0</td>\n",
       "      <td>44162</td>\n",
       "      <td>3194.783198</td>\n",
       "    </tr>\n",
       "    <tr>\n",
       "      <th>5</th>\n",
       "      <td>towers_damage</td>\n",
       "      <td>9382.315847</td>\n",
       "      <td>0</td>\n",
       "      <td>68474</td>\n",
       "      <td>10101.251927</td>\n",
       "    </tr>\n",
       "    <tr>\n",
       "      <th>6</th>\n",
       "      <td>rooms_damage</td>\n",
       "      <td>2639.487752</td>\n",
       "      <td>0</td>\n",
       "      <td>44162</td>\n",
       "      <td>3194.783198</td>\n",
       "    </tr>\n",
       "    <tr>\n",
       "      <th>7</th>\n",
       "      <td>deaths</td>\n",
       "      <td>5.740733</td>\n",
       "      <td>0</td>\n",
       "      <td>21</td>\n",
       "      <td>3.020094</td>\n",
       "    </tr>\n",
       "    <tr>\n",
       "      <th>8</th>\n",
       "      <td>money_total</td>\n",
       "      <td>10865.129850</td>\n",
       "      <td>3093</td>\n",
       "      <td>28566</td>\n",
       "      <td>3473.747695</td>\n",
       "    </tr>\n",
       "    <tr>\n",
       "      <th>9</th>\n",
       "      <td>kill_death_ratio</td>\n",
       "      <td>3.602712</td>\n",
       "      <td>0.0</td>\n",
       "      <td>33.0</td>\n",
       "      <td>3.767723</td>\n",
       "    </tr>\n",
       "    <tr>\n",
       "      <th>10</th>\n",
       "      <td>kills_total</td>\n",
       "      <td>5.702580</td>\n",
       "      <td>0</td>\n",
       "      <td>30</td>\n",
       "      <td>4.317011</td>\n",
       "    </tr>\n",
       "    <tr>\n",
       "      <th>11</th>\n",
       "      <td>level</td>\n",
       "      <td>13.826794</td>\n",
       "      <td>6</td>\n",
       "      <td>18</td>\n",
       "      <td>2.373998</td>\n",
       "    </tr>\n",
       "    <tr>\n",
       "      <th>12</th>\n",
       "      <td>controlling_time</td>\n",
       "      <td>18.926295</td>\n",
       "      <td>0</td>\n",
       "      <td>193</td>\n",
       "      <td>14.080420</td>\n",
       "    </tr>\n",
       "    <tr>\n",
       "      <th>13</th>\n",
       "      <td>total_damage</td>\n",
       "      <td>117652.268806</td>\n",
       "      <td>5401</td>\n",
       "      <td>499423</td>\n",
       "      <td>70408.498868</td>\n",
       "    </tr>\n",
       "    <tr>\n",
       "      <th>14</th>\n",
       "      <td>earned_damage</td>\n",
       "      <td>21465.087145</td>\n",
       "      <td>2674</td>\n",
       "      <td>78861</td>\n",
       "      <td>9907.871328</td>\n",
       "    </tr>\n",
       "    <tr>\n",
       "      <th>15</th>\n",
       "      <td>special_enemy_killed</td>\n",
       "      <td>120.789725</td>\n",
       "      <td>0</td>\n",
       "      <td>440</td>\n",
       "      <td>83.739102</td>\n",
       "    </tr>\n",
       "    <tr>\n",
       "      <th>16</th>\n",
       "      <td>room_kills</td>\n",
       "      <td>1.032517</td>\n",
       "      <td>0</td>\n",
       "      <td>9</td>\n",
       "      <td>1.313180</td>\n",
       "    </tr>\n",
       "    <tr>\n",
       "      <th>17</th>\n",
       "      <td>main_score</td>\n",
       "      <td>30.158899</td>\n",
       "      <td>1</td>\n",
       "      <td>174</td>\n",
       "      <td>20.875652</td>\n",
       "    </tr>\n",
       "    <tr>\n",
       "      <th>18</th>\n",
       "      <td>win_or_defeat</td>\n",
       "      <td>0.492521</td>\n",
       "      <td>False</td>\n",
       "      <td>True</td>\n",
       "      <td>0.499998</td>\n",
       "    </tr>\n",
       "  </tbody>\n",
       "</table>\n",
       "</div>"
      ],
      "text/plain": [
       "                  Column           Mean    Min     Max           Std\n",
       "0             Unnamed: 0    2308.996098      0    4615   1331.809470\n",
       "1             spell_used       6.707782      1      21      3.976734\n",
       "2              trap_used       8.430739      1      21      4.312468\n",
       "3                assists       8.189031    0.0    41.0      5.639756\n",
       "4          damage_amount    2639.487752      0   44162   3194.783198\n",
       "5          towers_damage    9382.315847      0   68474  10101.251927\n",
       "6           rooms_damage    2639.487752      0   44162   3194.783198\n",
       "7                 deaths       5.740733      0      21      3.020094\n",
       "8            money_total   10865.129850   3093   28566   3473.747695\n",
       "9       kill_death_ratio       3.602712    0.0    33.0      3.767723\n",
       "10           kills_total       5.702580      0      30      4.317011\n",
       "11                 level      13.826794      6      18      2.373998\n",
       "12      controlling_time      18.926295      0     193     14.080420\n",
       "13          total_damage  117652.268806   5401  499423  70408.498868\n",
       "14         earned_damage   21465.087145   2674   78861   9907.871328\n",
       "15  special_enemy_killed     120.789725      0     440     83.739102\n",
       "16            room_kills       1.032517      0       9      1.313180\n",
       "17            main_score      30.158899      1     174     20.875652\n",
       "18         win_or_defeat       0.492521  False    True      0.499998"
      ]
     },
     "execution_count": 8,
     "metadata": {},
     "output_type": "execute_result"
    }
   ],
   "source": [
    "nobj_df= df.select_dtypes(exclude=['object'])\n",
    "data= []\n",
    "for col in nobj_df.columns:\n",
    "    data.append([col, nobj_df[col].mean(), nobj_df[col].min(), nobj_df[col].max(), nobj_df[col].std()])\n",
    "vals= pd.DataFrame(data, columns=['Column', 'Mean', 'Min', 'Max', 'Std'])\n",
    "vals"
   ]
  },
  {
   "cell_type": "markdown",
   "id": "7864e028",
   "metadata": {
    "id": "XRVUHls6dhQU",
    "papermill": {
     "duration": 0.013177,
     "end_time": "2023-12-17T10:19:55.560686",
     "exception": false,
     "start_time": "2023-12-17T10:19:55.547509",
     "status": "completed"
    },
    "tags": []
   },
   "source": [
    "# P2: Data Exploration (30 points)\n",
    "In this section, we perform some data exploration to get a better understanding of the data."
   ]
  },
  {
   "cell_type": "markdown",
   "id": "eed3ab86",
   "metadata": {
    "id": "_VxmVr5ne2gM",
    "papermill": {
     "duration": 0.012685,
     "end_time": "2023-12-17T10:19:55.586690",
     "exception": false,
     "start_time": "2023-12-17T10:19:55.574005",
     "status": "completed"
    },
    "tags": []
   },
   "source": [
    "1- Show number of unique value for `location` column **(P2-1: 5 points)**"
   ]
  },
  {
   "cell_type": "code",
   "execution_count": 9,
   "id": "5bc263e5",
   "metadata": {
    "execution": {
     "iopub.execute_input": "2023-12-17T10:19:55.614446Z",
     "iopub.status.busy": "2023-12-17T10:19:55.614009Z",
     "iopub.status.idle": "2023-12-17T10:19:55.622327Z",
     "shell.execute_reply": "2023-12-17T10:19:55.621171Z"
    },
    "id": "WY2dmJWBdNVx",
    "outputId": "d9de878e-d430-4739-9a7f-e606c423cb1f",
    "papermill": {
     "duration": 0.024743,
     "end_time": "2023-12-17T10:19:55.624358",
     "exception": false,
     "start_time": "2023-12-17T10:19:55.599615",
     "status": "completed"
    },
    "tags": []
   },
   "outputs": [
    {
     "data": {
      "text/plain": [
       "5"
      ]
     },
     "execution_count": 9,
     "metadata": {},
     "output_type": "execute_result"
    }
   ],
   "source": [
    "df['location'].nunique() "
   ]
  },
  {
   "cell_type": "markdown",
   "id": "8d809501",
   "metadata": {
    "id": "oOgJwjeDfRk_",
    "papermill": {
     "duration": 0.012955,
     "end_time": "2023-12-17T10:19:55.651056",
     "exception": false,
     "start_time": "2023-12-17T10:19:55.638101",
     "status": "completed"
    },
    "tags": []
   },
   "source": [
    "2- Plot correlation matrix between features **(P2-2: 5 points)**"
   ]
  },
  {
   "cell_type": "code",
   "execution_count": 10,
   "id": "46e0733a",
   "metadata": {
    "execution": {
     "iopub.execute_input": "2023-12-17T10:19:55.678958Z",
     "iopub.status.busy": "2023-12-17T10:19:55.678565Z",
     "iopub.status.idle": "2023-12-17T10:19:56.192113Z",
     "shell.execute_reply": "2023-12-17T10:19:56.190636Z"
    },
    "id": "7h_TV2rifDLE",
    "outputId": "9f042a39-4998-4f21-817f-8c4c2fcbfb5e",
    "papermill": {
     "duration": 0.530783,
     "end_time": "2023-12-17T10:19:56.195141",
     "exception": false,
     "start_time": "2023-12-17T10:19:55.664358",
     "status": "completed"
    },
    "tags": []
   },
   "outputs": [
    {
     "data": {
      "text/plain": [
       "<Axes: >"
      ]
     },
     "execution_count": 10,
     "metadata": {},
     "output_type": "execute_result"
    },
    {
     "data": {
      "image/png": "[encoded data removed]",
      "text/plain": [
       "<Figure size 640x480 with 2 Axes>"
      ]
     },
     "metadata": {},
     "output_type": "display_data"
    }
   ],
   "source": [
    "sns.heatmap(nobj_df.corr())"
   ]
  },
  {
   "cell_type": "markdown",
   "id": "bfe97f22",
   "metadata": {
    "id": "li6TaUshsGE-",
    "papermill": {
     "duration": 0.012892,
     "end_time": "2023-12-17T10:19:56.221748",
     "exception": false,
     "start_time": "2023-12-17T10:19:56.208856",
     "status": "completed"
    },
    "tags": []
   },
   "source": [
    "3- Plot bar plot of combined `position` and `location` columns (hint: use crosstab in pandas) **(P2-3: 5 points)**"
   ]
  },
  {
   "cell_type": "code",
   "execution_count": 11,
   "id": "a4e8f2ac",
   "metadata": {
    "execution": {
     "iopub.execute_input": "2023-12-17T10:19:56.251130Z",
     "iopub.status.busy": "2023-12-17T10:19:56.250773Z",
     "iopub.status.idle": "2023-12-17T10:19:56.473778Z",
     "shell.execute_reply": "2023-12-17T10:19:56.472147Z"
    },
    "id": "TSUKApbHfeGb",
    "outputId": "02709840-1649-49d9-c49b-80f2a0d08042",
    "papermill": {
     "duration": 0.240372,
     "end_time": "2023-12-17T10:19:56.476298",
     "exception": false,
     "start_time": "2023-12-17T10:19:56.235926",
     "status": "completed"
    },
    "tags": []
   },
   "outputs": [
    {
     "data": {
      "image/png": "[encoded data removed]",
      "text/plain": [
       "<Figure size 640x480 with 1 Axes>"
      ]
     },
     "metadata": {},
     "output_type": "display_data"
    }
   ],
   "source": [
    "pd.crosstab(df['position'], df['location']).plot(kind='bar', stacked=True)\n",
    "plt.show()"
   ]
  },
  {
   "cell_type": "markdown",
   "id": "33d7e319",
   "metadata": {
    "id": "ewMPS0orttId",
    "papermill": {
     "duration": 0.014008,
     "end_time": "2023-12-17T10:19:56.504180",
     "exception": false,
     "start_time": "2023-12-17T10:19:56.490172",
     "status": "completed"
    },
    "tags": []
   },
   "source": [
    "4- Plot pie chart of `level` column **(P2-4: 5 points)**"
   ]
  },
  {
   "cell_type": "code",
   "execution_count": 12,
   "id": "918d7f82",
   "metadata": {
    "execution": {
     "iopub.execute_input": "2023-12-17T10:19:56.540213Z",
     "iopub.status.busy": "2023-12-17T10:19:56.539718Z",
     "iopub.status.idle": "2023-12-17T10:19:56.720681Z",
     "shell.execute_reply": "2023-12-17T10:19:56.719331Z"
    },
    "id": "QYpHnLKPswqa",
    "outputId": "9e7e303b-fc10-4c40-e7f4-be05ab8e0cf2",
    "papermill": {
     "duration": 0.205728,
     "end_time": "2023-12-17T10:19:56.726150",
     "exception": false,
     "start_time": "2023-12-17T10:19:56.520422",
     "status": "completed"
    },
    "tags": []
   },
   "outputs": [
    {
     "data": {
      "image/png": "[encoded data removed]",
      "text/plain": [
       "<Figure size 640x480 with 1 Axes>"
      ]
     },
     "metadata": {},
     "output_type": "display_data"
    }
   ],
   "source": [
    "labels= df['level'].unique()\n",
    "values=[];\n",
    "for u in labels:\n",
    "    count= df['level'].value_counts()[u]\n",
    "    values.append(count)\n",
    "    \n",
    "plt.pie(values, labels= labels, autopct='%1.1f%%')\n",
    "plt.show() "
   ]
  },
  {
   "cell_type": "markdown",
   "id": "d7b0d486",
   "metadata": {
    "id": "r1s9bYUvuPra",
    "papermill": {
     "duration": 0.018642,
     "end_time": "2023-12-17T10:19:56.763435",
     "exception": false,
     "start_time": "2023-12-17T10:19:56.744793",
     "status": "completed"
    },
    "tags": []
   },
   "source": [
    "5- Plot box-plot on combination of `location` and `earned_damage` columns **(P2-5: 5 points)**"
   ]
  },
  {
   "cell_type": "code",
   "execution_count": 13,
   "id": "d199c9f3",
   "metadata": {
    "execution": {
     "iopub.execute_input": "2023-12-17T10:19:56.801689Z",
     "iopub.status.busy": "2023-12-17T10:19:56.801195Z",
     "iopub.status.idle": "2023-12-17T10:19:57.054244Z",
     "shell.execute_reply": "2023-12-17T10:19:57.052984Z"
    },
    "id": "33XJ6aFSt_GH",
    "outputId": "d095e891-3801-4fbb-c090-a5a4f1f584b6",
    "papermill": {
     "duration": 0.274612,
     "end_time": "2023-12-17T10:19:57.057044",
     "exception": false,
     "start_time": "2023-12-17T10:19:56.782432",
     "status": "completed"
    },
    "tags": []
   },
   "outputs": [
    {
     "data": {
      "text/plain": [
       "<Axes: xlabel='location', ylabel='earned_damage'>"
      ]
     },
     "execution_count": 13,
     "metadata": {},
     "output_type": "execute_result"
    },
    {
     "data": {
      "image/png": "[encoded data removed]",
      "text/plain": [
       "<Figure size 640x480 with 1 Axes>"
      ]
     },
     "metadata": {},
     "output_type": "display_data"
    }
   ],
   "source": [
    "sns.boxplot(x='location', y='earned_damage', data=df)"
   ]
  },
  {
   "cell_type": "markdown",
   "id": "f5bce337",
   "metadata": {
    "id": "XzPlMdyNwhGM",
    "papermill": {
     "duration": 0.014675,
     "end_time": "2023-12-17T10:19:57.087526",
     "exception": false,
     "start_time": "2023-12-17T10:19:57.072851",
     "status": "completed"
    },
    "tags": []
   },
   "source": [
    "6- Plot histplot of `spell_used` column (10 bins). **(P2-6: 5 points)**"
   ]
  },
  {
   "cell_type": "code",
   "execution_count": 14,
   "id": "18532637",
   "metadata": {
    "execution": {
     "iopub.execute_input": "2023-12-17T10:19:57.119946Z",
     "iopub.status.busy": "2023-12-17T10:19:57.119461Z",
     "iopub.status.idle": "2023-12-17T10:19:57.419776Z",
     "shell.execute_reply": "2023-12-17T10:19:57.418339Z"
    },
    "id": "ChQm1Syzvxha",
    "outputId": "04c36b09-0c19-461a-80da-bf010c5e8109",
    "papermill": {
     "duration": 0.320027,
     "end_time": "2023-12-17T10:19:57.421991",
     "exception": false,
     "start_time": "2023-12-17T10:19:57.101964",
     "status": "completed"
    },
    "tags": []
   },
   "outputs": [
    {
     "data": {
      "text/plain": [
       "<Axes: xlabel='spell_used', ylabel='Count'>"
      ]
     },
     "execution_count": 14,
     "metadata": {},
     "output_type": "execute_result"
    },
    {
     "data": {
      "image/png": "[encoded data removed]",
      "text/plain": [
       "<Figure size 640x480 with 1 Axes>"
      ]
     },
     "metadata": {},
     "output_type": "display_data"
    }
   ],
   "source": [
    "sns.histplot(df['spell_used'], kde=True)"
   ]
  },
  {
   "cell_type": "markdown",
   "id": "57a6551c",
   "metadata": {
    "id": "ZxgzNduq8AuK",
    "papermill": {
     "duration": 0.01517,
     "end_time": "2023-12-17T10:19:57.453387",
     "exception": false,
     "start_time": "2023-12-17T10:19:57.438217",
     "status": "completed"
    },
    "tags": []
   },
   "source": [
    "# P3: Pre-processing (15 points)\n",
    "In this section, we perform some pre-processing to make the data ready for model."
   ]
  },
  {
   "cell_type": "markdown",
   "id": "6f86ac9a",
   "metadata": {
    "id": "9DqB3RGC9Pok",
    "papermill": {
     "duration": 0.015061,
     "end_time": "2023-12-17T10:19:57.483541",
     "exception": false,
     "start_time": "2023-12-17T10:19:57.468480",
     "status": "completed"
    },
    "tags": []
   },
   "source": [
    "First of all, in your heatmap, there are some variables that have very low correlation with your dependent variable. You can delete those features that their absulote value of correlation with dependent variable is less than 0.015. **(P3-1: 5 points)**"
   ]
  },
  {
   "cell_type": "code",
   "execution_count": 15,
   "id": "b6b9dd3a",
   "metadata": {
    "execution": {
     "iopub.execute_input": "2023-12-17T10:19:57.516521Z",
     "iopub.status.busy": "2023-12-17T10:19:57.516054Z",
     "iopub.status.idle": "2023-12-17T10:19:57.973714Z",
     "shell.execute_reply": "2023-12-17T10:19:57.972393Z"
    },
    "id": "cY9TnD8owtct",
    "papermill": {
     "duration": 0.477852,
     "end_time": "2023-12-17T10:19:57.976784",
     "exception": false,
     "start_time": "2023-12-17T10:19:57.498932",
     "status": "completed"
    },
    "tags": []
   },
   "outputs": [
    {
     "data": {
      "text/plain": [
       "<Axes: >"
      ]
     },
     "execution_count": 15,
     "metadata": {},
     "output_type": "execute_result"
    },
    {
     "data": {
      "image/png": "[encoded data removed]",
      "text/plain": [
       "<Figure size 640x480 with 2 Axes>"
      ]
     },
     "metadata": {},
     "output_type": "display_data"
    }
   ],
   "source": [
    "target= 'win_or_defeat'\n",
    "corr= nobj_df.corr()\n",
    "numeric= corr[abs(corr[target])>=0.015][target].index.to_list()\n",
    "processed_df= df[numeric]\n",
    "\n",
    "sns.heatmap(processed_df.corr())"
   ]
  },
  {
   "cell_type": "markdown",
   "id": "88802ec0",
   "metadata": {
    "id": "fjnsiKnf_ZaQ",
    "papermill": {
     "duration": 0.021273,
     "end_time": "2023-12-17T10:19:58.014230",
     "exception": false,
     "start_time": "2023-12-17T10:19:57.992957",
     "status": "completed"
    },
    "tags": []
   },
   "source": [
    "Next step is to encode labels. Columns that are not numeric ('string' or 'object'), can't be given to the model, so you should convert them to numeric values <br> (hint: use sklearn LabelEncoder). **(P3-2: 5 points)**"
   ]
  },
  {
   "cell_type": "code",
   "execution_count": 16,
   "id": "94984e8e",
   "metadata": {
    "execution": {
     "iopub.execute_input": "2023-12-17T10:19:58.049250Z",
     "iopub.status.busy": "2023-12-17T10:19:58.048737Z",
     "iopub.status.idle": "2023-12-17T10:19:58.083240Z",
     "shell.execute_reply": "2023-12-17T10:19:58.081387Z"
    },
    "id": "FZIen4zG-ZTt",
    "papermill": {
     "duration": 0.054484,
     "end_time": "2023-12-17T10:19:58.085276",
     "exception": false,
     "start_time": "2023-12-17T10:19:58.030792",
     "status": "completed"
    },
    "tags": []
   },
   "outputs": [
    {
     "name": "stderr",
     "output_type": "stream",
     "text": [
      "/tmp/ipykernel_19/952984221.py:6: SettingWithCopyWarning: \n",
      "A value is trying to be set on a copy of a slice from a DataFrame.\n",
      "Try using .loc[row_indexer,col_indexer] = value instead\n",
      "\n",
      "See the caveats in the documentation: https://pandas.pydata.org/pandas-docs/stable/user_guide/indexing.html#returning-a-view-versus-a-copy\n",
      "  processed_df[col]= LabelEncoder().fit_transform(processed_df[col])\n",
      "/tmp/ipykernel_19/952984221.py:6: SettingWithCopyWarning: \n",
      "A value is trying to be set on a copy of a slice from a DataFrame.\n",
      "Try using .loc[row_indexer,col_indexer] = value instead\n",
      "\n",
      "See the caveats in the documentation: https://pandas.pydata.org/pandas-docs/stable/user_guide/indexing.html#returning-a-view-versus-a-copy\n",
      "  processed_df[col]= LabelEncoder().fit_transform(processed_df[col])\n",
      "/tmp/ipykernel_19/952984221.py:6: SettingWithCopyWarning: \n",
      "A value is trying to be set on a copy of a slice from a DataFrame.\n",
      "Try using .loc[row_indexer,col_indexer] = value instead\n",
      "\n",
      "See the caveats in the documentation: https://pandas.pydata.org/pandas-docs/stable/user_guide/indexing.html#returning-a-view-versus-a-copy\n",
      "  processed_df[col]= LabelEncoder().fit_transform(processed_df[col])\n"
     ]
    },
    {
     "data": {
      "text/html": [
       "<div>\n",
       "<style scoped>\n",
       "    .dataframe tbody tr th:only-of-type {\n",
       "        vertical-align: middle;\n",
       "    }\n",
       "\n",
       "    .dataframe tbody tr th {\n",
       "        vertical-align: top;\n",
       "    }\n",
       "\n",
       "    .dataframe thead th {\n",
       "        text-align: right;\n",
       "    }\n",
       "</style>\n",
       "<table border=\"1\" class=\"dataframe\">\n",
       "  <thead>\n",
       "    <tr style=\"text-align: right;\">\n",
       "      <th></th>\n",
       "      <th>trap_used</th>\n",
       "      <th>assists</th>\n",
       "      <th>damage_amount</th>\n",
       "      <th>towers_damage</th>\n",
       "      <th>rooms_damage</th>\n",
       "      <th>deaths</th>\n",
       "      <th>money_total</th>\n",
       "      <th>kill_death_ratio</th>\n",
       "      <th>kills_total</th>\n",
       "      <th>level</th>\n",
       "      <th>controlling_time</th>\n",
       "      <th>total_damage</th>\n",
       "      <th>earned_damage</th>\n",
       "      <th>special_enemy_killed</th>\n",
       "      <th>room_kills</th>\n",
       "      <th>main_score</th>\n",
       "      <th>win_or_defeat</th>\n",
       "      <th>character</th>\n",
       "      <th>position</th>\n",
       "      <th>location</th>\n",
       "    </tr>\n",
       "  </thead>\n",
       "  <tbody>\n",
       "    <tr>\n",
       "      <th>0</th>\n",
       "      <td>12</td>\n",
       "      <td>9.0</td>\n",
       "      <td>1862</td>\n",
       "      <td>5119</td>\n",
       "      <td>1862</td>\n",
       "      <td>9</td>\n",
       "      <td>9152</td>\n",
       "      <td>1.222222</td>\n",
       "      <td>2</td>\n",
       "      <td>13</td>\n",
       "      <td>19</td>\n",
       "      <td>99079</td>\n",
       "      <td>25062</td>\n",
       "      <td>149</td>\n",
       "      <td>1</td>\n",
       "      <td>21</td>\n",
       "      <td>False</td>\n",
       "      <td>129</td>\n",
       "      <td>0</td>\n",
       "      <td>3</td>\n",
       "    </tr>\n",
       "    <tr>\n",
       "      <th>2</th>\n",
       "      <td>12</td>\n",
       "      <td>3.0</td>\n",
       "      <td>543</td>\n",
       "      <td>2754</td>\n",
       "      <td>543</td>\n",
       "      <td>4</td>\n",
       "      <td>9014</td>\n",
       "      <td>1.750000</td>\n",
       "      <td>4</td>\n",
       "      <td>12</td>\n",
       "      <td>11</td>\n",
       "      <td>106757</td>\n",
       "      <td>10049</td>\n",
       "      <td>168</td>\n",
       "      <td>0</td>\n",
       "      <td>11</td>\n",
       "      <td>False</td>\n",
       "      <td>153</td>\n",
       "      <td>0</td>\n",
       "      <td>0</td>\n",
       "    </tr>\n",
       "    <tr>\n",
       "      <th>3</th>\n",
       "      <td>7</td>\n",
       "      <td>4.0</td>\n",
       "      <td>1547</td>\n",
       "      <td>1547</td>\n",
       "      <td>1547</td>\n",
       "      <td>6</td>\n",
       "      <td>8155</td>\n",
       "      <td>1.000000</td>\n",
       "      <td>2</td>\n",
       "      <td>12</td>\n",
       "      <td>14</td>\n",
       "      <td>53993</td>\n",
       "      <td>12480</td>\n",
       "      <td>129</td>\n",
       "      <td>1</td>\n",
       "      <td>11</td>\n",
       "      <td>False</td>\n",
       "      <td>105</td>\n",
       "      <td>1</td>\n",
       "      <td>0</td>\n",
       "    </tr>\n",
       "    <tr>\n",
       "      <th>5</th>\n",
       "      <td>11</td>\n",
       "      <td>7.0</td>\n",
       "      <td>1564</td>\n",
       "      <td>16053</td>\n",
       "      <td>1564</td>\n",
       "      <td>4</td>\n",
       "      <td>11536</td>\n",
       "      <td>3.500000</td>\n",
       "      <td>7</td>\n",
       "      <td>14</td>\n",
       "      <td>14</td>\n",
       "      <td>128646</td>\n",
       "      <td>40236</td>\n",
       "      <td>27</td>\n",
       "      <td>1</td>\n",
       "      <td>17</td>\n",
       "      <td>True</td>\n",
       "      <td>99</td>\n",
       "      <td>1</td>\n",
       "      <td>1</td>\n",
       "    </tr>\n",
       "    <tr>\n",
       "      <th>6</th>\n",
       "      <td>12</td>\n",
       "      <td>9.0</td>\n",
       "      <td>19665</td>\n",
       "      <td>20431</td>\n",
       "      <td>19665</td>\n",
       "      <td>3</td>\n",
       "      <td>10699</td>\n",
       "      <td>5.333333</td>\n",
       "      <td>7</td>\n",
       "      <td>12</td>\n",
       "      <td>11</td>\n",
       "      <td>123192</td>\n",
       "      <td>8057</td>\n",
       "      <td>140</td>\n",
       "      <td>4</td>\n",
       "      <td>9</td>\n",
       "      <td>True</td>\n",
       "      <td>153</td>\n",
       "      <td>0</td>\n",
       "      <td>0</td>\n",
       "    </tr>\n",
       "    <tr>\n",
       "      <th>...</th>\n",
       "      <td>...</td>\n",
       "      <td>...</td>\n",
       "      <td>...</td>\n",
       "      <td>...</td>\n",
       "      <td>...</td>\n",
       "      <td>...</td>\n",
       "      <td>...</td>\n",
       "      <td>...</td>\n",
       "      <td>...</td>\n",
       "      <td>...</td>\n",
       "      <td>...</td>\n",
       "      <td>...</td>\n",
       "      <td>...</td>\n",
       "      <td>...</td>\n",
       "      <td>...</td>\n",
       "      <td>...</td>\n",
       "      <td>...</td>\n",
       "      <td>...</td>\n",
       "      <td>...</td>\n",
       "      <td>...</td>\n",
       "    </tr>\n",
       "    <tr>\n",
       "      <th>4611</th>\n",
       "      <td>1</td>\n",
       "      <td>10.0</td>\n",
       "      <td>4566</td>\n",
       "      <td>4566</td>\n",
       "      <td>4566</td>\n",
       "      <td>13</td>\n",
       "      <td>16116</td>\n",
       "      <td>1.384615</td>\n",
       "      <td>8</td>\n",
       "      <td>16</td>\n",
       "      <td>1</td>\n",
       "      <td>205910</td>\n",
       "      <td>30872</td>\n",
       "      <td>233</td>\n",
       "      <td>1</td>\n",
       "      <td>21</td>\n",
       "      <td>True</td>\n",
       "      <td>68</td>\n",
       "      <td>0</td>\n",
       "      <td>0</td>\n",
       "    </tr>\n",
       "    <tr>\n",
       "      <th>4612</th>\n",
       "      <td>14</td>\n",
       "      <td>15.0</td>\n",
       "      <td>157</td>\n",
       "      <td>10546</td>\n",
       "      <td>157</td>\n",
       "      <td>9</td>\n",
       "      <td>10825</td>\n",
       "      <td>1.888889</td>\n",
       "      <td>2</td>\n",
       "      <td>15</td>\n",
       "      <td>33</td>\n",
       "      <td>117028</td>\n",
       "      <td>31163</td>\n",
       "      <td>110</td>\n",
       "      <td>0</td>\n",
       "      <td>21</td>\n",
       "      <td>True</td>\n",
       "      <td>85</td>\n",
       "      <td>1</td>\n",
       "      <td>2</td>\n",
       "    </tr>\n",
       "    <tr>\n",
       "      <th>4613</th>\n",
       "      <td>6</td>\n",
       "      <td>8.0</td>\n",
       "      <td>5166</td>\n",
       "      <td>34572</td>\n",
       "      <td>5166</td>\n",
       "      <td>3</td>\n",
       "      <td>11959</td>\n",
       "      <td>6.333333</td>\n",
       "      <td>11</td>\n",
       "      <td>14</td>\n",
       "      <td>16</td>\n",
       "      <td>160912</td>\n",
       "      <td>24589</td>\n",
       "      <td>29</td>\n",
       "      <td>2</td>\n",
       "      <td>22</td>\n",
       "      <td>True</td>\n",
       "      <td>39</td>\n",
       "      <td>0</td>\n",
       "      <td>1</td>\n",
       "    </tr>\n",
       "    <tr>\n",
       "      <th>4614</th>\n",
       "      <td>4</td>\n",
       "      <td>3.0</td>\n",
       "      <td>11545</td>\n",
       "      <td>15434</td>\n",
       "      <td>11545</td>\n",
       "      <td>3</td>\n",
       "      <td>14657</td>\n",
       "      <td>2.666667</td>\n",
       "      <td>5</td>\n",
       "      <td>17</td>\n",
       "      <td>16</td>\n",
       "      <td>212560</td>\n",
       "      <td>19238</td>\n",
       "      <td>263</td>\n",
       "      <td>5</td>\n",
       "      <td>38</td>\n",
       "      <td>True</td>\n",
       "      <td>132</td>\n",
       "      <td>0</td>\n",
       "      <td>3</td>\n",
       "    </tr>\n",
       "    <tr>\n",
       "      <th>4615</th>\n",
       "      <td>4</td>\n",
       "      <td>10.0</td>\n",
       "      <td>425</td>\n",
       "      <td>688</td>\n",
       "      <td>425</td>\n",
       "      <td>5</td>\n",
       "      <td>8912</td>\n",
       "      <td>2.800000</td>\n",
       "      <td>4</td>\n",
       "      <td>12</td>\n",
       "      <td>59</td>\n",
       "      <td>27475</td>\n",
       "      <td>15054</td>\n",
       "      <td>32</td>\n",
       "      <td>0</td>\n",
       "      <td>91</td>\n",
       "      <td>True</td>\n",
       "      <td>73</td>\n",
       "      <td>0</td>\n",
       "      <td>4</td>\n",
       "    </tr>\n",
       "  </tbody>\n",
       "</table>\n",
       "<p>4613 rows × 20 columns</p>\n",
       "</div>"
      ],
      "text/plain": [
       "      trap_used  assists  damage_amount  towers_damage  rooms_damage  deaths  \\\n",
       "0            12      9.0           1862           5119          1862       9   \n",
       "2            12      3.0            543           2754           543       4   \n",
       "3             7      4.0           1547           1547          1547       6   \n",
       "5            11      7.0           1564          16053          1564       4   \n",
       "6            12      9.0          19665          20431         19665       3   \n",
       "...         ...      ...            ...            ...           ...     ...   \n",
       "4611          1     10.0           4566           4566          4566      13   \n",
       "4612         14     15.0            157          10546           157       9   \n",
       "4613          6      8.0           5166          34572          5166       3   \n",
       "4614          4      3.0          11545          15434         11545       3   \n",
       "4615          4     10.0            425            688           425       5   \n",
       "\n",
       "      money_total  kill_death_ratio  kills_total  level  controlling_time  \\\n",
       "0            9152          1.222222            2     13                19   \n",
       "2            9014          1.750000            4     12                11   \n",
       "3            8155          1.000000            2     12                14   \n",
       "5           11536          3.500000            7     14                14   \n",
       "6           10699          5.333333            7     12                11   \n",
       "...           ...               ...          ...    ...               ...   \n",
       "4611        16116          1.384615            8     16                 1   \n",
       "4612        10825          1.888889            2     15                33   \n",
       "4613        11959          6.333333           11     14                16   \n",
       "4614        14657          2.666667            5     17                16   \n",
       "4615         8912          2.800000            4     12                59   \n",
       "\n",
       "      total_damage  earned_damage  special_enemy_killed  room_kills  \\\n",
       "0            99079          25062                   149           1   \n",
       "2           106757          10049                   168           0   \n",
       "3            53993          12480                   129           1   \n",
       "5           128646          40236                    27           1   \n",
       "6           123192           8057                   140           4   \n",
       "...            ...            ...                   ...         ...   \n",
       "4611        205910          30872                   233           1   \n",
       "4612        117028          31163                   110           0   \n",
       "4613        160912          24589                    29           2   \n",
       "4614        212560          19238                   263           5   \n",
       "4615         27475          15054                    32           0   \n",
       "\n",
       "      main_score  win_or_defeat  character  position  location  \n",
       "0             21          False        129         0         3  \n",
       "2             11          False        153         0         0  \n",
       "3             11          False        105         1         0  \n",
       "5             17           True         99         1         1  \n",
       "6              9           True        153         0         0  \n",
       "...          ...            ...        ...       ...       ...  \n",
       "4611          21           True         68         0         0  \n",
       "4612          21           True         85         1         2  \n",
       "4613          22           True         39         0         1  \n",
       "4614          38           True        132         0         3  \n",
       "4615          91           True         73         0         4  \n",
       "\n",
       "[4613 rows x 20 columns]"
      ]
     },
     "execution_count": 16,
     "metadata": {},
     "output_type": "execute_result"
    }
   ],
   "source": [
    "categorical= df.select_dtypes(include='object').columns.to_list()\n",
    "numeric.extend(categorical)\n",
    "processed_df= df[numeric]\n",
    "\n",
    "for col in categorical:\n",
    "    processed_df[col]= LabelEncoder().fit_transform(processed_df[col])\n",
    "processed_df"
   ]
  },
  {
   "cell_type": "markdown",
   "id": "1bdd701b",
   "metadata": {
    "id": "NBzy_IK3C9eW",
    "papermill": {
     "duration": 0.016472,
     "end_time": "2023-12-17T10:19:58.118436",
     "exception": false,
     "start_time": "2023-12-17T10:19:58.101964",
     "status": "completed"
    },
    "tags": []
   },
   "source": [
    "now we need to normalize columns of the dataframe which causes our model to converge better and prevent focusing on some specific number of columns. we use 'Z normalization' for this purpose.\n",
    "\n",
    "be careful not to normalize 'win_or_defeat' column!"
   ]
  },
  {
   "cell_type": "code",
   "execution_count": 17,
   "id": "c156e854",
   "metadata": {
    "execution": {
     "iopub.execute_input": "2023-12-17T10:19:58.153390Z",
     "iopub.status.busy": "2023-12-17T10:19:58.152953Z",
     "iopub.status.idle": "2023-12-17T10:19:58.192876Z",
     "shell.execute_reply": "2023-12-17T10:19:58.191336Z"
    },
    "id": "GxzrZsHgQin6",
    "outputId": "5bdead6e-f8ed-47d4-940b-0e93b229c348",
    "papermill": {
     "duration": 0.061114,
     "end_time": "2023-12-17T10:19:58.195979",
     "exception": false,
     "start_time": "2023-12-17T10:19:58.134865",
     "status": "completed"
    },
    "tags": []
   },
   "outputs": [
    {
     "name": "stderr",
     "output_type": "stream",
     "text": [
      "/tmp/ipykernel_19/552422723.py:2: SettingWithCopyWarning: \n",
      "A value is trying to be set on a copy of a slice from a DataFrame.\n",
      "Try using .loc[row_indexer,col_indexer] = value instead\n",
      "\n",
      "See the caveats in the documentation: https://pandas.pydata.org/pandas-docs/stable/user_guide/indexing.html#returning-a-view-versus-a-copy\n",
      "  processed_df[norm_indx]= StandardScaler().fit_transform(processed_df[norm_indx])\n"
     ]
    },
    {
     "data": {
      "text/html": [
       "<div>\n",
       "<style scoped>\n",
       "    .dataframe tbody tr th:only-of-type {\n",
       "        vertical-align: middle;\n",
       "    }\n",
       "\n",
       "    .dataframe tbody tr th {\n",
       "        vertical-align: top;\n",
       "    }\n",
       "\n",
       "    .dataframe thead th {\n",
       "        text-align: right;\n",
       "    }\n",
       "</style>\n",
       "<table border=\"1\" class=\"dataframe\">\n",
       "  <thead>\n",
       "    <tr style=\"text-align: right;\">\n",
       "      <th></th>\n",
       "      <th>trap_used</th>\n",
       "      <th>assists</th>\n",
       "      <th>damage_amount</th>\n",
       "      <th>towers_damage</th>\n",
       "      <th>rooms_damage</th>\n",
       "      <th>deaths</th>\n",
       "      <th>money_total</th>\n",
       "      <th>kill_death_ratio</th>\n",
       "      <th>kills_total</th>\n",
       "      <th>level</th>\n",
       "      <th>controlling_time</th>\n",
       "      <th>total_damage</th>\n",
       "      <th>earned_damage</th>\n",
       "      <th>special_enemy_killed</th>\n",
       "      <th>room_kills</th>\n",
       "      <th>main_score</th>\n",
       "      <th>win_or_defeat</th>\n",
       "      <th>character</th>\n",
       "      <th>position</th>\n",
       "      <th>location</th>\n",
       "    </tr>\n",
       "  </thead>\n",
       "  <tbody>\n",
       "    <tr>\n",
       "      <th>0</th>\n",
       "      <td>0.827751</td>\n",
       "      <td>0.143811</td>\n",
       "      <td>-0.243388</td>\n",
       "      <td>-0.422104</td>\n",
       "      <td>-0.243388</td>\n",
       "      <td>1.079311</td>\n",
       "      <td>-0.493218</td>\n",
       "      <td>-0.631880</td>\n",
       "      <td>-0.857765</td>\n",
       "      <td>-0.348308</td>\n",
       "      <td>0.005235</td>\n",
       "      <td>-0.263822</td>\n",
       "      <td>0.363075</td>\n",
       "      <td>0.336919</td>\n",
       "      <td>-0.024765</td>\n",
       "      <td>-0.438784</td>\n",
       "      <td>False</td>\n",
       "      <td>1.135156</td>\n",
       "      <td>-0.985152</td>\n",
       "      <td>0.731026</td>\n",
       "    </tr>\n",
       "    <tr>\n",
       "      <th>2</th>\n",
       "      <td>0.827751</td>\n",
       "      <td>-0.920181</td>\n",
       "      <td>-0.656293</td>\n",
       "      <td>-0.656259</td>\n",
       "      <td>-0.656293</td>\n",
       "      <td>-0.576446</td>\n",
       "      <td>-0.532949</td>\n",
       "      <td>-0.491786</td>\n",
       "      <td>-0.394431</td>\n",
       "      <td>-0.769585</td>\n",
       "      <td>-0.562991</td>\n",
       "      <td>-0.154760</td>\n",
       "      <td>-1.152349</td>\n",
       "      <td>0.563839</td>\n",
       "      <td>-0.786357</td>\n",
       "      <td>-0.917862</td>\n",
       "      <td>False</td>\n",
       "      <td>1.671426</td>\n",
       "      <td>-0.985152</td>\n",
       "      <td>-1.416887</td>\n",
       "    </tr>\n",
       "    <tr>\n",
       "      <th>3</th>\n",
       "      <td>-0.331804</td>\n",
       "      <td>-0.742849</td>\n",
       "      <td>-0.341997</td>\n",
       "      <td>-0.775762</td>\n",
       "      <td>-0.341997</td>\n",
       "      <td>0.085857</td>\n",
       "      <td>-0.780259</td>\n",
       "      <td>-0.690867</td>\n",
       "      <td>-0.857765</td>\n",
       "      <td>-0.769585</td>\n",
       "      <td>-0.349906</td>\n",
       "      <td>-0.904240</td>\n",
       "      <td>-0.906962</td>\n",
       "      <td>0.098057</td>\n",
       "      <td>-0.024765</td>\n",
       "      <td>-0.917862</td>\n",
       "      <td>False</td>\n",
       "      <td>0.598886</td>\n",
       "      <td>1.015071</td>\n",
       "      <td>-1.416887</td>\n",
       "    </tr>\n",
       "    <tr>\n",
       "      <th>5</th>\n",
       "      <td>0.595840</td>\n",
       "      <td>-0.210853</td>\n",
       "      <td>-0.336675</td>\n",
       "      <td>0.660454</td>\n",
       "      <td>-0.336675</td>\n",
       "      <td>-0.576446</td>\n",
       "      <td>0.193147</td>\n",
       "      <td>-0.027264</td>\n",
       "      <td>0.300569</td>\n",
       "      <td>0.072968</td>\n",
       "      <td>-0.349906</td>\n",
       "      <td>0.156159</td>\n",
       "      <td>1.894751</td>\n",
       "      <td>-1.120144</td>\n",
       "      <td>-0.024765</td>\n",
       "      <td>-0.630415</td>\n",
       "      <td>True</td>\n",
       "      <td>0.464819</td>\n",
       "      <td>1.015071</td>\n",
       "      <td>-0.700916</td>\n",
       "    </tr>\n",
       "    <tr>\n",
       "      <th>6</th>\n",
       "      <td>0.827751</td>\n",
       "      <td>0.143811</td>\n",
       "      <td>5.329738</td>\n",
       "      <td>1.093912</td>\n",
       "      <td>5.329738</td>\n",
       "      <td>-0.907597</td>\n",
       "      <td>-0.047830</td>\n",
       "      <td>0.459378</td>\n",
       "      <td>0.300569</td>\n",
       "      <td>-0.769585</td>\n",
       "      <td>-0.562991</td>\n",
       "      <td>0.078688</td>\n",
       "      <td>-1.353423</td>\n",
       "      <td>0.229431</td>\n",
       "      <td>2.260014</td>\n",
       "      <td>-1.013678</td>\n",
       "      <td>True</td>\n",
       "      <td>1.671426</td>\n",
       "      <td>-0.985152</td>\n",
       "      <td>-1.416887</td>\n",
       "    </tr>\n",
       "    <tr>\n",
       "      <th>...</th>\n",
       "      <td>...</td>\n",
       "      <td>...</td>\n",
       "      <td>...</td>\n",
       "      <td>...</td>\n",
       "      <td>...</td>\n",
       "      <td>...</td>\n",
       "      <td>...</td>\n",
       "      <td>...</td>\n",
       "      <td>...</td>\n",
       "      <td>...</td>\n",
       "      <td>...</td>\n",
       "      <td>...</td>\n",
       "      <td>...</td>\n",
       "      <td>...</td>\n",
       "      <td>...</td>\n",
       "      <td>...</td>\n",
       "      <td>...</td>\n",
       "      <td>...</td>\n",
       "      <td>...</td>\n",
       "      <td>...</td>\n",
       "    </tr>\n",
       "    <tr>\n",
       "      <th>4611</th>\n",
       "      <td>-1.723270</td>\n",
       "      <td>0.321143</td>\n",
       "      <td>0.603084</td>\n",
       "      <td>-0.476856</td>\n",
       "      <td>0.603084</td>\n",
       "      <td>2.403916</td>\n",
       "      <td>1.511750</td>\n",
       "      <td>-0.588774</td>\n",
       "      <td>0.532236</td>\n",
       "      <td>0.915520</td>\n",
       "      <td>-1.273274</td>\n",
       "      <td>1.253646</td>\n",
       "      <td>0.949541</td>\n",
       "      <td>1.340144</td>\n",
       "      <td>-0.024765</td>\n",
       "      <td>-0.438784</td>\n",
       "      <td>True</td>\n",
       "      <td>-0.227863</td>\n",
       "      <td>-0.985152</td>\n",
       "      <td>-1.416887</td>\n",
       "    </tr>\n",
       "    <tr>\n",
       "      <th>4612</th>\n",
       "      <td>1.291572</td>\n",
       "      <td>1.207802</td>\n",
       "      <td>-0.777128</td>\n",
       "      <td>0.115214</td>\n",
       "      <td>-0.777128</td>\n",
       "      <td>1.079311</td>\n",
       "      <td>-0.011554</td>\n",
       "      <td>-0.454919</td>\n",
       "      <td>-0.857765</td>\n",
       "      <td>0.494244</td>\n",
       "      <td>0.999631</td>\n",
       "      <td>-0.008867</td>\n",
       "      <td>0.978915</td>\n",
       "      <td>-0.128863</td>\n",
       "      <td>-0.786357</td>\n",
       "      <td>-0.438784</td>\n",
       "      <td>True</td>\n",
       "      <td>0.151995</td>\n",
       "      <td>1.015071</td>\n",
       "      <td>0.015055</td>\n",
       "    </tr>\n",
       "    <tr>\n",
       "      <th>4613</th>\n",
       "      <td>-0.563715</td>\n",
       "      <td>-0.033521</td>\n",
       "      <td>0.790910</td>\n",
       "      <td>2.493989</td>\n",
       "      <td>0.790910</td>\n",
       "      <td>-0.907597</td>\n",
       "      <td>0.314930</td>\n",
       "      <td>0.724819</td>\n",
       "      <td>1.227237</td>\n",
       "      <td>0.072968</td>\n",
       "      <td>-0.207850</td>\n",
       "      <td>0.614477</td>\n",
       "      <td>0.315330</td>\n",
       "      <td>-1.096258</td>\n",
       "      <td>0.736828</td>\n",
       "      <td>-0.390876</td>\n",
       "      <td>True</td>\n",
       "      <td>-0.875856</td>\n",
       "      <td>-0.985152</td>\n",
       "      <td>-0.700916</td>\n",
       "    </tr>\n",
       "    <tr>\n",
       "      <th>4614</th>\n",
       "      <td>-1.027537</td>\n",
       "      <td>-0.920181</td>\n",
       "      <td>2.787819</td>\n",
       "      <td>0.599167</td>\n",
       "      <td>2.787819</td>\n",
       "      <td>-0.907597</td>\n",
       "      <td>1.091697</td>\n",
       "      <td>-0.248465</td>\n",
       "      <td>-0.162764</td>\n",
       "      <td>1.336796</td>\n",
       "      <td>-0.207850</td>\n",
       "      <td>1.348105</td>\n",
       "      <td>-0.224804</td>\n",
       "      <td>1.698438</td>\n",
       "      <td>3.021607</td>\n",
       "      <td>0.375651</td>\n",
       "      <td>True</td>\n",
       "      <td>1.202190</td>\n",
       "      <td>-0.985152</td>\n",
       "      <td>0.731026</td>\n",
       "    </tr>\n",
       "    <tr>\n",
       "      <th>4615</th>\n",
       "      <td>-1.027537</td>\n",
       "      <td>0.321143</td>\n",
       "      <td>-0.693233</td>\n",
       "      <td>-0.860810</td>\n",
       "      <td>-0.693233</td>\n",
       "      <td>-0.245295</td>\n",
       "      <td>-0.562315</td>\n",
       "      <td>-0.213073</td>\n",
       "      <td>-0.394431</td>\n",
       "      <td>-0.769585</td>\n",
       "      <td>2.846367</td>\n",
       "      <td>-1.280911</td>\n",
       "      <td>-0.647140</td>\n",
       "      <td>-1.060429</td>\n",
       "      <td>-0.786357</td>\n",
       "      <td>2.914769</td>\n",
       "      <td>True</td>\n",
       "      <td>-0.116141</td>\n",
       "      <td>-0.985152</td>\n",
       "      <td>1.446998</td>\n",
       "    </tr>\n",
       "  </tbody>\n",
       "</table>\n",
       "<p>4613 rows × 20 columns</p>\n",
       "</div>"
      ],
      "text/plain": [
       "      trap_used   assists  damage_amount  towers_damage  rooms_damage  \\\n",
       "0      0.827751  0.143811      -0.243388      -0.422104     -0.243388   \n",
       "2      0.827751 -0.920181      -0.656293      -0.656259     -0.656293   \n",
       "3     -0.331804 -0.742849      -0.341997      -0.775762     -0.341997   \n",
       "5      0.595840 -0.210853      -0.336675       0.660454     -0.336675   \n",
       "6      0.827751  0.143811       5.329738       1.093912      5.329738   \n",
       "...         ...       ...            ...            ...           ...   \n",
       "4611  -1.723270  0.321143       0.603084      -0.476856      0.603084   \n",
       "4612   1.291572  1.207802      -0.777128       0.115214     -0.777128   \n",
       "4613  -0.563715 -0.033521       0.790910       2.493989      0.790910   \n",
       "4614  -1.027537 -0.920181       2.787819       0.599167      2.787819   \n",
       "4615  -1.027537  0.321143      -0.693233      -0.860810     -0.693233   \n",
       "\n",
       "        deaths  money_total  kill_death_ratio  kills_total     level  \\\n",
       "0     1.079311    -0.493218         -0.631880    -0.857765 -0.348308   \n",
       "2    -0.576446    -0.532949         -0.491786    -0.394431 -0.769585   \n",
       "3     0.085857    -0.780259         -0.690867    -0.857765 -0.769585   \n",
       "5    -0.576446     0.193147         -0.027264     0.300569  0.072968   \n",
       "6    -0.907597    -0.047830          0.459378     0.300569 -0.769585   \n",
       "...        ...          ...               ...          ...       ...   \n",
       "4611  2.403916     1.511750         -0.588774     0.532236  0.915520   \n",
       "4612  1.079311    -0.011554         -0.454919    -0.857765  0.494244   \n",
       "4613 -0.907597     0.314930          0.724819     1.227237  0.072968   \n",
       "4614 -0.907597     1.091697         -0.248465    -0.162764  1.336796   \n",
       "4615 -0.245295    -0.562315         -0.213073    -0.394431 -0.769585   \n",
       "\n",
       "      controlling_time  total_damage  earned_damage  special_enemy_killed  \\\n",
       "0             0.005235     -0.263822       0.363075              0.336919   \n",
       "2            -0.562991     -0.154760      -1.152349              0.563839   \n",
       "3            -0.349906     -0.904240      -0.906962              0.098057   \n",
       "5            -0.349906      0.156159       1.894751             -1.120144   \n",
       "6            -0.562991      0.078688      -1.353423              0.229431   \n",
       "...                ...           ...            ...                   ...   \n",
       "4611         -1.273274      1.253646       0.949541              1.340144   \n",
       "4612          0.999631     -0.008867       0.978915             -0.128863   \n",
       "4613         -0.207850      0.614477       0.315330             -1.096258   \n",
       "4614         -0.207850      1.348105      -0.224804              1.698438   \n",
       "4615          2.846367     -1.280911      -0.647140             -1.060429   \n",
       "\n",
       "      room_kills  main_score  win_or_defeat  character  position  location  \n",
       "0      -0.024765   -0.438784          False   1.135156 -0.985152  0.731026  \n",
       "2      -0.786357   -0.917862          False   1.671426 -0.985152 -1.416887  \n",
       "3      -0.024765   -0.917862          False   0.598886  1.015071 -1.416887  \n",
       "5      -0.024765   -0.630415           True   0.464819  1.015071 -0.700916  \n",
       "6       2.260014   -1.013678           True   1.671426 -0.985152 -1.416887  \n",
       "...          ...         ...            ...        ...       ...       ...  \n",
       "4611   -0.024765   -0.438784           True  -0.227863 -0.985152 -1.416887  \n",
       "4612   -0.786357   -0.438784           True   0.151995  1.015071  0.015055  \n",
       "4613    0.736828   -0.390876           True  -0.875856 -0.985152 -0.700916  \n",
       "4614    3.021607    0.375651           True   1.202190 -0.985152  0.731026  \n",
       "4615   -0.786357    2.914769           True  -0.116141 -0.985152  1.446998  \n",
       "\n",
       "[4613 rows x 20 columns]"
      ]
     },
     "execution_count": 17,
     "metadata": {},
     "output_type": "execute_result"
    }
   ],
   "source": [
    "norm_indx= processed_df.columns[processed_df.columns!='win_or_defeat']\n",
    "processed_df[norm_indx]= StandardScaler().fit_transform(processed_df[norm_indx])\n",
    "processed_df"
   ]
  },
  {
   "cell_type": "markdown",
   "id": "9016fe80",
   "metadata": {
    "id": "WU26vBmUjRci",
    "papermill": {
     "duration": 0.016664,
     "end_time": "2023-12-17T10:19:58.229672",
     "exception": false,
     "start_time": "2023-12-17T10:19:58.213008",
     "status": "completed"
    },
    "tags": []
   },
   "source": [
    "# P4: Regression Model (30 points)\n",
    "\n",
    "Split the data to train, test, and validation using sklearn's `train_test_split`. Use 10% of the data for the testing phase, another 10% for the validation phase, and the remaining for the training phase."
   ]
  },
  {
   "cell_type": "code",
   "execution_count": 18,
   "id": "45d6c86d",
   "metadata": {
    "execution": {
     "iopub.execute_input": "2023-12-17T10:19:58.266018Z",
     "iopub.status.busy": "2023-12-17T10:19:58.265529Z",
     "iopub.status.idle": "2023-12-17T10:19:58.282959Z",
     "shell.execute_reply": "2023-12-17T10:19:58.281056Z"
    },
    "id": "Yq6eeJ_-AUxs",
    "papermill": {
     "duration": 0.039588,
     "end_time": "2023-12-17T10:19:58.285860",
     "exception": false,
     "start_time": "2023-12-17T10:19:58.246272",
     "status": "completed"
    },
    "tags": []
   },
   "outputs": [],
   "source": [
    "x= processed_df.drop('win_or_defeat' ,axis= 1, inplace= False)\n",
    "y= processed_df['win_or_defeat']\n",
    "\n",
    "x_train, x_val_test, y_train, y_val_test = train_test_split(x, y, test_size=0.2, random_state=42)\n",
    "x_val, x_test, y_val, y_test = train_test_split(x_val_test, y_val_test, test_size=0.5, random_state=42)"
   ]
  },
  {
   "cell_type": "markdown",
   "id": "0eeae0d8",
   "metadata": {
    "id": "ljMClvznjqWU",
    "papermill": {
     "duration": 0.016075,
     "end_time": "2023-12-17T10:19:58.318818",
     "exception": false,
     "start_time": "2023-12-17T10:19:58.302743",
     "status": "completed"
    },
    "tags": []
   },
   "source": [
    "### Custom Regression Model\n",
    "\n",
    "1- Complete custom logistic regression functions below **(P4-1: 10 points)**"
   ]
  },
  {
   "cell_type": "code",
   "execution_count": 19,
   "id": "ae146e6b",
   "metadata": {
    "execution": {
     "iopub.execute_input": "2023-12-17T10:19:58.355014Z",
     "iopub.status.busy": "2023-12-17T10:19:58.354641Z",
     "iopub.status.idle": "2023-12-17T10:19:58.368244Z",
     "shell.execute_reply": "2023-12-17T10:19:58.366256Z"
    },
    "id": "xGpfdK77kCS7",
    "papermill": {
     "duration": 0.034179,
     "end_time": "2023-12-17T10:19:58.370978",
     "exception": false,
     "start_time": "2023-12-17T10:19:58.336799",
     "status": "completed"
    },
    "tags": []
   },
   "outputs": [],
   "source": [
    "from sklearn.metrics import accuracy_score\n",
    "\n",
    "class CustomLogisticRegression():\n",
    "    def __init__(self, learning_rate=0.01, num_iterations=1000):\n",
    "        self.learning_rate = learning_rate\n",
    "        self.num_iterations = num_iterations\n",
    "        self.bias = None\n",
    "        self.weights = None\n",
    "\n",
    "    def sigmoid(self, z):\n",
    "        return (1/(1+np.exp(-z)))\n",
    "    \n",
    "    def loss(self, X, y):\n",
    "        h= self.sigmoid(np.dot(X, self.weights)+self.bias)\n",
    "        return ((np.dot(y.T, np.log(h))+ np.dot((1-y).T, np.log(1-h)))/(-X.shape[0]))\n",
    "\n",
    "    def loss_backward(self, X, y):\n",
    "        h= self.sigmoid(np.dot(X, self.weights) + self.bias)\n",
    "        m= X.shape[0]\n",
    "        \n",
    "        dw= np.dot(X.T, (h-y))/m\n",
    "        db= np.sum(h-y)/m\n",
    "        \n",
    "        return dw, db\n",
    "\n",
    "    def fit(self, X, y):\n",
    "        self.weights= np.zeros(X.shape[1])\n",
    "        self.bias= 0\n",
    "        \n",
    "        for i in range(self.num_iterations):\n",
    "            dw, db= self.loss_backward(X, y)\n",
    "            self.weights-= self.learning_rate*dw\n",
    "            self.bias-= self.learning_rate*db\n",
    "    \n",
    "    def predict(self, X):\n",
    "        return (np.round(self.sigmoid(np.dot(X, self.weights)+self.bias)).astype(bool))"
   ]
  },
  {
   "cell_type": "markdown",
   "id": "22ea5568",
   "metadata": {
    "id": "ZOq9MvSN-zmn",
    "papermill": {
     "duration": 0.01635,
     "end_time": "2023-12-17T10:19:58.405675",
     "exception": false,
     "start_time": "2023-12-17T10:19:58.389325",
     "status": "completed"
    },
    "tags": []
   },
   "source": [
    "### Torch Regression Model\n",
    "\n",
    "2- Implement the Logistic Regression Model. This time, use Pytorch! **(P4-2: 10 points)**"
   ]
  },
  {
   "cell_type": "code",
   "execution_count": 20,
   "id": "0ca394a7",
   "metadata": {
    "execution": {
     "iopub.execute_input": "2023-12-17T10:19:58.440008Z",
     "iopub.status.busy": "2023-12-17T10:19:58.439668Z",
     "iopub.status.idle": "2023-12-17T10:20:01.849814Z",
     "shell.execute_reply": "2023-12-17T10:20:01.848172Z"
    },
    "papermill": {
     "duration": 3.430701,
     "end_time": "2023-12-17T10:20:01.852731",
     "exception": false,
     "start_time": "2023-12-17T10:19:58.422030",
     "status": "completed"
    },
    "tags": []
   },
   "outputs": [],
   "source": [
    "import torch\n",
    "import torch.nn as nn\n",
    "import torch.optim as optim\n",
    "\n",
    "class TorchLogisticRegression():\n",
    "\n",
    "    def __init__(self, input_size, learning_rate=0.01, num_iterations=1000):\n",
    "        super(TorchLogisticRegression, self).__init__()\n",
    "        self.learning_rate = learning_rate\n",
    "        self.num_iterations = num_iterations\n",
    "        self.model = nn.Linear(input_size, 1)\n",
    "        self.sigmoid = nn.Sigmoid()\n",
    "        self.criterion = nn.BCELoss()\n",
    "        self.optimizer = optim.SGD(self.parameters(), lr=learning_rate)\n",
    "\n",
    "    def loss(self, X, y):\n",
    "        return self.criterion(self.sigmoid(self.linear(X)), y)\n",
    "\n",
    "    def predict(self, X):\n",
    "        with torch.no_grad():\n",
    "            pred= (self.sigmoid(self.linear(X)) >= 0.5).float()\n",
    "        return pred\n",
    "\n",
    "    def fit(self, X_train, y_train):\n",
    "        X_train = torch.tensor(X_train, dtype=torch.float32)\n",
    "        y_train = torch.tensor(y_train, dtype=torch.float32).view(-1, 1)\n",
    "\n",
    "        for i in range(self.num_iterations):\n",
    "            self.optimizer.zero_grad()\n",
    "            loss= self.loss(X_train, Y_train)\n",
    "            loss.backward()\n",
    "            self.optimizer.step()"
   ]
  },
  {
   "cell_type": "markdown",
   "id": "56de7ccc",
   "metadata": {
    "id": "fA-EG86mE2IQ",
    "papermill": {
     "duration": 0.01598,
     "end_time": "2023-12-17T10:20:01.886145",
     "exception": false,
     "start_time": "2023-12-17T10:20:01.870165",
     "status": "completed"
    },
    "tags": []
   },
   "source": [
    "### SK-Learn Regression Model\n",
    "\n",
    "3- Now train a Logistic Regression using SK-Learn **(P4-3: 5 points)**"
   ]
  },
  {
   "cell_type": "code",
   "execution_count": 21,
   "id": "0dedf2be",
   "metadata": {
    "execution": {
     "iopub.execute_input": "2023-12-17T10:20:01.920357Z",
     "iopub.status.busy": "2023-12-17T10:20:01.919711Z",
     "iopub.status.idle": "2023-12-17T10:20:02.060597Z",
     "shell.execute_reply": "2023-12-17T10:20:02.059522Z"
    },
    "id": "kfoR-Gl4FHtn",
    "papermill": {
     "duration": 0.16108,
     "end_time": "2023-12-17T10:20:02.063395",
     "exception": false,
     "start_time": "2023-12-17T10:20:01.902315",
     "status": "completed"
    },
    "tags": []
   },
   "outputs": [],
   "source": [
    "from sklearn.linear_model import LogisticRegression\n",
    "\n",
    "sklearn_model= LogisticRegression()\n",
    "sklearn_model.fit(x_train, y_train)\n",
    "sklearn_pred= sklearn_model.predict(x_test)"
   ]
  },
  {
   "cell_type": "markdown",
   "id": "6c8a0796",
   "metadata": {
    "id": "DilJdE71FqXH",
    "papermill": {
     "duration": 0.022227,
     "end_time": "2023-12-17T10:20:02.108972",
     "exception": false,
     "start_time": "2023-12-17T10:20:02.086745",
     "status": "completed"
    },
    "tags": []
   },
   "source": [
    "### Predicting the output for the testing data\n",
    "4- Train Custom Logistic Regression and Torch Logistic Regression models and then Predict the `Outcome` for the testing samples using both models. **(P4-4: 5 points)**"
   ]
  },
  {
   "cell_type": "code",
   "execution_count": 22,
   "id": "f32f72e4",
   "metadata": {
    "execution": {
     "iopub.execute_input": "2023-12-17T10:20:02.157495Z",
     "iopub.status.busy": "2023-12-17T10:20:02.156943Z",
     "iopub.status.idle": "2023-12-17T10:20:03.856611Z",
     "shell.execute_reply": "2023-12-17T10:20:03.855854Z"
    },
    "id": "T34qmNrSKIJ8",
    "papermill": {
     "duration": 1.727694,
     "end_time": "2023-12-17T10:20:03.859120",
     "exception": false,
     "start_time": "2023-12-17T10:20:02.131426",
     "status": "completed"
    },
    "tags": []
   },
   "outputs": [],
   "source": [
    "scratch_model= CustomLogisticRegression()\n",
    "scratch_model.fit(x_train, y_train)\n",
    "scratch_pred= scratch_model.predict(x_test)\n",
    "\n",
    "torch_model= LogisticRegression()\n",
    "torch_model.fit(x_train, y_train)\n",
    "torch_pred= torch_model.predict(x_test)"
   ]
  },
  {
   "cell_type": "markdown",
   "id": "333267e3",
   "metadata": {
    "id": "1EYIDhDZIXHU",
    "papermill": {
     "duration": 0.022638,
     "end_time": "2023-12-17T10:20:03.904543",
     "exception": false,
     "start_time": "2023-12-17T10:20:03.881905",
     "status": "completed"
    },
    "tags": []
   },
   "source": [
    "# P5: Evaluation (10 points)\n",
    "\n",
    "1- Complete the metric codes. then evaluate all the models results using the implemented metrices and compare them. **(P5-1: 10 points)**"
   ]
  },
  {
   "cell_type": "code",
   "execution_count": 23,
   "id": "94b1fe2b",
   "metadata": {
    "execution": {
     "iopub.execute_input": "2023-12-17T10:20:03.953201Z",
     "iopub.status.busy": "2023-12-17T10:20:03.952819Z",
     "iopub.status.idle": "2023-12-17T10:20:03.963489Z",
     "shell.execute_reply": "2023-12-17T10:20:03.962790Z"
    },
    "id": "8wuMmYYDI4yI",
    "papermill": {
     "duration": 0.038897,
     "end_time": "2023-12-17T10:20:03.966106",
     "exception": false,
     "start_time": "2023-12-17T10:20:03.927209",
     "status": "completed"
    },
    "tags": []
   },
   "outputs": [],
   "source": [
    "class classification_full_report():\n",
    "\n",
    "    def __init__(self, y_true, y_pred):\n",
    "        self.y_true = y_true\n",
    "        self.y_pred = y_pred\n",
    "\n",
    "    def accuracy(self):\n",
    "        correct_count= 0\n",
    "        for real, pred in zip(self.y_true, self.y_pred):\n",
    "            correct_count+= int(real==pred)\n",
    "        return (correct_count/len(self.y_true))\n",
    "\n",
    "    def f1_score(self):\n",
    "        precision= self.precision()\n",
    "        accuracy= self.accuracy()\n",
    "        return ((2*accuracy*precision)/(accuracy+precision))\n",
    "\n",
    "    def precision(self):\n",
    "        true_positive=0\n",
    "        false_positive=0\n",
    "        for real, pred in zip(self.y_true, self.y_pred):\n",
    "            if(pred==True):\n",
    "                true_positive+= int(real==True)\n",
    "                false_positive+= int(real!=True)\n",
    "        return (true_positive/(true_positive+false_positive))\n",
    "\n",
    "    def recall(self):\n",
    "        true_positive=0\n",
    "        false_negative=0\n",
    "        for real, pred in zip(self.y_true, self.y_pred):\n",
    "            if(pred==True):\n",
    "                true_positive+= int(real==True)\n",
    "            else:  \n",
    "                false_negative+= int(real==True)\n",
    "        return (true_positive/(true_positive+false_negative))\n",
    "\n",
    "    def confusion_matrix(self):\n",
    "        true_positive=0\n",
    "        true_negative=0\n",
    "        false_positive=0\n",
    "        false_negative=0\n",
    "        for real, pred in zip(self.y_true, self.y_pred):\n",
    "            if(pred==True):\n",
    "                true_positive+= int(real==True)\n",
    "                false_positive+= int(real!=True)\n",
    "            else:\n",
    "                true_negative+= int(real==False)\n",
    "                false_negative+= int(real!=False)\n",
    "                \n",
    "        return [[true_negative, false_positive], [false_negative, true_positive]]"
   ]
  },
  {
   "cell_type": "code",
   "execution_count": 24,
   "id": "cac1b7e4",
   "metadata": {
    "execution": {
     "iopub.execute_input": "2023-12-17T10:20:04.007214Z",
     "iopub.status.busy": "2023-12-17T10:20:04.005264Z",
     "iopub.status.idle": "2023-12-17T10:20:04.018671Z",
     "shell.execute_reply": "2023-12-17T10:20:04.016823Z"
    },
    "papermill": {
     "duration": 0.03779,
     "end_time": "2023-12-17T10:20:04.022240",
     "exception": false,
     "start_time": "2023-12-17T10:20:03.984450",
     "status": "completed"
    },
    "tags": []
   },
   "outputs": [
    {
     "name": "stdout",
     "output_type": "stream",
     "text": [
      "sklearn model report:\n",
      "\n",
      "Accuracy: 0.829004329004329\n",
      "F1 Score: 0.8381665865788208\n",
      "Precision: 0.8475336322869955\n",
      "Recall: 0.8076923076923077\n",
      "Confusion Matrix: [[194, 34], [45, 189]]\n"
     ]
    }
   ],
   "source": [
    "sklearn_report = classification_full_report(y_test, sklearn_pred)\n",
    "\n",
    "print(\"sklearn model report:\\n\")\n",
    "print(\"Accuracy:\", sklearn_report.accuracy())\n",
    "print(\"F1 Score:\", sklearn_report.f1_score())\n",
    "print(\"Precision:\", sklearn_report.precision())\n",
    "print(\"Recall:\", sklearn_report.recall())\n",
    "print(\"Confusion Matrix:\", sklearn_report.confusion_matrix())"
   ]
  },
  {
   "cell_type": "code",
   "execution_count": 25,
   "id": "077d01ae",
   "metadata": {
    "execution": {
     "iopub.execute_input": "2023-12-17T10:20:04.059324Z",
     "iopub.status.busy": "2023-12-17T10:20:04.058798Z",
     "iopub.status.idle": "2023-12-17T10:20:04.071194Z",
     "shell.execute_reply": "2023-12-17T10:20:04.069734Z"
    },
    "papermill": {
     "duration": 0.033967,
     "end_time": "2023-12-17T10:20:04.073606",
     "exception": false,
     "start_time": "2023-12-17T10:20:04.039639",
     "status": "completed"
    },
    "tags": []
   },
   "outputs": [
    {
     "name": "stdout",
     "output_type": "stream",
     "text": [
      "custom model report:\n",
      "\n",
      "Accuracy: 0.8181818181818182\n",
      "F1 Score: 0.829389788293898\n",
      "Precision: 0.8409090909090909\n",
      "Recall: 0.7905982905982906\n",
      "Confusion Matrix: [[193, 35], [49, 185]]\n"
     ]
    }
   ],
   "source": [
    "scratch_report = classification_full_report(y_test, scratch_pred)\n",
    "\n",
    "print(\"custom model report:\\n\")\n",
    "print(\"Accuracy:\", scratch_report.accuracy())\n",
    "print(\"F1 Score:\", scratch_report.f1_score())\n",
    "print(\"Precision:\", scratch_report.precision())\n",
    "print(\"Recall:\", scratch_report.recall())\n",
    "print(\"Confusion Matrix:\", scratch_report.confusion_matrix())"
   ]
  },
  {
   "cell_type": "code",
   "execution_count": 26,
   "id": "0bb25771",
   "metadata": {
    "execution": {
     "iopub.execute_input": "2023-12-17T10:20:04.112040Z",
     "iopub.status.busy": "2023-12-17T10:20:04.111598Z",
     "iopub.status.idle": "2023-12-17T10:20:04.125923Z",
     "shell.execute_reply": "2023-12-17T10:20:04.123574Z"
    },
    "papermill": {
     "duration": 0.037128,
     "end_time": "2023-12-17T10:20:04.129295",
     "exception": false,
     "start_time": "2023-12-17T10:20:04.092167",
     "status": "completed"
    },
    "tags": []
   },
   "outputs": [
    {
     "name": "stdout",
     "output_type": "stream",
     "text": [
      "torch model report:\n",
      "\n",
      "Accuracy: 0.829004329004329\n",
      "F1 Score: 0.8381665865788208\n",
      "Precision: 0.8475336322869955\n",
      "Recall: 0.8076923076923077\n",
      "Confusion Matrix: [[194, 34], [45, 189]]\n"
     ]
    }
   ],
   "source": [
    "torch_report = classification_full_report(y_test, torch_pred)\n",
    "\n",
    "print(\"torch model report:\\n\")\n",
    "print(\"Accuracy:\", torch_report.accuracy())\n",
    "print(\"F1 Score:\", torch_report.f1_score())\n",
    "print(\"Precision:\", torch_report.precision())\n",
    "print(\"Recall:\", torch_report.recall())\n",
    "print(\"Confusion Matrix:\", torch_report.confusion_matrix())"
   ]
  },
  {
   "cell_type": "markdown",
   "id": "fc850aa4",
   "metadata": {
    "papermill": {
     "duration": 0.017546,
     "end_time": "2023-12-17T10:20:04.164712",
     "exception": false,
     "start_time": "2023-12-17T10:20:04.147166",
     "status": "completed"
    },
    "tags": []
   },
   "source": [
    "# P6: Neural Net (5 points)"
   ]
  },
  {
   "cell_type": "markdown",
   "id": "2fccb554",
   "metadata": {
    "papermill": {
     "duration": 0.01931,
     "end_time": "2023-12-17T10:20:04.201147",
     "exception": false,
     "start_time": "2023-12-17T10:20:04.181837",
     "status": "completed"
    },
    "tags": []
   },
   "source": [
    "Implement a neural net containing the following layers: LSTM, CNN, Pooling and Dense (Linear). Train the neural network on the training data and tune its hyperparameters using the validation data. Finally, print a classification report indicating how well its doing on the testing data. **(P6-1: 5 points)**"
   ]
  },
  {
   "cell_type": "code",
   "execution_count": 27,
   "id": "773558a2",
   "metadata": {
    "execution": {
     "iopub.execute_input": "2023-12-17T10:20:04.238719Z",
     "iopub.status.busy": "2023-12-17T10:20:04.238366Z",
     "iopub.status.idle": "2023-12-17T10:21:00.116324Z",
     "shell.execute_reply": "2023-12-17T10:21:00.115026Z"
    },
    "id": "bKCvmMHxYdFS",
    "outputId": "44487307-63d6-4688-e777-3528470d027a",
    "papermill": {
     "duration": 55.899717,
     "end_time": "2023-12-17T10:21:00.118530",
     "exception": false,
     "start_time": "2023-12-17T10:20:04.218813",
     "status": "completed"
    },
    "tags": []
   },
   "outputs": [
    {
     "name": "stdout",
     "output_type": "stream",
     "text": [
      "Epoch 1/20\n",
      "116/116 [==============================] - 4s 13ms/step - loss: 0.2213 - accuracy: 0.6480 - val_loss: 0.2077 - val_accuracy: 0.6681\n",
      "Epoch 2/20\n",
      "116/116 [==============================] - 1s 9ms/step - loss: 0.1874 - accuracy: 0.7203 - val_loss: 0.1905 - val_accuracy: 0.7202\n",
      "Epoch 3/20\n",
      "116/116 [==============================] - 1s 9ms/step - loss: 0.1759 - accuracy: 0.7388 - val_loss: 0.1756 - val_accuracy: 0.7202\n",
      "Epoch 4/20\n",
      "116/116 [==============================] - 1s 9ms/step - loss: 0.1611 - accuracy: 0.7648 - val_loss: 0.1572 - val_accuracy: 0.7614\n",
      "Epoch 5/20\n",
      "116/116 [==============================] - 1s 9ms/step - loss: 0.1546 - accuracy: 0.7859 - val_loss: 0.1521 - val_accuracy: 0.7701\n",
      "Epoch 6/20\n",
      "116/116 [==============================] - 1s 9ms/step - loss: 0.1422 - accuracy: 0.8041 - val_loss: 0.1441 - val_accuracy: 0.7787\n",
      "Epoch 7/20\n",
      "116/116 [==============================] - 1s 9ms/step - loss: 0.1401 - accuracy: 0.8038 - val_loss: 0.1626 - val_accuracy: 0.7592\n",
      "Epoch 8/20\n",
      "116/116 [==============================] - 1s 9ms/step - loss: 0.1360 - accuracy: 0.8149 - val_loss: 0.1403 - val_accuracy: 0.7787\n",
      "Epoch 9/20\n",
      "116/116 [==============================] - 1s 9ms/step - loss: 0.1358 - accuracy: 0.8176 - val_loss: 0.1391 - val_accuracy: 0.7939\n",
      "Epoch 10/20\n",
      "116/116 [==============================] - 1s 9ms/step - loss: 0.1304 - accuracy: 0.8220 - val_loss: 0.1400 - val_accuracy: 0.7896\n",
      "Epoch 11/20\n",
      "116/116 [==============================] - 1s 9ms/step - loss: 0.1305 - accuracy: 0.8184 - val_loss: 0.1351 - val_accuracy: 0.8069\n",
      "Epoch 12/20\n",
      "116/116 [==============================] - 1s 9ms/step - loss: 0.1317 - accuracy: 0.8192 - val_loss: 0.1371 - val_accuracy: 0.8048\n",
      "Epoch 13/20\n",
      "116/116 [==============================] - 1s 9ms/step - loss: 0.1244 - accuracy: 0.8279 - val_loss: 0.1372 - val_accuracy: 0.8178\n",
      "Epoch 14/20\n",
      "116/116 [==============================] - 1s 9ms/step - loss: 0.1247 - accuracy: 0.8279 - val_loss: 0.1352 - val_accuracy: 0.8069\n",
      "Epoch 15/20\n",
      "116/116 [==============================] - 1s 9ms/step - loss: 0.1196 - accuracy: 0.8355 - val_loss: 0.1338 - val_accuracy: 0.8004\n",
      "Epoch 16/20\n",
      "116/116 [==============================] - 1s 9ms/step - loss: 0.1189 - accuracy: 0.8344 - val_loss: 0.1371 - val_accuracy: 0.8048\n",
      "Epoch 17/20\n",
      "116/116 [==============================] - 1s 9ms/step - loss: 0.1204 - accuracy: 0.8350 - val_loss: 0.1306 - val_accuracy: 0.8200\n",
      "Epoch 18/20\n",
      "116/116 [==============================] - 1s 9ms/step - loss: 0.1153 - accuracy: 0.8425 - val_loss: 0.1307 - val_accuracy: 0.8178\n",
      "Epoch 19/20\n",
      "116/116 [==============================] - 1s 9ms/step - loss: 0.1150 - accuracy: 0.8455 - val_loss: 0.1312 - val_accuracy: 0.8026\n",
      "Epoch 20/20\n",
      "116/116 [==============================] - 1s 9ms/step - loss: 0.1146 - accuracy: 0.8434 - val_loss: 0.1310 - val_accuracy: 0.8026\n"
     ]
    },
    {
     "data": {
      "text/plain": [
       "<keras.src.callbacks.History at 0x7f44de8d71f0>"
      ]
     },
     "execution_count": 27,
     "metadata": {},
     "output_type": "execute_result"
    }
   ],
   "source": [
    "import tensorflow as tf\n",
    "from tensorflow.keras.models import Sequential\n",
    "from tensorflow.keras.layers import LSTM, Conv1D, MaxPooling1D, Flatten, Dense, Dropout\n",
    "from tensorflow.keras.optimizers import Adam\n",
    "\n",
    "model = Sequential()\n",
    "model.add(Conv1D(filters=64, kernel_size=3, activation='relu', input_shape=(x_train.shape[1], 1)))\n",
    "model.add(MaxPooling1D(pool_size=2))\n",
    "model.add(LSTM(units=50, activation='tanh'))\n",
    "model.add(Dense(units=1, activation='linear'))\n",
    "\n",
    "optimizer = Adam(lr=0.001)\n",
    "model.compile(optimizer=optimizer, loss='mean_squared_error', metrics=['accuracy'])\n",
    "model.fit(x_train, y_train, epochs=20, validation_data=(x_val, y_val))"
   ]
  },
  {
   "cell_type": "code",
   "execution_count": 28,
   "id": "7749be07",
   "metadata": {
    "execution": {
     "iopub.execute_input": "2023-12-17T10:21:00.204876Z",
     "iopub.status.busy": "2023-12-17T10:21:00.204551Z",
     "iopub.status.idle": "2023-12-17T10:21:00.740052Z",
     "shell.execute_reply": "2023-12-17T10:21:00.738382Z"
    },
    "papermill": {
     "duration": 0.581073,
     "end_time": "2023-12-17T10:21:00.742746",
     "exception": false,
     "start_time": "2023-12-17T10:21:00.161673",
     "status": "completed"
    },
    "tags": []
   },
   "outputs": [
    {
     "name": "stdout",
     "output_type": "stream",
     "text": [
      "15/15 [==============================] - 0s 3ms/step\n",
      "nn model report:\n",
      "\n",
      "Accuracy: 0.8311688311688312\n",
      "F1 Score: 0.8253804488006191\n",
      "Precision: 0.819672131147541\n",
      "Recall: 0.8547008547008547\n",
      "Confusion Matrix: [[184, 44], [34, 200]]\n"
     ]
    }
   ],
   "source": [
    "nn_pred= np.round(model.predict(x_test)).astype(bool)\n",
    "nn_report= classification_full_report(y_test, nn_pred)\n",
    "\n",
    "print(\"nn model report:\\n\")\n",
    "print(\"Accuracy:\", nn_report.accuracy())\n",
    "print(\"F1 Score:\", nn_report.f1_score())\n",
    "print(\"Precision:\", nn_report.precision())\n",
    "print(\"Recall:\", nn_report.recall())\n",
    "print(\"Confusion Matrix:\", nn_report.confusion_matrix())"
   ]
  }
 ],
 "metadata": {
  "colab": {
   "provenance": []
  },
  "kaggle": {
   "accelerator": "none",
   "dataSources": [],
   "dockerImageVersionId": 30587,
   "isGpuEnabled": false,
   "isInternetEnabled": true,
   "language": "python",
   "sourceType": "notebook"
  },
  "kernelspec": {
   "display_name": "Python 3",
   "language": "python",
   "name": "python3"
  },
  "language_info": {
   "codemirror_mode": {
    "name": "ipython",
    "version": 3
   },
   "file_extension": ".py",
   "mimetype": "text/x-python",
   "name": "python",
   "nbconvert_exporter": "python",
   "pygments_lexer": "ipython3",
   "version": "3.10.12"
  },
  "papermill": {
   "default_parameters": {},
   "duration": 134.216251,
   "end_time": "2023-12-17T10:21:04.233876",
   "environment_variables": {},
   "exception": null,
   "input_path": "__notebook__.ipynb",
   "output_path": "__notebook__.ipynb",
   "parameters": {},
   "start_time": "2023-12-17T10:18:50.017625",
   "version": "2.4.0"
  }
 },
 "nbformat": 4,
 "nbformat_minor": 5
}
