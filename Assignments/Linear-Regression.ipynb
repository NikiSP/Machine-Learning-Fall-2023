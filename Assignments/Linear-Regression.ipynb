{
 "cells": [
  {
   "cell_type": "markdown",
   "id": "62da73ea",
   "metadata": {
    "id": "b07eb33c",
    "papermill": {
     "duration": 0.017594,
     "end_time": "2023-11-11T10:05:17.959037",
     "exception": false,
     "start_time": "2023-11-11T10:05:17.941443",
     "status": "completed"
    },
    "tags": []
   },
   "source": [
    "# Practical Homework 1 - Linear Regression"
   ]
  },
  {
   "cell_type": "markdown",
   "id": "090aaf04",
   "metadata": {
    "papermill": {
     "duration": 0.01738,
     "end_time": "2023-11-11T10:05:17.994280",
     "exception": false,
     "start_time": "2023-11-11T10:05:17.976900",
     "status": "completed"
    },
    "tags": []
   },
   "source": [
    "Student Number: 400105003"
   ]
  },
  {
   "cell_type": "markdown",
   "id": "bcfbfd38",
   "metadata": {
    "papermill": {
     "duration": 0.016904,
     "end_time": "2023-11-11T10:05:18.028378",
     "exception": false,
     "start_time": "2023-11-11T10:05:18.011474",
     "status": "completed"
    },
    "tags": []
   },
   "source": [
    "Student Name: Niki Sepasian"
   ]
  },
  {
   "cell_type": "markdown",
   "id": "ed6e7719",
   "metadata": {
    "papermill": {
     "duration": 0.016943,
     "end_time": "2023-11-11T10:05:18.062808",
     "exception": false,
     "start_time": "2023-11-11T10:05:18.045865",
     "status": "completed"
    },
    "tags": []
   },
   "source": [
    "# Phase 0: Intro"
   ]
  },
  {
   "cell_type": "markdown",
   "id": "6b2f9129",
   "metadata": {
    "papermill": {
     "duration": 0.017007,
     "end_time": "2023-11-11T10:05:18.097455",
     "exception": false,
     "start_time": "2023-11-11T10:05:18.080448",
     "status": "completed"
    },
    "tags": []
   },
   "source": [
    "For this assignment, you'll be given a dataset containing some features of a group of people. Given those features, you will try to predict how much they tend to spend on the medical services they receive."
   ]
  },
  {
   "cell_type": "code",
   "execution_count": 1,
   "id": "cc2f6ab9",
   "metadata": {
    "execution": {
     "iopub.execute_input": "2023-11-11T10:05:18.134951Z",
     "iopub.status.busy": "2023-11-11T10:05:18.133899Z",
     "iopub.status.idle": "2023-11-11T10:05:20.661959Z",
     "shell.execute_reply": "2023-11-11T10:05:20.660867Z"
    },
    "id": "_FZJrsgNDeBt",
    "papermill": {
     "duration": 2.549435,
     "end_time": "2023-11-11T10:05:20.664761",
     "exception": false,
     "start_time": "2023-11-11T10:05:18.115326",
     "status": "completed"
    },
    "tags": []
   },
   "outputs": [
    {
     "name": "stdout",
     "output_type": "stream",
     "text": [
      "--2023-11-11 10:05:19--  https://www.dropbox.com/scl/fi/sy3nij8fkha309jnfi7c4/dataset.csv?rlkey=cjy9gof3hyqx1wo9ali1pusbv&dl=1\r\n",
      "Resolving www.dropbox.com (www.dropbox.com)... 162.125.65.18, 2620:100:6021:18::a27d:4112\r\n",
      "Connecting to www.dropbox.com (www.dropbox.com)|162.125.65.18|:443... connected.\r\n",
      "HTTP request sent, awaiting response... 302 Found\r\n",
      "Location: https://uc972b44e5262323d7daa030f9b8.dl.dropboxusercontent.com/cd/0/inline/CHWgfxbJIjAtMXbhCySisJONmHiWGPlMr6ky8h7RY_l4Dh08tJhLfm2rWBnKyuehnzm73S3-r5vm9AryHFgXQmBOGZ2Lx_IZJ_p5CCc9ioGNbUkuvjN0EHOZnvxRhcMLEi6OHH7y17_fAoDmR6v8U078/file?dl=1# [following]\r\n",
      "--2023-11-11 10:05:20--  https://uc972b44e5262323d7daa030f9b8.dl.dropboxusercontent.com/cd/0/inline/CHWgfxbJIjAtMXbhCySisJONmHiWGPlMr6ky8h7RY_l4Dh08tJhLfm2rWBnKyuehnzm73S3-r5vm9AryHFgXQmBOGZ2Lx_IZJ_p5CCc9ioGNbUkuvjN0EHOZnvxRhcMLEi6OHH7y17_fAoDmR6v8U078/file?dl=1\r\n",
      "Resolving uc972b44e5262323d7daa030f9b8.dl.dropboxusercontent.com (uc972b44e5262323d7daa030f9b8.dl.dropboxusercontent.com)... 162.125.65.15, 2620:100:6021:15::a27d:410f\r\n",
      "Connecting to uc972b44e5262323d7daa030f9b8.dl.dropboxusercontent.com (uc972b44e5262323d7daa030f9b8.dl.dropboxusercontent.com)|162.125.65.15|:443... connected.\r\n",
      "HTTP request sent, awaiting response... 200 OK\r\n",
      "Length: 43467 (42K) [application/binary]\r\n",
      "Saving to: ‘/kaggle/working/dataset.csv’\r\n",
      "\r\n",
      "/kaggle/working/dat 100%[===================>]  42.45K  --.-KB/s    in 0.004s  \r\n",
      "\r\n",
      "2023-11-11 10:05:20 (9.70 MB/s) - ‘/kaggle/working/dataset.csv’ saved [43467/43467]\r\n",
      "\r\n"
     ]
    }
   ],
   "source": [
    "# run this cell to download the dataset\n",
    "!wget -O /kaggle/working/dataset.csv \"https://www.dropbox.com/scl/fi/sy3nij8fkha309jnfi7c4/dataset.csv?rlkey=cjy9gof3hyqx1wo9ali1pusbv&dl=1\""
   ]
  },
  {
   "cell_type": "code",
   "execution_count": 2,
   "id": "8d90f3be",
   "metadata": {
    "execution": {
     "iopub.execute_input": "2023-11-11T10:05:20.702918Z",
     "iopub.status.busy": "2023-11-11T10:05:20.702031Z",
     "iopub.status.idle": "2023-11-11T10:05:23.462179Z",
     "shell.execute_reply": "2023-11-11T10:05:23.460933Z"
    },
    "id": "5a2067b0",
    "papermill": {
     "duration": 2.782401,
     "end_time": "2023-11-11T10:05:23.465044",
     "exception": false,
     "start_time": "2023-11-11T10:05:20.682643",
     "status": "completed"
    },
    "tags": []
   },
   "outputs": [],
   "source": [
    "# libraries that you allowed to use\n",
    "import os\n",
    "import pandas\n",
    "import sklearn\n",
    "import numpy as np\n",
    "import pandas as pd\n",
    "import seaborn as sns\n",
    "from joblib import dump, load\n",
    "from matplotlib import pyplot as plt"
   ]
  },
  {
   "cell_type": "markdown",
   "id": "bc74fde0",
   "metadata": {
    "id": "20fe7a06",
    "papermill": {
     "duration": 0.017415,
     "end_time": "2023-11-11T10:05:23.500739",
     "exception": false,
     "start_time": "2023-11-11T10:05:23.483324",
     "status": "completed"
    },
    "tags": []
   },
   "source": [
    "# Phase 1: Explore"
   ]
  },
  {
   "cell_type": "markdown",
   "id": "9df43657",
   "metadata": {
    "id": "IpZrSRbjiSut",
    "papermill": {
     "duration": 0.017414,
     "end_time": "2023-11-11T10:05:23.535731",
     "exception": false,
     "start_time": "2023-11-11T10:05:23.518317",
     "status": "completed"
    },
    "tags": []
   },
   "source": [
    "## Sec 1: Load and Explore **(P1-Sec1: 15 points)**"
   ]
  },
  {
   "cell_type": "markdown",
   "id": "c87e5276",
   "metadata": {
    "id": "c9a841e4",
    "papermill": {
     "duration": 0.017354,
     "end_time": "2023-11-11T10:05:23.570707",
     "exception": false,
     "start_time": "2023-11-11T10:05:23.553353",
     "status": "completed"
    },
    "tags": []
   },
   "source": [
    "Load the dataset (as a dataframe) using pandas and display the top 5 rows of the dataframe."
   ]
  },
  {
   "cell_type": "code",
   "execution_count": 3,
   "id": "11d866fb",
   "metadata": {
    "execution": {
     "iopub.execute_input": "2023-11-11T10:05:23.608045Z",
     "iopub.status.busy": "2023-11-11T10:05:23.607520Z",
     "iopub.status.idle": "2023-11-11T10:05:23.649639Z",
     "shell.execute_reply": "2023-11-11T10:05:23.648311Z"
    },
    "papermill": {
     "duration": 0.064095,
     "end_time": "2023-11-11T10:05:23.652486",
     "exception": false,
     "start_time": "2023-11-11T10:05:23.588391",
     "status": "completed"
    },
    "tags": []
   },
   "outputs": [
    {
     "data": {
      "text/html": [
       "<div>\n",
       "<style scoped>\n",
       "    .dataframe tbody tr th:only-of-type {\n",
       "        vertical-align: middle;\n",
       "    }\n",
       "\n",
       "    .dataframe tbody tr th {\n",
       "        vertical-align: top;\n",
       "    }\n",
       "\n",
       "    .dataframe thead th {\n",
       "        text-align: right;\n",
       "    }\n",
       "</style>\n",
       "<table border=\"1\" class=\"dataframe\">\n",
       "  <thead>\n",
       "    <tr style=\"text-align: right;\">\n",
       "      <th></th>\n",
       "      <th>age</th>\n",
       "      <th>sex</th>\n",
       "      <th>bmi</th>\n",
       "      <th>children</th>\n",
       "      <th>smk</th>\n",
       "      <th>region</th>\n",
       "      <th>target</th>\n",
       "    </tr>\n",
       "  </thead>\n",
       "  <tbody>\n",
       "    <tr>\n",
       "      <th>0</th>\n",
       "      <td>46</td>\n",
       "      <td>female</td>\n",
       "      <td>19.95</td>\n",
       "      <td>2</td>\n",
       "      <td>no</td>\n",
       "      <td>northwest</td>\n",
       "      <td>9193.83850</td>\n",
       "    </tr>\n",
       "    <tr>\n",
       "      <th>1</th>\n",
       "      <td>47</td>\n",
       "      <td>female</td>\n",
       "      <td>24.32</td>\n",
       "      <td>0</td>\n",
       "      <td>no</td>\n",
       "      <td>northeast</td>\n",
       "      <td>8534.67180</td>\n",
       "    </tr>\n",
       "    <tr>\n",
       "      <th>2</th>\n",
       "      <td>52</td>\n",
       "      <td>female</td>\n",
       "      <td>24.86</td>\n",
       "      <td>0</td>\n",
       "      <td>no</td>\n",
       "      <td>southeast</td>\n",
       "      <td>27117.99378</td>\n",
       "    </tr>\n",
       "    <tr>\n",
       "      <th>3</th>\n",
       "      <td>39</td>\n",
       "      <td>female</td>\n",
       "      <td>34.32</td>\n",
       "      <td>5</td>\n",
       "      <td>no</td>\n",
       "      <td>southeast</td>\n",
       "      <td>8596.82780</td>\n",
       "    </tr>\n",
       "    <tr>\n",
       "      <th>4</th>\n",
       "      <td>54</td>\n",
       "      <td>female</td>\n",
       "      <td>21.47</td>\n",
       "      <td>3</td>\n",
       "      <td>no</td>\n",
       "      <td>northwest</td>\n",
       "      <td>12475.35130</td>\n",
       "    </tr>\n",
       "  </tbody>\n",
       "</table>\n",
       "</div>"
      ],
      "text/plain": [
       "   age     sex    bmi  children smk     region       target\n",
       "0   46  female  19.95         2  no  northwest   9193.83850\n",
       "1   47  female  24.32         0  no  northeast   8534.67180\n",
       "2   52  female  24.86         0  no  southeast  27117.99378\n",
       "3   39  female  34.32         5  no  southeast   8596.82780\n",
       "4   54  female  21.47         3  no  northwest  12475.35130"
      ]
     },
     "execution_count": 3,
     "metadata": {},
     "output_type": "execute_result"
    }
   ],
   "source": [
    "df= pd.read_csv(\"dataset.csv\")\n",
    "df.head(5)"
   ]
  },
  {
   "cell_type": "markdown",
   "id": "5129c754",
   "metadata": {
    "id": "a55a134e",
    "papermill": {
     "duration": 0.081707,
     "end_time": "2023-11-11T10:05:23.752362",
     "exception": false,
     "start_time": "2023-11-11T10:05:23.670655",
     "status": "completed"
    },
    "tags": []
   },
   "source": [
    "Print the names of the columns and the number of rows of the dataset **(P1-1-1: 2 points)**"
   ]
  },
  {
   "cell_type": "code",
   "execution_count": 4,
   "id": "9349a5a0",
   "metadata": {
    "execution": {
     "iopub.execute_input": "2023-11-11T10:05:23.791283Z",
     "iopub.status.busy": "2023-11-11T10:05:23.790839Z",
     "iopub.status.idle": "2023-11-11T10:05:23.797244Z",
     "shell.execute_reply": "2023-11-11T10:05:23.796138Z"
    },
    "id": "f5db727b",
    "outputId": "40525dfc-1fc3-442d-b53f-c796128fec7a",
    "papermill": {
     "duration": 0.028907,
     "end_time": "2023-11-11T10:05:23.799887",
     "exception": false,
     "start_time": "2023-11-11T10:05:23.770980",
     "status": "completed"
    },
    "tags": []
   },
   "outputs": [
    {
     "name": "stdout",
     "output_type": "stream",
     "text": [
      "Index(['age', 'sex', 'bmi', 'children', 'smk', 'region', 'target'], dtype='object')\n",
      "1070\n"
     ]
    }
   ],
   "source": [
    "print(df.columns)\n",
    "print(df.shape[0])"
   ]
  },
  {
   "cell_type": "markdown",
   "id": "510e65b8",
   "metadata": {
    "id": "cd6f5035",
    "papermill": {
     "duration": 0.017999,
     "end_time": "2023-11-11T10:05:23.836308",
     "exception": false,
     "start_time": "2023-11-11T10:05:23.818309",
     "status": "completed"
    },
    "tags": []
   },
   "source": [
    "Get a brief description of the dataset **(P1-1-2: 2 points)**"
   ]
  },
  {
   "cell_type": "code",
   "execution_count": 5,
   "id": "0ddd4fe1",
   "metadata": {
    "execution": {
     "iopub.execute_input": "2023-11-11T10:05:23.875377Z",
     "iopub.status.busy": "2023-11-11T10:05:23.874908Z",
     "iopub.status.idle": "2023-11-11T10:05:23.904367Z",
     "shell.execute_reply": "2023-11-11T10:05:23.903073Z"
    },
    "id": "9d137e73",
    "outputId": "f9bd5bbb-c2df-4f3c-bebd-faa405082b75",
    "papermill": {
     "duration": 0.05191,
     "end_time": "2023-11-11T10:05:23.907068",
     "exception": false,
     "start_time": "2023-11-11T10:05:23.855158",
     "status": "completed"
    },
    "tags": []
   },
   "outputs": [
    {
     "data": {
      "text/html": [
       "<div>\n",
       "<style scoped>\n",
       "    .dataframe tbody tr th:only-of-type {\n",
       "        vertical-align: middle;\n",
       "    }\n",
       "\n",
       "    .dataframe tbody tr th {\n",
       "        vertical-align: top;\n",
       "    }\n",
       "\n",
       "    .dataframe thead th {\n",
       "        text-align: right;\n",
       "    }\n",
       "</style>\n",
       "<table border=\"1\" class=\"dataframe\">\n",
       "  <thead>\n",
       "    <tr style=\"text-align: right;\">\n",
       "      <th></th>\n",
       "      <th>age</th>\n",
       "      <th>bmi</th>\n",
       "      <th>children</th>\n",
       "      <th>target</th>\n",
       "    </tr>\n",
       "  </thead>\n",
       "  <tbody>\n",
       "    <tr>\n",
       "      <th>count</th>\n",
       "      <td>1070.000000</td>\n",
       "      <td>1070.000000</td>\n",
       "      <td>1070.000000</td>\n",
       "      <td>1070.000000</td>\n",
       "    </tr>\n",
       "    <tr>\n",
       "      <th>mean</th>\n",
       "      <td>39.357009</td>\n",
       "      <td>30.560397</td>\n",
       "      <td>1.107477</td>\n",
       "      <td>13346.089736</td>\n",
       "    </tr>\n",
       "    <tr>\n",
       "      <th>std</th>\n",
       "      <td>14.073960</td>\n",
       "      <td>6.043386</td>\n",
       "      <td>1.215983</td>\n",
       "      <td>12019.510778</td>\n",
       "    </tr>\n",
       "    <tr>\n",
       "      <th>min</th>\n",
       "      <td>18.000000</td>\n",
       "      <td>15.960000</td>\n",
       "      <td>0.000000</td>\n",
       "      <td>1121.873900</td>\n",
       "    </tr>\n",
       "    <tr>\n",
       "      <th>25%</th>\n",
       "      <td>27.000000</td>\n",
       "      <td>26.205000</td>\n",
       "      <td>0.000000</td>\n",
       "      <td>4897.667387</td>\n",
       "    </tr>\n",
       "    <tr>\n",
       "      <th>50%</th>\n",
       "      <td>39.500000</td>\n",
       "      <td>30.210000</td>\n",
       "      <td>1.000000</td>\n",
       "      <td>9575.442100</td>\n",
       "    </tr>\n",
       "    <tr>\n",
       "      <th>75%</th>\n",
       "      <td>51.000000</td>\n",
       "      <td>34.496250</td>\n",
       "      <td>2.000000</td>\n",
       "      <td>16746.657400</td>\n",
       "    </tr>\n",
       "    <tr>\n",
       "      <th>max</th>\n",
       "      <td>64.000000</td>\n",
       "      <td>53.130000</td>\n",
       "      <td>5.000000</td>\n",
       "      <td>62592.873090</td>\n",
       "    </tr>\n",
       "  </tbody>\n",
       "</table>\n",
       "</div>"
      ],
      "text/plain": [
       "               age          bmi     children        target\n",
       "count  1070.000000  1070.000000  1070.000000   1070.000000\n",
       "mean     39.357009    30.560397     1.107477  13346.089736\n",
       "std      14.073960     6.043386     1.215983  12019.510778\n",
       "min      18.000000    15.960000     0.000000   1121.873900\n",
       "25%      27.000000    26.205000     0.000000   4897.667387\n",
       "50%      39.500000    30.210000     1.000000   9575.442100\n",
       "75%      51.000000    34.496250     2.000000  16746.657400\n",
       "max      64.000000    53.130000     5.000000  62592.873090"
      ]
     },
     "execution_count": 5,
     "metadata": {},
     "output_type": "execute_result"
    }
   ],
   "source": [
    "df.describe()"
   ]
  },
  {
   "cell_type": "markdown",
   "id": "8297ba04",
   "metadata": {
    "id": "2pZIoa00XxJv",
    "papermill": {
     "duration": 0.01836,
     "end_time": "2023-11-11T10:05:23.944742",
     "exception": false,
     "start_time": "2023-11-11T10:05:23.926382",
     "status": "completed"
    },
    "tags": []
   },
   "source": [
    "Check for missing values in the dataset **(P1-1-3: 2 points)**"
   ]
  },
  {
   "cell_type": "code",
   "execution_count": 6,
   "id": "a6f25429",
   "metadata": {
    "execution": {
     "iopub.execute_input": "2023-11-11T10:05:23.984086Z",
     "iopub.status.busy": "2023-11-11T10:05:23.983428Z",
     "iopub.status.idle": "2023-11-11T10:05:24.011520Z",
     "shell.execute_reply": "2023-11-11T10:05:24.010341Z"
    },
    "id": "DViuHWXTXsgx",
    "outputId": "ea19584e-6404-475e-8b04-1106e8ab1371",
    "papermill": {
     "duration": 0.05059,
     "end_time": "2023-11-11T10:05:24.014038",
     "exception": false,
     "start_time": "2023-11-11T10:05:23.963448",
     "status": "completed"
    },
    "tags": []
   },
   "outputs": [
    {
     "name": "stdout",
     "output_type": "stream",
     "text": [
      "age         0\n",
      "sex         0\n",
      "bmi         0\n",
      "children    0\n",
      "smk         0\n",
      "region      0\n",
      "target      0\n",
      "dtype: int64\n"
     ]
    },
    {
     "data": {
      "text/html": [
       "<div>\n",
       "<style scoped>\n",
       "    .dataframe tbody tr th:only-of-type {\n",
       "        vertical-align: middle;\n",
       "    }\n",
       "\n",
       "    .dataframe tbody tr th {\n",
       "        vertical-align: top;\n",
       "    }\n",
       "\n",
       "    .dataframe thead th {\n",
       "        text-align: right;\n",
       "    }\n",
       "</style>\n",
       "<table border=\"1\" class=\"dataframe\">\n",
       "  <thead>\n",
       "    <tr style=\"text-align: right;\">\n",
       "      <th></th>\n",
       "      <th>age</th>\n",
       "      <th>sex</th>\n",
       "      <th>bmi</th>\n",
       "      <th>children</th>\n",
       "      <th>smk</th>\n",
       "      <th>region</th>\n",
       "      <th>target</th>\n",
       "    </tr>\n",
       "  </thead>\n",
       "  <tbody>\n",
       "    <tr>\n",
       "      <th>0</th>\n",
       "      <td>False</td>\n",
       "      <td>False</td>\n",
       "      <td>False</td>\n",
       "      <td>False</td>\n",
       "      <td>False</td>\n",
       "      <td>False</td>\n",
       "      <td>False</td>\n",
       "    </tr>\n",
       "    <tr>\n",
       "      <th>1</th>\n",
       "      <td>False</td>\n",
       "      <td>False</td>\n",
       "      <td>False</td>\n",
       "      <td>False</td>\n",
       "      <td>False</td>\n",
       "      <td>False</td>\n",
       "      <td>False</td>\n",
       "    </tr>\n",
       "    <tr>\n",
       "      <th>2</th>\n",
       "      <td>False</td>\n",
       "      <td>False</td>\n",
       "      <td>False</td>\n",
       "      <td>False</td>\n",
       "      <td>False</td>\n",
       "      <td>False</td>\n",
       "      <td>False</td>\n",
       "    </tr>\n",
       "    <tr>\n",
       "      <th>3</th>\n",
       "      <td>False</td>\n",
       "      <td>False</td>\n",
       "      <td>False</td>\n",
       "      <td>False</td>\n",
       "      <td>False</td>\n",
       "      <td>False</td>\n",
       "      <td>False</td>\n",
       "    </tr>\n",
       "    <tr>\n",
       "      <th>4</th>\n",
       "      <td>False</td>\n",
       "      <td>False</td>\n",
       "      <td>False</td>\n",
       "      <td>False</td>\n",
       "      <td>False</td>\n",
       "      <td>False</td>\n",
       "      <td>False</td>\n",
       "    </tr>\n",
       "    <tr>\n",
       "      <th>...</th>\n",
       "      <td>...</td>\n",
       "      <td>...</td>\n",
       "      <td>...</td>\n",
       "      <td>...</td>\n",
       "      <td>...</td>\n",
       "      <td>...</td>\n",
       "      <td>...</td>\n",
       "    </tr>\n",
       "    <tr>\n",
       "      <th>1065</th>\n",
       "      <td>False</td>\n",
       "      <td>False</td>\n",
       "      <td>False</td>\n",
       "      <td>False</td>\n",
       "      <td>False</td>\n",
       "      <td>False</td>\n",
       "      <td>False</td>\n",
       "    </tr>\n",
       "    <tr>\n",
       "      <th>1066</th>\n",
       "      <td>False</td>\n",
       "      <td>False</td>\n",
       "      <td>False</td>\n",
       "      <td>False</td>\n",
       "      <td>False</td>\n",
       "      <td>False</td>\n",
       "      <td>False</td>\n",
       "    </tr>\n",
       "    <tr>\n",
       "      <th>1067</th>\n",
       "      <td>False</td>\n",
       "      <td>False</td>\n",
       "      <td>False</td>\n",
       "      <td>False</td>\n",
       "      <td>False</td>\n",
       "      <td>False</td>\n",
       "      <td>False</td>\n",
       "    </tr>\n",
       "    <tr>\n",
       "      <th>1068</th>\n",
       "      <td>False</td>\n",
       "      <td>False</td>\n",
       "      <td>False</td>\n",
       "      <td>False</td>\n",
       "      <td>False</td>\n",
       "      <td>False</td>\n",
       "      <td>False</td>\n",
       "    </tr>\n",
       "    <tr>\n",
       "      <th>1069</th>\n",
       "      <td>False</td>\n",
       "      <td>False</td>\n",
       "      <td>False</td>\n",
       "      <td>False</td>\n",
       "      <td>False</td>\n",
       "      <td>False</td>\n",
       "      <td>False</td>\n",
       "    </tr>\n",
       "  </tbody>\n",
       "</table>\n",
       "<p>1070 rows × 7 columns</p>\n",
       "</div>"
      ],
      "text/plain": [
       "        age    sex    bmi  children    smk  region  target\n",
       "0     False  False  False     False  False   False   False\n",
       "1     False  False  False     False  False   False   False\n",
       "2     False  False  False     False  False   False   False\n",
       "3     False  False  False     False  False   False   False\n",
       "4     False  False  False     False  False   False   False\n",
       "...     ...    ...    ...       ...    ...     ...     ...\n",
       "1065  False  False  False     False  False   False   False\n",
       "1066  False  False  False     False  False   False   False\n",
       "1067  False  False  False     False  False   False   False\n",
       "1068  False  False  False     False  False   False   False\n",
       "1069  False  False  False     False  False   False   False\n",
       "\n",
       "[1070 rows x 7 columns]"
      ]
     },
     "execution_count": 6,
     "metadata": {},
     "output_type": "execute_result"
    }
   ],
   "source": [
    "print(df.isnull().sum())\n",
    "df.isnull()"
   ]
  },
  {
   "cell_type": "markdown",
   "id": "fe19b257",
   "metadata": {
    "id": "V8V-MoInWnRw",
    "papermill": {
     "duration": 0.019196,
     "end_time": "2023-11-11T10:05:24.052354",
     "exception": false,
     "start_time": "2023-11-11T10:05:24.033158",
     "status": "completed"
    },
    "tags": []
   },
   "source": [
    "Use Histograms and Box-plots to visualize the distribution of numerical columns **(P1-1-4: 2 points)**"
   ]
  },
  {
   "cell_type": "code",
   "execution_count": 7,
   "id": "d9bef202",
   "metadata": {
    "execution": {
     "iopub.execute_input": "2023-11-11T10:05:24.093407Z",
     "iopub.status.busy": "2023-11-11T10:05:24.092708Z",
     "iopub.status.idle": "2023-11-11T10:05:26.319633Z",
     "shell.execute_reply": "2023-11-11T10:05:26.318427Z"
    },
    "id": "F8DQzIq0Vv0p",
    "outputId": "dab0c07c-3cb3-4bca-d4f0-2cc0a0f2d09b",
    "papermill": {
     "duration": 2.250212,
     "end_time": "2023-11-11T10:05:26.322162",
     "exception": false,
     "start_time": "2023-11-11T10:05:24.071950",
     "status": "completed"
    },
    "tags": []
   },
   "outputs": [
    {
     "data": {
      "image/png": "[encoded data removed]",
      "text/plain": [
       "<Figure size 640x480 with 2 Axes>"
      ]
     },
     "metadata": {},
     "output_type": "display_data"
    },
    {
     "data": {
      "image/png": "[encoded data removed]",
      "text/plain": [
       "<Figure size 640x480 with 2 Axes>"
      ]
     },
     "metadata": {},
     "output_type": "display_data"
    },
    {
     "data": {
      "image/png": "[encoded data removed]",
      "text/plain": [
       "<Figure size 640x480 with 2 Axes>"
      ]
     },
     "metadata": {},
     "output_type": "display_data"
    },
    {
     "data": {
      "image/png": "[encoded data removed]",
      "text/plain": [
       "<Figure size 640x480 with 2 Axes>"
      ]
     },
     "metadata": {},
     "output_type": "display_data"
    }
   ],
   "source": [
    "for col in df.select_dtypes(include='number'):\n",
    "    f, (box, hist)= plt.subplots(2, sharex=True, gridspec_kw={\"height_ratios\": (.15, .85)})\n",
    "    sns.boxplot(x=df[col], ax=box)\n",
    "    sns.histplot(x=df[col], bins=15, kde=True, ax=hist, color=\"skyblue\")\n",
    "    box.set(yticks=[])\n",
    "    \n",
    "    sns.despine(ax=hist)\n",
    "    sns.despine(ax=box, left=True)\n"
   ]
  },
  {
   "cell_type": "markdown",
   "id": "62058cd6",
   "metadata": {
    "id": "b6_SBCyPXQ4G",
    "papermill": {
     "duration": 0.020734,
     "end_time": "2023-11-11T10:05:26.364489",
     "exception": false,
     "start_time": "2023-11-11T10:05:26.343755",
     "status": "completed"
    },
    "tags": []
   },
   "source": [
    "Count the number of unique values for each class in categorical columns and compare the distributions amongst them **(P1-1-5: 5 points)**"
   ]
  },
  {
   "cell_type": "code",
   "execution_count": 8,
   "id": "6541d669",
   "metadata": {
    "execution": {
     "iopub.execute_input": "2023-11-11T10:05:26.408735Z",
     "iopub.status.busy": "2023-11-11T10:05:26.408333Z",
     "iopub.status.idle": "2023-11-11T10:05:33.223088Z",
     "shell.execute_reply": "2023-11-11T10:05:33.221890Z"
    },
    "id": "Mjmnl8B3XNPu",
    "outputId": "ecf5f87e-b777-480c-b821-489f84727c6e",
    "papermill": {
     "duration": 6.840629,
     "end_time": "2023-11-11T10:05:33.226215",
     "exception": false,
     "start_time": "2023-11-11T10:05:26.385586",
     "status": "completed"
    },
    "tags": []
   },
   "outputs": [
    {
     "data": {
      "image/png": "[encoded data removed]",
      "text/plain": [
       "<Figure size 400x200 with 1 Axes>"
      ]
     },
     "metadata": {},
     "output_type": "display_data"
    },
    {
     "data": {
      "image/png": "[encoded data removed]",
      "text/plain": [
       "<Figure size 1200x800 with 4 Axes>"
      ]
     },
     "metadata": {},
     "output_type": "display_data"
    },
    {
     "data": {
      "image/png": "[encoded data removed]",
      "text/plain": [
       "<Figure size 400x200 with 1 Axes>"
      ]
     },
     "metadata": {},
     "output_type": "display_data"
    },
    {
     "data": {
      "image/png": "[encoded data removed]",
      "text/plain": [
       "<Figure size 1200x800 with 4 Axes>"
      ]
     },
     "metadata": {},
     "output_type": "display_data"
    },
    {
     "data": {
      "image/png": "[encoded data removed]",
      "text/plain": [
       "<Figure size 400x200 with 1 Axes>"
      ]
     },
     "metadata": {},
     "output_type": "display_data"
    },
    {
     "data": {
      "image/png": "[encoded data removed]",
      "text/plain": [
       "<Figure size 1200x800 with 4 Axes>"
      ]
     },
     "metadata": {},
     "output_type": "display_data"
    }
   ],
   "source": [
    "categorical_cols= df.select_dtypes(exclude='number')\n",
    "numerical_cols= df.select_dtypes(include='number')\n",
    "\n",
    "for cat in categorical_cols:\n",
    "    plt.figure(figsize=(4, 2), layout= 'constrained')\n",
    "    plt.subplot(1,1,1)\n",
    "    sns.histplot(x=cat, data=df, color='skyblue')\n",
    "    \n",
    "    plt.figure(figsize=(12, 8), layout= 'constrained')\n",
    "    count=1\n",
    "    for num in numerical_cols:\n",
    "        plt.subplot(categorical_cols.shape[1], numerical_cols.shape[1], count)\n",
    "        sns.histplot(df, x=num, bins=15, kde=True, hue=cat)\n",
    "        #sns.displot(df, x=\"bmi\", bins=15, kde=True, col=\"sex\")\n",
    "        count+=1\n",
    "    plt.show()\n",
    "        \n",
    "\n",
    "# stack or normal or dodge or seperate plots ????????????????\n",
    "#count????"
   ]
  },
  {
   "cell_type": "markdown",
   "id": "a9108154",
   "metadata": {
    "id": "qF-npRtpYOEv",
    "papermill": {
     "duration": 0.026167,
     "end_time": "2023-11-11T10:05:33.280527",
     "exception": false,
     "start_time": "2023-11-11T10:05:33.254360",
     "status": "completed"
    },
    "tags": []
   },
   "source": [
    "Convert columns with string values (`sex`, `smk`, and `region`) into numerical values **(P1-1-6: 2 points)**"
   ]
  },
  {
   "cell_type": "code",
   "execution_count": 9,
   "id": "2e649cc8",
   "metadata": {
    "execution": {
     "iopub.execute_input": "2023-11-11T10:05:33.335443Z",
     "iopub.status.busy": "2023-11-11T10:05:33.334995Z",
     "iopub.status.idle": "2023-11-11T10:05:33.357802Z",
     "shell.execute_reply": "2023-11-11T10:05:33.356666Z"
    },
    "id": "AU0hZTtEYGPu",
    "outputId": "dce73f21-c0c5-4d03-95d8-4bee8fcb6e31",
    "papermill": {
     "duration": 0.053434,
     "end_time": "2023-11-11T10:05:33.360595",
     "exception": false,
     "start_time": "2023-11-11T10:05:33.307161",
     "status": "completed"
    },
    "tags": []
   },
   "outputs": [
    {
     "data": {
      "text/html": [
       "<div>\n",
       "<style scoped>\n",
       "    .dataframe tbody tr th:only-of-type {\n",
       "        vertical-align: middle;\n",
       "    }\n",
       "\n",
       "    .dataframe tbody tr th {\n",
       "        vertical-align: top;\n",
       "    }\n",
       "\n",
       "    .dataframe thead th {\n",
       "        text-align: right;\n",
       "    }\n",
       "</style>\n",
       "<table border=\"1\" class=\"dataframe\">\n",
       "  <thead>\n",
       "    <tr style=\"text-align: right;\">\n",
       "      <th></th>\n",
       "      <th>age</th>\n",
       "      <th>sex</th>\n",
       "      <th>bmi</th>\n",
       "      <th>children</th>\n",
       "      <th>smk</th>\n",
       "      <th>region</th>\n",
       "      <th>target</th>\n",
       "    </tr>\n",
       "  </thead>\n",
       "  <tbody>\n",
       "    <tr>\n",
       "      <th>0</th>\n",
       "      <td>46</td>\n",
       "      <td>1</td>\n",
       "      <td>19.95</td>\n",
       "      <td>2</td>\n",
       "      <td>0</td>\n",
       "      <td>1</td>\n",
       "      <td>9193.83850</td>\n",
       "    </tr>\n",
       "    <tr>\n",
       "      <th>1</th>\n",
       "      <td>47</td>\n",
       "      <td>1</td>\n",
       "      <td>24.32</td>\n",
       "      <td>0</td>\n",
       "      <td>0</td>\n",
       "      <td>0</td>\n",
       "      <td>8534.67180</td>\n",
       "    </tr>\n",
       "    <tr>\n",
       "      <th>2</th>\n",
       "      <td>52</td>\n",
       "      <td>1</td>\n",
       "      <td>24.86</td>\n",
       "      <td>0</td>\n",
       "      <td>0</td>\n",
       "      <td>2</td>\n",
       "      <td>27117.99378</td>\n",
       "    </tr>\n",
       "    <tr>\n",
       "      <th>3</th>\n",
       "      <td>39</td>\n",
       "      <td>1</td>\n",
       "      <td>34.32</td>\n",
       "      <td>5</td>\n",
       "      <td>0</td>\n",
       "      <td>2</td>\n",
       "      <td>8596.82780</td>\n",
       "    </tr>\n",
       "    <tr>\n",
       "      <th>4</th>\n",
       "      <td>54</td>\n",
       "      <td>1</td>\n",
       "      <td>21.47</td>\n",
       "      <td>3</td>\n",
       "      <td>0</td>\n",
       "      <td>1</td>\n",
       "      <td>12475.35130</td>\n",
       "    </tr>\n",
       "  </tbody>\n",
       "</table>\n",
       "</div>"
      ],
      "text/plain": [
       "   age  sex    bmi  children  smk  region       target\n",
       "0   46    1  19.95         2    0       1   9193.83850\n",
       "1   47    1  24.32         0    0       0   8534.67180\n",
       "2   52    1  24.86         0    0       2  27117.99378\n",
       "3   39    1  34.32         5    0       2   8596.82780\n",
       "4   54    1  21.47         3    0       1  12475.35130"
      ]
     },
     "execution_count": 9,
     "metadata": {},
     "output_type": "execute_result"
    }
   ],
   "source": [
    "df['sex'].replace(['male', 'female'], [0, 1], inplace=True)\n",
    "df['smk'].replace(['no', 'yes'], [0, 1], inplace=True)\n",
    "df['region'].replace(['northeast', 'northwest', 'southeast', 'southwest'], [0, 1, 2, 3], inplace=True)\n",
    "\n",
    "df.head(5)"
   ]
  },
  {
   "cell_type": "markdown",
   "id": "e31eb1cf",
   "metadata": {
    "id": "2c23d7f7",
    "papermill": {
     "duration": 0.026625,
     "end_time": "2023-11-11T10:05:33.414650",
     "exception": false,
     "start_time": "2023-11-11T10:05:33.388025",
     "status": "completed"
    },
    "tags": []
   },
   "source": [
    "## Sec 2: Check for linear relation **(P1-Sec2: 10 points)**"
   ]
  },
  {
   "cell_type": "markdown",
   "id": "ed6459b3",
   "metadata": {
    "id": "41e88af0",
    "papermill": {
     "duration": 0.026584,
     "end_time": "2023-11-11T10:05:33.468367",
     "exception": false,
     "start_time": "2023-11-11T10:05:33.441783",
     "status": "completed"
    },
    "tags": []
   },
   "source": [
    "Plot `age` and `smk` against `target` **(P1-2-1: 5 points)**"
   ]
  },
  {
   "cell_type": "code",
   "execution_count": 10,
   "id": "f0834ed8",
   "metadata": {
    "execution": {
     "iopub.execute_input": "2023-11-11T10:05:33.523695Z",
     "iopub.status.busy": "2023-11-11T10:05:33.523290Z",
     "iopub.status.idle": "2023-11-11T10:05:33.983523Z",
     "shell.execute_reply": "2023-11-11T10:05:33.982142Z"
    },
    "id": "f4512745",
    "outputId": "f3dc04ba-e567-427d-a644-7f19dbc5c85c",
    "papermill": {
     "duration": 0.491155,
     "end_time": "2023-11-11T10:05:33.986237",
     "exception": false,
     "start_time": "2023-11-11T10:05:33.495082",
     "status": "completed"
    },
    "tags": []
   },
   "outputs": [
    {
     "data": {
      "image/png": "[encoded data removed]",
      "text/plain": [
       "<Figure size 1000x400 with 2 Axes>"
      ]
     },
     "metadata": {},
     "output_type": "display_data"
    }
   ],
   "source": [
    "plt.figure(figsize=(10,4))\n",
    "plt.subplot(1, 2, 1)\n",
    "plt.scatter(x=df.age, y=df.target, color='skyblue')\n",
    "plt.xlabel(\"age\")\n",
    "plt.ylabel(\"target\")\n",
    "\n",
    "plt.subplot(1, 2, 2)\n",
    "plt.scatter(x=df.smk, y=df.target, color='skyblue')\n",
    "plt.xlabel(\"smk\")\n",
    "plt.ylabel(\"target\")\n",
    "\n",
    "plt.show()"
   ]
  },
  {
   "cell_type": "markdown",
   "id": "31295db7",
   "metadata": {
    "id": "11fdbf07",
    "papermill": {
     "duration": 0.026756,
     "end_time": "2023-11-11T10:05:34.040689",
     "exception": false,
     "start_time": "2023-11-11T10:05:34.013933",
     "status": "completed"
    },
    "tags": []
   },
   "source": [
    "Plot the correlation matrix for numerical features **(P1-2-2: 5 points)**"
   ]
  },
  {
   "cell_type": "code",
   "execution_count": 11,
   "id": "98457b20",
   "metadata": {
    "execution": {
     "iopub.execute_input": "2023-11-11T10:05:34.096658Z",
     "iopub.status.busy": "2023-11-11T10:05:34.096185Z",
     "iopub.status.idle": "2023-11-11T10:05:34.787220Z",
     "shell.execute_reply": "2023-11-11T10:05:34.786055Z"
    },
    "id": "072cd188",
    "outputId": "79b9166a-becd-456e-8122-442abb9262d8",
    "papermill": {
     "duration": 0.722562,
     "end_time": "2023-11-11T10:05:34.790175",
     "exception": false,
     "start_time": "2023-11-11T10:05:34.067613",
     "status": "completed"
    },
    "tags": []
   },
   "outputs": [
    {
     "data": {
      "text/plain": [
       "<Axes: >"
      ]
     },
     "execution_count": 11,
     "metadata": {},
     "output_type": "execute_result"
    },
    {
     "data": {
      "image/png": "[encoded data removed]",
      "text/plain": [
       "<Figure size 640x480 with 2 Axes>"
      ]
     },
     "metadata": {},
     "output_type": "display_data"
    }
   ],
   "source": [
    "sns.heatmap(df.select_dtypes(include='number').corr(), annot=True, cmap='rocket')"
   ]
  },
  {
   "cell_type": "markdown",
   "id": "ad197930",
   "metadata": {
    "id": "269f0189",
    "papermill": {
     "duration": 0.028227,
     "end_time": "2023-11-11T10:05:34.847902",
     "exception": false,
     "start_time": "2023-11-11T10:05:34.819675",
     "status": "completed"
    },
    "tags": []
   },
   "source": [
    "# Phase 2: Preprocessing"
   ]
  },
  {
   "cell_type": "markdown",
   "id": "822e05b2",
   "metadata": {
    "id": "1176754c",
    "papermill": {
     "duration": 0.028325,
     "end_time": "2023-11-11T10:05:34.904818",
     "exception": false,
     "start_time": "2023-11-11T10:05:34.876493",
     "status": "completed"
    },
    "tags": []
   },
   "source": [
    "## Sec 1: Handling Categorical Variables **(P2-Sec1: 15 points)**"
   ]
  },
  {
   "cell_type": "markdown",
   "id": "88099a13",
   "metadata": {
    "id": "ed3ee8ee",
    "papermill": {
     "duration": 0.028923,
     "end_time": "2023-11-11T10:05:34.961933",
     "exception": false,
     "start_time": "2023-11-11T10:05:34.933010",
     "status": "completed"
    },
    "tags": []
   },
   "source": [
    "Using one-hot encoding, convert the `region` variable to some numerical variables (the result should be a dataframe)\n",
    "<br>\n",
    "One-hot encoding is a method for converting categorical data to numerical ones that can be fed into a model. This method works by creating a binary vector for each category. **(P2-1-1: 5 points)**"
   ]
  },
  {
   "cell_type": "code",
   "execution_count": 12,
   "id": "4e414337",
   "metadata": {
    "execution": {
     "iopub.execute_input": "2023-11-11T10:05:35.019898Z",
     "iopub.status.busy": "2023-11-11T10:05:35.019498Z",
     "iopub.status.idle": "2023-11-11T10:05:35.046340Z",
     "shell.execute_reply": "2023-11-11T10:05:35.044874Z"
    },
    "id": "10ff0e61",
    "outputId": "4e2e10a6-324b-4057-ad72-e5d0b9735019",
    "papermill": {
     "duration": 0.059151,
     "end_time": "2023-11-11T10:05:35.049193",
     "exception": false,
     "start_time": "2023-11-11T10:05:34.990042",
     "status": "completed"
    },
    "tags": []
   },
   "outputs": [
    {
     "data": {
      "text/html": [
       "<div>\n",
       "<style scoped>\n",
       "    .dataframe tbody tr th:only-of-type {\n",
       "        vertical-align: middle;\n",
       "    }\n",
       "\n",
       "    .dataframe tbody tr th {\n",
       "        vertical-align: top;\n",
       "    }\n",
       "\n",
       "    .dataframe thead th {\n",
       "        text-align: right;\n",
       "    }\n",
       "</style>\n",
       "<table border=\"1\" class=\"dataframe\">\n",
       "  <thead>\n",
       "    <tr style=\"text-align: right;\">\n",
       "      <th></th>\n",
       "      <th>age</th>\n",
       "      <th>sex</th>\n",
       "      <th>bmi</th>\n",
       "      <th>children</th>\n",
       "      <th>smk</th>\n",
       "      <th>target</th>\n",
       "      <th>region_0</th>\n",
       "      <th>region_1</th>\n",
       "      <th>region_2</th>\n",
       "      <th>region_3</th>\n",
       "    </tr>\n",
       "  </thead>\n",
       "  <tbody>\n",
       "    <tr>\n",
       "      <th>0</th>\n",
       "      <td>46</td>\n",
       "      <td>1</td>\n",
       "      <td>19.950</td>\n",
       "      <td>2</td>\n",
       "      <td>0</td>\n",
       "      <td>9193.83850</td>\n",
       "      <td>0</td>\n",
       "      <td>1</td>\n",
       "      <td>0</td>\n",
       "      <td>0</td>\n",
       "    </tr>\n",
       "    <tr>\n",
       "      <th>1</th>\n",
       "      <td>47</td>\n",
       "      <td>1</td>\n",
       "      <td>24.320</td>\n",
       "      <td>0</td>\n",
       "      <td>0</td>\n",
       "      <td>8534.67180</td>\n",
       "      <td>1</td>\n",
       "      <td>0</td>\n",
       "      <td>0</td>\n",
       "      <td>0</td>\n",
       "    </tr>\n",
       "    <tr>\n",
       "      <th>2</th>\n",
       "      <td>52</td>\n",
       "      <td>1</td>\n",
       "      <td>24.860</td>\n",
       "      <td>0</td>\n",
       "      <td>0</td>\n",
       "      <td>27117.99378</td>\n",
       "      <td>0</td>\n",
       "      <td>0</td>\n",
       "      <td>1</td>\n",
       "      <td>0</td>\n",
       "    </tr>\n",
       "    <tr>\n",
       "      <th>3</th>\n",
       "      <td>39</td>\n",
       "      <td>1</td>\n",
       "      <td>34.320</td>\n",
       "      <td>5</td>\n",
       "      <td>0</td>\n",
       "      <td>8596.82780</td>\n",
       "      <td>0</td>\n",
       "      <td>0</td>\n",
       "      <td>1</td>\n",
       "      <td>0</td>\n",
       "    </tr>\n",
       "    <tr>\n",
       "      <th>4</th>\n",
       "      <td>54</td>\n",
       "      <td>1</td>\n",
       "      <td>21.470</td>\n",
       "      <td>3</td>\n",
       "      <td>0</td>\n",
       "      <td>12475.35130</td>\n",
       "      <td>0</td>\n",
       "      <td>1</td>\n",
       "      <td>0</td>\n",
       "      <td>0</td>\n",
       "    </tr>\n",
       "    <tr>\n",
       "      <th>...</th>\n",
       "      <td>...</td>\n",
       "      <td>...</td>\n",
       "      <td>...</td>\n",
       "      <td>...</td>\n",
       "      <td>...</td>\n",
       "      <td>...</td>\n",
       "      <td>...</td>\n",
       "      <td>...</td>\n",
       "      <td>...</td>\n",
       "      <td>...</td>\n",
       "    </tr>\n",
       "    <tr>\n",
       "      <th>1065</th>\n",
       "      <td>18</td>\n",
       "      <td>1</td>\n",
       "      <td>31.350</td>\n",
       "      <td>4</td>\n",
       "      <td>0</td>\n",
       "      <td>4561.18850</td>\n",
       "      <td>1</td>\n",
       "      <td>0</td>\n",
       "      <td>0</td>\n",
       "      <td>0</td>\n",
       "    </tr>\n",
       "    <tr>\n",
       "      <th>1066</th>\n",
       "      <td>39</td>\n",
       "      <td>1</td>\n",
       "      <td>23.870</td>\n",
       "      <td>5</td>\n",
       "      <td>0</td>\n",
       "      <td>8582.30230</td>\n",
       "      <td>0</td>\n",
       "      <td>0</td>\n",
       "      <td>1</td>\n",
       "      <td>0</td>\n",
       "    </tr>\n",
       "    <tr>\n",
       "      <th>1067</th>\n",
       "      <td>58</td>\n",
       "      <td>0</td>\n",
       "      <td>25.175</td>\n",
       "      <td>0</td>\n",
       "      <td>0</td>\n",
       "      <td>11931.12525</td>\n",
       "      <td>1</td>\n",
       "      <td>0</td>\n",
       "      <td>0</td>\n",
       "      <td>0</td>\n",
       "    </tr>\n",
       "    <tr>\n",
       "      <th>1068</th>\n",
       "      <td>37</td>\n",
       "      <td>1</td>\n",
       "      <td>47.600</td>\n",
       "      <td>2</td>\n",
       "      <td>1</td>\n",
       "      <td>46113.51100</td>\n",
       "      <td>0</td>\n",
       "      <td>0</td>\n",
       "      <td>0</td>\n",
       "      <td>1</td>\n",
       "    </tr>\n",
       "    <tr>\n",
       "      <th>1069</th>\n",
       "      <td>55</td>\n",
       "      <td>0</td>\n",
       "      <td>29.900</td>\n",
       "      <td>0</td>\n",
       "      <td>0</td>\n",
       "      <td>10214.63600</td>\n",
       "      <td>0</td>\n",
       "      <td>0</td>\n",
       "      <td>0</td>\n",
       "      <td>1</td>\n",
       "    </tr>\n",
       "  </tbody>\n",
       "</table>\n",
       "<p>1070 rows × 10 columns</p>\n",
       "</div>"
      ],
      "text/plain": [
       "      age  sex     bmi  children  smk       target  region_0  region_1  \\\n",
       "0      46    1  19.950         2    0   9193.83850         0         1   \n",
       "1      47    1  24.320         0    0   8534.67180         1         0   \n",
       "2      52    1  24.860         0    0  27117.99378         0         0   \n",
       "3      39    1  34.320         5    0   8596.82780         0         0   \n",
       "4      54    1  21.470         3    0  12475.35130         0         1   \n",
       "...   ...  ...     ...       ...  ...          ...       ...       ...   \n",
       "1065   18    1  31.350         4    0   4561.18850         1         0   \n",
       "1066   39    1  23.870         5    0   8582.30230         0         0   \n",
       "1067   58    0  25.175         0    0  11931.12525         1         0   \n",
       "1068   37    1  47.600         2    1  46113.51100         0         0   \n",
       "1069   55    0  29.900         0    0  10214.63600         0         0   \n",
       "\n",
       "      region_2  region_3  \n",
       "0            0         0  \n",
       "1            0         0  \n",
       "2            1         0  \n",
       "3            1         0  \n",
       "4            0         0  \n",
       "...        ...       ...  \n",
       "1065         0         0  \n",
       "1066         1         0  \n",
       "1067         0         0  \n",
       "1068         0         1  \n",
       "1069         0         1  \n",
       "\n",
       "[1070 rows x 10 columns]"
      ]
     },
     "execution_count": 12,
     "metadata": {},
     "output_type": "execute_result"
    }
   ],
   "source": [
    "one_hot_encoded_df= pd.get_dummies(data=df, columns=['region'], dtype=int)\n",
    "one_hot_encoded_df"
   ]
  },
  {
   "cell_type": "markdown",
   "id": "9d7cec4e",
   "metadata": {
    "id": "150e1f5c",
    "papermill": {
     "duration": 0.028708,
     "end_time": "2023-11-11T10:05:35.108108",
     "exception": false,
     "start_time": "2023-11-11T10:05:35.079400",
     "status": "completed"
    },
    "tags": []
   },
   "source": [
    "Do the same thing for the `smoker` and `sex` variable (the result should be a dataframe) **(P2-1-1: 10 points)**"
   ]
  },
  {
   "cell_type": "code",
   "execution_count": 13,
   "id": "f6e21585",
   "metadata": {
    "execution": {
     "iopub.execute_input": "2023-11-11T10:05:35.169958Z",
     "iopub.status.busy": "2023-11-11T10:05:35.169529Z",
     "iopub.status.idle": "2023-11-11T10:05:35.199673Z",
     "shell.execute_reply": "2023-11-11T10:05:35.198492Z"
    },
    "id": "17086e1b",
    "outputId": "aa248e59-cb96-44b7-9ff4-17e2a51b8119",
    "papermill": {
     "duration": 0.064785,
     "end_time": "2023-11-11T10:05:35.202310",
     "exception": false,
     "start_time": "2023-11-11T10:05:35.137525",
     "status": "completed"
    },
    "tags": []
   },
   "outputs": [
    {
     "data": {
      "text/html": [
       "<div>\n",
       "<style scoped>\n",
       "    .dataframe tbody tr th:only-of-type {\n",
       "        vertical-align: middle;\n",
       "    }\n",
       "\n",
       "    .dataframe tbody tr th {\n",
       "        vertical-align: top;\n",
       "    }\n",
       "\n",
       "    .dataframe thead th {\n",
       "        text-align: right;\n",
       "    }\n",
       "</style>\n",
       "<table border=\"1\" class=\"dataframe\">\n",
       "  <thead>\n",
       "    <tr style=\"text-align: right;\">\n",
       "      <th></th>\n",
       "      <th>age</th>\n",
       "      <th>bmi</th>\n",
       "      <th>children</th>\n",
       "      <th>target</th>\n",
       "      <th>region_0</th>\n",
       "      <th>region_1</th>\n",
       "      <th>region_2</th>\n",
       "      <th>region_3</th>\n",
       "      <th>smk_0</th>\n",
       "      <th>smk_1</th>\n",
       "      <th>sex_0</th>\n",
       "      <th>sex_1</th>\n",
       "    </tr>\n",
       "  </thead>\n",
       "  <tbody>\n",
       "    <tr>\n",
       "      <th>0</th>\n",
       "      <td>46</td>\n",
       "      <td>19.950</td>\n",
       "      <td>2</td>\n",
       "      <td>9193.83850</td>\n",
       "      <td>0</td>\n",
       "      <td>1</td>\n",
       "      <td>0</td>\n",
       "      <td>0</td>\n",
       "      <td>1</td>\n",
       "      <td>0</td>\n",
       "      <td>0</td>\n",
       "      <td>1</td>\n",
       "    </tr>\n",
       "    <tr>\n",
       "      <th>1</th>\n",
       "      <td>47</td>\n",
       "      <td>24.320</td>\n",
       "      <td>0</td>\n",
       "      <td>8534.67180</td>\n",
       "      <td>1</td>\n",
       "      <td>0</td>\n",
       "      <td>0</td>\n",
       "      <td>0</td>\n",
       "      <td>1</td>\n",
       "      <td>0</td>\n",
       "      <td>0</td>\n",
       "      <td>1</td>\n",
       "    </tr>\n",
       "    <tr>\n",
       "      <th>2</th>\n",
       "      <td>52</td>\n",
       "      <td>24.860</td>\n",
       "      <td>0</td>\n",
       "      <td>27117.99378</td>\n",
       "      <td>0</td>\n",
       "      <td>0</td>\n",
       "      <td>1</td>\n",
       "      <td>0</td>\n",
       "      <td>1</td>\n",
       "      <td>0</td>\n",
       "      <td>0</td>\n",
       "      <td>1</td>\n",
       "    </tr>\n",
       "    <tr>\n",
       "      <th>3</th>\n",
       "      <td>39</td>\n",
       "      <td>34.320</td>\n",
       "      <td>5</td>\n",
       "      <td>8596.82780</td>\n",
       "      <td>0</td>\n",
       "      <td>0</td>\n",
       "      <td>1</td>\n",
       "      <td>0</td>\n",
       "      <td>1</td>\n",
       "      <td>0</td>\n",
       "      <td>0</td>\n",
       "      <td>1</td>\n",
       "    </tr>\n",
       "    <tr>\n",
       "      <th>4</th>\n",
       "      <td>54</td>\n",
       "      <td>21.470</td>\n",
       "      <td>3</td>\n",
       "      <td>12475.35130</td>\n",
       "      <td>0</td>\n",
       "      <td>1</td>\n",
       "      <td>0</td>\n",
       "      <td>0</td>\n",
       "      <td>1</td>\n",
       "      <td>0</td>\n",
       "      <td>0</td>\n",
       "      <td>1</td>\n",
       "    </tr>\n",
       "    <tr>\n",
       "      <th>...</th>\n",
       "      <td>...</td>\n",
       "      <td>...</td>\n",
       "      <td>...</td>\n",
       "      <td>...</td>\n",
       "      <td>...</td>\n",
       "      <td>...</td>\n",
       "      <td>...</td>\n",
       "      <td>...</td>\n",
       "      <td>...</td>\n",
       "      <td>...</td>\n",
       "      <td>...</td>\n",
       "      <td>...</td>\n",
       "    </tr>\n",
       "    <tr>\n",
       "      <th>1065</th>\n",
       "      <td>18</td>\n",
       "      <td>31.350</td>\n",
       "      <td>4</td>\n",
       "      <td>4561.18850</td>\n",
       "      <td>1</td>\n",
       "      <td>0</td>\n",
       "      <td>0</td>\n",
       "      <td>0</td>\n",
       "      <td>1</td>\n",
       "      <td>0</td>\n",
       "      <td>0</td>\n",
       "      <td>1</td>\n",
       "    </tr>\n",
       "    <tr>\n",
       "      <th>1066</th>\n",
       "      <td>39</td>\n",
       "      <td>23.870</td>\n",
       "      <td>5</td>\n",
       "      <td>8582.30230</td>\n",
       "      <td>0</td>\n",
       "      <td>0</td>\n",
       "      <td>1</td>\n",
       "      <td>0</td>\n",
       "      <td>1</td>\n",
       "      <td>0</td>\n",
       "      <td>0</td>\n",
       "      <td>1</td>\n",
       "    </tr>\n",
       "    <tr>\n",
       "      <th>1067</th>\n",
       "      <td>58</td>\n",
       "      <td>25.175</td>\n",
       "      <td>0</td>\n",
       "      <td>11931.12525</td>\n",
       "      <td>1</td>\n",
       "      <td>0</td>\n",
       "      <td>0</td>\n",
       "      <td>0</td>\n",
       "      <td>1</td>\n",
       "      <td>0</td>\n",
       "      <td>1</td>\n",
       "      <td>0</td>\n",
       "    </tr>\n",
       "    <tr>\n",
       "      <th>1068</th>\n",
       "      <td>37</td>\n",
       "      <td>47.600</td>\n",
       "      <td>2</td>\n",
       "      <td>46113.51100</td>\n",
       "      <td>0</td>\n",
       "      <td>0</td>\n",
       "      <td>0</td>\n",
       "      <td>1</td>\n",
       "      <td>0</td>\n",
       "      <td>1</td>\n",
       "      <td>0</td>\n",
       "      <td>1</td>\n",
       "    </tr>\n",
       "    <tr>\n",
       "      <th>1069</th>\n",
       "      <td>55</td>\n",
       "      <td>29.900</td>\n",
       "      <td>0</td>\n",
       "      <td>10214.63600</td>\n",
       "      <td>0</td>\n",
       "      <td>0</td>\n",
       "      <td>0</td>\n",
       "      <td>1</td>\n",
       "      <td>1</td>\n",
       "      <td>0</td>\n",
       "      <td>1</td>\n",
       "      <td>0</td>\n",
       "    </tr>\n",
       "  </tbody>\n",
       "</table>\n",
       "<p>1070 rows × 12 columns</p>\n",
       "</div>"
      ],
      "text/plain": [
       "      age     bmi  children       target  region_0  region_1  region_2  \\\n",
       "0      46  19.950         2   9193.83850         0         1         0   \n",
       "1      47  24.320         0   8534.67180         1         0         0   \n",
       "2      52  24.860         0  27117.99378         0         0         1   \n",
       "3      39  34.320         5   8596.82780         0         0         1   \n",
       "4      54  21.470         3  12475.35130         0         1         0   \n",
       "...   ...     ...       ...          ...       ...       ...       ...   \n",
       "1065   18  31.350         4   4561.18850         1         0         0   \n",
       "1066   39  23.870         5   8582.30230         0         0         1   \n",
       "1067   58  25.175         0  11931.12525         1         0         0   \n",
       "1068   37  47.600         2  46113.51100         0         0         0   \n",
       "1069   55  29.900         0  10214.63600         0         0         0   \n",
       "\n",
       "      region_3  smk_0  smk_1  sex_0  sex_1  \n",
       "0            0      1      0      0      1  \n",
       "1            0      1      0      0      1  \n",
       "2            0      1      0      0      1  \n",
       "3            0      1      0      0      1  \n",
       "4            0      1      0      0      1  \n",
       "...        ...    ...    ...    ...    ...  \n",
       "1065         0      1      0      0      1  \n",
       "1066         0      1      0      0      1  \n",
       "1067         0      1      0      1      0  \n",
       "1068         1      0      1      0      1  \n",
       "1069         1      1      0      1      0  \n",
       "\n",
       "[1070 rows x 12 columns]"
      ]
     },
     "execution_count": 13,
     "metadata": {},
     "output_type": "execute_result"
    }
   ],
   "source": [
    "one_hot_encoded_df= pd.get_dummies(data=one_hot_encoded_df, columns=['smk'], dtype=int)\n",
    "one_hot_encoded_df= pd.get_dummies(data=one_hot_encoded_df, columns=['sex'], dtype=int)\n",
    "one_hot_encoded_df"
   ]
  },
  {
   "cell_type": "markdown",
   "id": "f7bfdc0e",
   "metadata": {
    "id": "f84cc753",
    "papermill": {
     "duration": 0.030183,
     "end_time": "2023-11-11T10:05:35.261615",
     "exception": false,
     "start_time": "2023-11-11T10:05:35.231432",
     "status": "completed"
    },
    "tags": []
   },
   "source": [
    "## Sec 2: Normalization **(P2-Sec2: 10 points)**"
   ]
  },
  {
   "cell_type": "markdown",
   "id": "425fe76e",
   "metadata": {
    "id": "ac7bf50f",
    "papermill": {
     "duration": 0.029659,
     "end_time": "2023-11-11T10:05:35.320546",
     "exception": false,
     "start_time": "2023-11-11T10:05:35.290887",
     "status": "completed"
    },
    "tags": []
   },
   "source": [
    "Normalize the columns `age`, `bmi`, and `children`. After this process, they should take values between 0 and 1. **(P2-2: 10 points)**"
   ]
  },
  {
   "cell_type": "code",
   "execution_count": 14,
   "id": "37e5ce5e",
   "metadata": {
    "execution": {
     "iopub.execute_input": "2023-11-11T10:05:35.382031Z",
     "iopub.status.busy": "2023-11-11T10:05:35.381610Z",
     "iopub.status.idle": "2023-11-11T10:05:35.410832Z",
     "shell.execute_reply": "2023-11-11T10:05:35.409530Z"
    },
    "id": "f88ba300",
    "outputId": "d696cc60-941d-43e5-9290-f83221fdcd49",
    "papermill": {
     "duration": 0.063801,
     "end_time": "2023-11-11T10:05:35.413771",
     "exception": false,
     "start_time": "2023-11-11T10:05:35.349970",
     "status": "completed"
    },
    "tags": []
   },
   "outputs": [
    {
     "data": {
      "text/html": [
       "<div>\n",
       "<style scoped>\n",
       "    .dataframe tbody tr th:only-of-type {\n",
       "        vertical-align: middle;\n",
       "    }\n",
       "\n",
       "    .dataframe tbody tr th {\n",
       "        vertical-align: top;\n",
       "    }\n",
       "\n",
       "    .dataframe thead th {\n",
       "        text-align: right;\n",
       "    }\n",
       "</style>\n",
       "<table border=\"1\" class=\"dataframe\">\n",
       "  <thead>\n",
       "    <tr style=\"text-align: right;\">\n",
       "      <th></th>\n",
       "      <th>age</th>\n",
       "      <th>bmi</th>\n",
       "      <th>children</th>\n",
       "      <th>target</th>\n",
       "      <th>region_0</th>\n",
       "      <th>region_1</th>\n",
       "      <th>region_2</th>\n",
       "      <th>region_3</th>\n",
       "      <th>smk_0</th>\n",
       "      <th>smk_1</th>\n",
       "      <th>sex_0</th>\n",
       "      <th>sex_1</th>\n",
       "    </tr>\n",
       "  </thead>\n",
       "  <tbody>\n",
       "    <tr>\n",
       "      <th>0</th>\n",
       "      <td>0.608696</td>\n",
       "      <td>0.107345</td>\n",
       "      <td>0.4</td>\n",
       "      <td>9193.83850</td>\n",
       "      <td>0</td>\n",
       "      <td>1</td>\n",
       "      <td>0</td>\n",
       "      <td>0</td>\n",
       "      <td>1</td>\n",
       "      <td>0</td>\n",
       "      <td>0</td>\n",
       "      <td>1</td>\n",
       "    </tr>\n",
       "    <tr>\n",
       "      <th>1</th>\n",
       "      <td>0.630435</td>\n",
       "      <td>0.224913</td>\n",
       "      <td>0.0</td>\n",
       "      <td>8534.67180</td>\n",
       "      <td>1</td>\n",
       "      <td>0</td>\n",
       "      <td>0</td>\n",
       "      <td>0</td>\n",
       "      <td>1</td>\n",
       "      <td>0</td>\n",
       "      <td>0</td>\n",
       "      <td>1</td>\n",
       "    </tr>\n",
       "    <tr>\n",
       "      <th>2</th>\n",
       "      <td>0.739130</td>\n",
       "      <td>0.239440</td>\n",
       "      <td>0.0</td>\n",
       "      <td>27117.99378</td>\n",
       "      <td>0</td>\n",
       "      <td>0</td>\n",
       "      <td>1</td>\n",
       "      <td>0</td>\n",
       "      <td>1</td>\n",
       "      <td>0</td>\n",
       "      <td>0</td>\n",
       "      <td>1</td>\n",
       "    </tr>\n",
       "    <tr>\n",
       "      <th>3</th>\n",
       "      <td>0.456522</td>\n",
       "      <td>0.493947</td>\n",
       "      <td>1.0</td>\n",
       "      <td>8596.82780</td>\n",
       "      <td>0</td>\n",
       "      <td>0</td>\n",
       "      <td>1</td>\n",
       "      <td>0</td>\n",
       "      <td>1</td>\n",
       "      <td>0</td>\n",
       "      <td>0</td>\n",
       "      <td>1</td>\n",
       "    </tr>\n",
       "    <tr>\n",
       "      <th>4</th>\n",
       "      <td>0.782609</td>\n",
       "      <td>0.148238</td>\n",
       "      <td>0.6</td>\n",
       "      <td>12475.35130</td>\n",
       "      <td>0</td>\n",
       "      <td>1</td>\n",
       "      <td>0</td>\n",
       "      <td>0</td>\n",
       "      <td>1</td>\n",
       "      <td>0</td>\n",
       "      <td>0</td>\n",
       "      <td>1</td>\n",
       "    </tr>\n",
       "    <tr>\n",
       "      <th>...</th>\n",
       "      <td>...</td>\n",
       "      <td>...</td>\n",
       "      <td>...</td>\n",
       "      <td>...</td>\n",
       "      <td>...</td>\n",
       "      <td>...</td>\n",
       "      <td>...</td>\n",
       "      <td>...</td>\n",
       "      <td>...</td>\n",
       "      <td>...</td>\n",
       "      <td>...</td>\n",
       "      <td>...</td>\n",
       "    </tr>\n",
       "    <tr>\n",
       "      <th>1065</th>\n",
       "      <td>0.000000</td>\n",
       "      <td>0.414044</td>\n",
       "      <td>0.8</td>\n",
       "      <td>4561.18850</td>\n",
       "      <td>1</td>\n",
       "      <td>0</td>\n",
       "      <td>0</td>\n",
       "      <td>0</td>\n",
       "      <td>1</td>\n",
       "      <td>0</td>\n",
       "      <td>0</td>\n",
       "      <td>1</td>\n",
       "    </tr>\n",
       "    <tr>\n",
       "      <th>1066</th>\n",
       "      <td>0.456522</td>\n",
       "      <td>0.212806</td>\n",
       "      <td>1.0</td>\n",
       "      <td>8582.30230</td>\n",
       "      <td>0</td>\n",
       "      <td>0</td>\n",
       "      <td>1</td>\n",
       "      <td>0</td>\n",
       "      <td>1</td>\n",
       "      <td>0</td>\n",
       "      <td>0</td>\n",
       "      <td>1</td>\n",
       "    </tr>\n",
       "    <tr>\n",
       "      <th>1067</th>\n",
       "      <td>0.869565</td>\n",
       "      <td>0.247915</td>\n",
       "      <td>0.0</td>\n",
       "      <td>11931.12525</td>\n",
       "      <td>1</td>\n",
       "      <td>0</td>\n",
       "      <td>0</td>\n",
       "      <td>0</td>\n",
       "      <td>1</td>\n",
       "      <td>0</td>\n",
       "      <td>1</td>\n",
       "      <td>0</td>\n",
       "    </tr>\n",
       "    <tr>\n",
       "      <th>1068</th>\n",
       "      <td>0.413043</td>\n",
       "      <td>0.851224</td>\n",
       "      <td>0.4</td>\n",
       "      <td>46113.51100</td>\n",
       "      <td>0</td>\n",
       "      <td>0</td>\n",
       "      <td>0</td>\n",
       "      <td>1</td>\n",
       "      <td>0</td>\n",
       "      <td>1</td>\n",
       "      <td>0</td>\n",
       "      <td>1</td>\n",
       "    </tr>\n",
       "    <tr>\n",
       "      <th>1069</th>\n",
       "      <td>0.804348</td>\n",
       "      <td>0.375034</td>\n",
       "      <td>0.0</td>\n",
       "      <td>10214.63600</td>\n",
       "      <td>0</td>\n",
       "      <td>0</td>\n",
       "      <td>0</td>\n",
       "      <td>1</td>\n",
       "      <td>1</td>\n",
       "      <td>0</td>\n",
       "      <td>1</td>\n",
       "      <td>0</td>\n",
       "    </tr>\n",
       "  </tbody>\n",
       "</table>\n",
       "<p>1070 rows × 12 columns</p>\n",
       "</div>"
      ],
      "text/plain": [
       "           age       bmi  children       target  region_0  region_1  region_2  \\\n",
       "0     0.608696  0.107345       0.4   9193.83850         0         1         0   \n",
       "1     0.630435  0.224913       0.0   8534.67180         1         0         0   \n",
       "2     0.739130  0.239440       0.0  27117.99378         0         0         1   \n",
       "3     0.456522  0.493947       1.0   8596.82780         0         0         1   \n",
       "4     0.782609  0.148238       0.6  12475.35130         0         1         0   \n",
       "...        ...       ...       ...          ...       ...       ...       ...   \n",
       "1065  0.000000  0.414044       0.8   4561.18850         1         0         0   \n",
       "1066  0.456522  0.212806       1.0   8582.30230         0         0         1   \n",
       "1067  0.869565  0.247915       0.0  11931.12525         1         0         0   \n",
       "1068  0.413043  0.851224       0.4  46113.51100         0         0         0   \n",
       "1069  0.804348  0.375034       0.0  10214.63600         0         0         0   \n",
       "\n",
       "      region_3  smk_0  smk_1  sex_0  sex_1  \n",
       "0            0      1      0      0      1  \n",
       "1            0      1      0      0      1  \n",
       "2            0      1      0      0      1  \n",
       "3            0      1      0      0      1  \n",
       "4            0      1      0      0      1  \n",
       "...        ...    ...    ...    ...    ...  \n",
       "1065         0      1      0      0      1  \n",
       "1066         0      1      0      0      1  \n",
       "1067         0      1      0      1      0  \n",
       "1068         1      0      1      0      1  \n",
       "1069         1      1      0      1      0  \n",
       "\n",
       "[1070 rows x 12 columns]"
      ]
     },
     "execution_count": 14,
     "metadata": {},
     "output_type": "execute_result"
    }
   ],
   "source": [
    "def normalize(x):\n",
    "    return (x-x.min())/(x.max()-x.min())\n",
    "\n",
    "normalized_df= one_hot_encoded_df\n",
    "normalized_df['age']= normalize(normalized_df['age'])\n",
    "normalized_df['bmi']= normalize(normalized_df['bmi'])\n",
    "normalized_df['children']= normalize(normalized_df['children'])\n",
    "normalized_df"
   ]
  },
  {
   "cell_type": "markdown",
   "id": "ddb012ee",
   "metadata": {
    "id": "ee1199e1",
    "papermill": {
     "duration": 0.029682,
     "end_time": "2023-11-11T10:05:35.473424",
     "exception": false,
     "start_time": "2023-11-11T10:05:35.443742",
     "status": "completed"
    },
    "tags": []
   },
   "source": [
    "# Phase 3: Training"
   ]
  },
  {
   "cell_type": "markdown",
   "id": "e23f7b6d",
   "metadata": {
    "id": "32252d37",
    "papermill": {
     "duration": 0.029214,
     "end_time": "2023-11-11T10:05:35.532434",
     "exception": false,
     "start_time": "2023-11-11T10:05:35.503220",
     "status": "completed"
    },
    "tags": []
   },
   "source": [
    "## Sec 1: Preparing features and Targets **(P3-Sec1: 5 points)**"
   ]
  },
  {
   "cell_type": "markdown",
   "id": "f3fe5197",
   "metadata": {
    "id": "689637db",
    "papermill": {
     "duration": 0.029998,
     "end_time": "2023-11-11T10:05:35.592289",
     "exception": false,
     "start_time": "2023-11-11T10:05:35.562291",
     "status": "completed"
    },
    "tags": []
   },
   "source": [
    "Extract only the features from the dataframe by removing the `target` column. <br>\n",
    "Note: Do not remove the previous dataframe."
   ]
  },
  {
   "cell_type": "code",
   "execution_count": 15,
   "id": "30770d41",
   "metadata": {
    "execution": {
     "iopub.execute_input": "2023-11-11T10:05:35.654917Z",
     "iopub.status.busy": "2023-11-11T10:05:35.654237Z",
     "iopub.status.idle": "2023-11-11T10:05:35.677611Z",
     "shell.execute_reply": "2023-11-11T10:05:35.676337Z"
    },
    "id": "f9fc205a",
    "outputId": "3cda4be4-a67a-480e-adb6-22395b2771a6",
    "papermill": {
     "duration": 0.057935,
     "end_time": "2023-11-11T10:05:35.680360",
     "exception": false,
     "start_time": "2023-11-11T10:05:35.622425",
     "status": "completed"
    },
    "tags": []
   },
   "outputs": [
    {
     "data": {
      "text/html": [
       "<div>\n",
       "<style scoped>\n",
       "    .dataframe tbody tr th:only-of-type {\n",
       "        vertical-align: middle;\n",
       "    }\n",
       "\n",
       "    .dataframe tbody tr th {\n",
       "        vertical-align: top;\n",
       "    }\n",
       "\n",
       "    .dataframe thead th {\n",
       "        text-align: right;\n",
       "    }\n",
       "</style>\n",
       "<table border=\"1\" class=\"dataframe\">\n",
       "  <thead>\n",
       "    <tr style=\"text-align: right;\">\n",
       "      <th></th>\n",
       "      <th>age</th>\n",
       "      <th>bmi</th>\n",
       "      <th>children</th>\n",
       "      <th>region_0</th>\n",
       "      <th>region_1</th>\n",
       "      <th>region_2</th>\n",
       "      <th>region_3</th>\n",
       "      <th>smk_0</th>\n",
       "      <th>smk_1</th>\n",
       "      <th>sex_0</th>\n",
       "      <th>sex_1</th>\n",
       "    </tr>\n",
       "  </thead>\n",
       "  <tbody>\n",
       "    <tr>\n",
       "      <th>0</th>\n",
       "      <td>0.608696</td>\n",
       "      <td>0.107345</td>\n",
       "      <td>0.4</td>\n",
       "      <td>0</td>\n",
       "      <td>1</td>\n",
       "      <td>0</td>\n",
       "      <td>0</td>\n",
       "      <td>1</td>\n",
       "      <td>0</td>\n",
       "      <td>0</td>\n",
       "      <td>1</td>\n",
       "    </tr>\n",
       "    <tr>\n",
       "      <th>1</th>\n",
       "      <td>0.630435</td>\n",
       "      <td>0.224913</td>\n",
       "      <td>0.0</td>\n",
       "      <td>1</td>\n",
       "      <td>0</td>\n",
       "      <td>0</td>\n",
       "      <td>0</td>\n",
       "      <td>1</td>\n",
       "      <td>0</td>\n",
       "      <td>0</td>\n",
       "      <td>1</td>\n",
       "    </tr>\n",
       "    <tr>\n",
       "      <th>2</th>\n",
       "      <td>0.739130</td>\n",
       "      <td>0.239440</td>\n",
       "      <td>0.0</td>\n",
       "      <td>0</td>\n",
       "      <td>0</td>\n",
       "      <td>1</td>\n",
       "      <td>0</td>\n",
       "      <td>1</td>\n",
       "      <td>0</td>\n",
       "      <td>0</td>\n",
       "      <td>1</td>\n",
       "    </tr>\n",
       "    <tr>\n",
       "      <th>3</th>\n",
       "      <td>0.456522</td>\n",
       "      <td>0.493947</td>\n",
       "      <td>1.0</td>\n",
       "      <td>0</td>\n",
       "      <td>0</td>\n",
       "      <td>1</td>\n",
       "      <td>0</td>\n",
       "      <td>1</td>\n",
       "      <td>0</td>\n",
       "      <td>0</td>\n",
       "      <td>1</td>\n",
       "    </tr>\n",
       "    <tr>\n",
       "      <th>4</th>\n",
       "      <td>0.782609</td>\n",
       "      <td>0.148238</td>\n",
       "      <td>0.6</td>\n",
       "      <td>0</td>\n",
       "      <td>1</td>\n",
       "      <td>0</td>\n",
       "      <td>0</td>\n",
       "      <td>1</td>\n",
       "      <td>0</td>\n",
       "      <td>0</td>\n",
       "      <td>1</td>\n",
       "    </tr>\n",
       "    <tr>\n",
       "      <th>...</th>\n",
       "      <td>...</td>\n",
       "      <td>...</td>\n",
       "      <td>...</td>\n",
       "      <td>...</td>\n",
       "      <td>...</td>\n",
       "      <td>...</td>\n",
       "      <td>...</td>\n",
       "      <td>...</td>\n",
       "      <td>...</td>\n",
       "      <td>...</td>\n",
       "      <td>...</td>\n",
       "    </tr>\n",
       "    <tr>\n",
       "      <th>1065</th>\n",
       "      <td>0.000000</td>\n",
       "      <td>0.414044</td>\n",
       "      <td>0.8</td>\n",
       "      <td>1</td>\n",
       "      <td>0</td>\n",
       "      <td>0</td>\n",
       "      <td>0</td>\n",
       "      <td>1</td>\n",
       "      <td>0</td>\n",
       "      <td>0</td>\n",
       "      <td>1</td>\n",
       "    </tr>\n",
       "    <tr>\n",
       "      <th>1066</th>\n",
       "      <td>0.456522</td>\n",
       "      <td>0.212806</td>\n",
       "      <td>1.0</td>\n",
       "      <td>0</td>\n",
       "      <td>0</td>\n",
       "      <td>1</td>\n",
       "      <td>0</td>\n",
       "      <td>1</td>\n",
       "      <td>0</td>\n",
       "      <td>0</td>\n",
       "      <td>1</td>\n",
       "    </tr>\n",
       "    <tr>\n",
       "      <th>1067</th>\n",
       "      <td>0.869565</td>\n",
       "      <td>0.247915</td>\n",
       "      <td>0.0</td>\n",
       "      <td>1</td>\n",
       "      <td>0</td>\n",
       "      <td>0</td>\n",
       "      <td>0</td>\n",
       "      <td>1</td>\n",
       "      <td>0</td>\n",
       "      <td>1</td>\n",
       "      <td>0</td>\n",
       "    </tr>\n",
       "    <tr>\n",
       "      <th>1068</th>\n",
       "      <td>0.413043</td>\n",
       "      <td>0.851224</td>\n",
       "      <td>0.4</td>\n",
       "      <td>0</td>\n",
       "      <td>0</td>\n",
       "      <td>0</td>\n",
       "      <td>1</td>\n",
       "      <td>0</td>\n",
       "      <td>1</td>\n",
       "      <td>0</td>\n",
       "      <td>1</td>\n",
       "    </tr>\n",
       "    <tr>\n",
       "      <th>1069</th>\n",
       "      <td>0.804348</td>\n",
       "      <td>0.375034</td>\n",
       "      <td>0.0</td>\n",
       "      <td>0</td>\n",
       "      <td>0</td>\n",
       "      <td>0</td>\n",
       "      <td>1</td>\n",
       "      <td>1</td>\n",
       "      <td>0</td>\n",
       "      <td>1</td>\n",
       "      <td>0</td>\n",
       "    </tr>\n",
       "  </tbody>\n",
       "</table>\n",
       "<p>1070 rows × 11 columns</p>\n",
       "</div>"
      ],
      "text/plain": [
       "           age       bmi  children  region_0  region_1  region_2  region_3  \\\n",
       "0     0.608696  0.107345       0.4         0         1         0         0   \n",
       "1     0.630435  0.224913       0.0         1         0         0         0   \n",
       "2     0.739130  0.239440       0.0         0         0         1         0   \n",
       "3     0.456522  0.493947       1.0         0         0         1         0   \n",
       "4     0.782609  0.148238       0.6         0         1         0         0   \n",
       "...        ...       ...       ...       ...       ...       ...       ...   \n",
       "1065  0.000000  0.414044       0.8         1         0         0         0   \n",
       "1066  0.456522  0.212806       1.0         0         0         1         0   \n",
       "1067  0.869565  0.247915       0.0         1         0         0         0   \n",
       "1068  0.413043  0.851224       0.4         0         0         0         1   \n",
       "1069  0.804348  0.375034       0.0         0         0         0         1   \n",
       "\n",
       "      smk_0  smk_1  sex_0  sex_1  \n",
       "0         1      0      0      1  \n",
       "1         1      0      0      1  \n",
       "2         1      0      0      1  \n",
       "3         1      0      0      1  \n",
       "4         1      0      0      1  \n",
       "...     ...    ...    ...    ...  \n",
       "1065      1      0      0      1  \n",
       "1066      1      0      0      1  \n",
       "1067      1      0      1      0  \n",
       "1068      0      1      0      1  \n",
       "1069      1      0      1      0  \n",
       "\n",
       "[1070 rows x 11 columns]"
      ]
     },
     "execution_count": 15,
     "metadata": {},
     "output_type": "execute_result"
    }
   ],
   "source": [
    "features_df= normalized_df.drop('target', axis='columns')\n",
    "features_df"
   ]
  },
  {
   "cell_type": "markdown",
   "id": "1e10eb76",
   "metadata": {
    "id": "ec4b1b9f",
    "papermill": {
     "duration": 0.030183,
     "end_time": "2023-11-11T10:05:35.741033",
     "exception": false,
     "start_time": "2023-11-11T10:05:35.710850",
     "status": "completed"
    },
    "tags": []
   },
   "source": [
    "Convert the new dataframe into a numpy array **(P3-1-1: 3 points)**"
   ]
  },
  {
   "cell_type": "code",
   "execution_count": 16,
   "id": "8ca2037b",
   "metadata": {
    "execution": {
     "iopub.execute_input": "2023-11-11T10:05:35.804219Z",
     "iopub.status.busy": "2023-11-11T10:05:35.803553Z",
     "iopub.status.idle": "2023-11-11T10:05:35.812530Z",
     "shell.execute_reply": "2023-11-11T10:05:35.811500Z"
    },
    "id": "2108f459",
    "outputId": "5016edf7-0ffd-4aed-ca46-6a9e0c68adac",
    "papermill": {
     "duration": 0.042847,
     "end_time": "2023-11-11T10:05:35.814913",
     "exception": false,
     "start_time": "2023-11-11T10:05:35.772066",
     "status": "completed"
    },
    "tags": []
   },
   "outputs": [
    {
     "data": {
      "text/plain": [
       "array([[0.60869565, 0.10734463, 0.4       , ..., 0.        , 0.        ,\n",
       "        1.        ],\n",
       "       [0.63043478, 0.22491256, 0.        , ..., 0.        , 0.        ,\n",
       "        1.        ],\n",
       "       [0.73913043, 0.23944041, 0.        , ..., 0.        , 0.        ,\n",
       "        1.        ],\n",
       "       ...,\n",
       "       [0.86956522, 0.24791499, 0.        , ..., 0.        , 1.        ,\n",
       "        0.        ],\n",
       "       [0.41304348, 0.85122411, 0.4       , ..., 1.        , 0.        ,\n",
       "        1.        ],\n",
       "       [0.80434783, 0.37503363, 0.        , ..., 0.        , 1.        ,\n",
       "        0.        ]])"
      ]
     },
     "execution_count": 16,
     "metadata": {},
     "output_type": "execute_result"
    }
   ],
   "source": [
    "x= features_df.to_numpy()\n",
    "x"
   ]
  },
  {
   "cell_type": "markdown",
   "id": "882f7a9f",
   "metadata": {
    "id": "50ce4231",
    "papermill": {
     "duration": 0.029692,
     "end_time": "2023-11-11T10:05:35.874478",
     "exception": false,
     "start_time": "2023-11-11T10:05:35.844786",
     "status": "completed"
    },
    "tags": []
   },
   "source": [
    "Get the `target` column from the previous dataframe and convert it to another numpy array named `y` **(P3-1-2: 2 points)**"
   ]
  },
  {
   "cell_type": "code",
   "execution_count": 17,
   "id": "d525318d",
   "metadata": {
    "execution": {
     "iopub.execute_input": "2023-11-11T10:05:35.938436Z",
     "iopub.status.busy": "2023-11-11T10:05:35.937604Z",
     "iopub.status.idle": "2023-11-11T10:05:35.945691Z",
     "shell.execute_reply": "2023-11-11T10:05:35.944675Z"
    },
    "id": "398524f9",
    "outputId": "1a27b3cd-12cc-4800-a214-8b60fd4dff90",
    "papermill": {
     "duration": 0.042927,
     "end_time": "2023-11-11T10:05:35.948113",
     "exception": false,
     "start_time": "2023-11-11T10:05:35.905186",
     "status": "completed"
    },
    "tags": []
   },
   "outputs": [
    {
     "data": {
      "text/plain": [
       "array([ 9193.8385 ,  8534.6718 , 27117.99378, ..., 11931.12525,\n",
       "       46113.511  , 10214.636  ])"
      ]
     },
     "execution_count": 17,
     "metadata": {},
     "output_type": "execute_result"
    }
   ],
   "source": [
    "y= normalized_df['target'].to_numpy()\n",
    "y"
   ]
  },
  {
   "cell_type": "markdown",
   "id": "1b29a07c",
   "metadata": {
    "id": "01db8a8e",
    "papermill": {
     "duration": 0.03034,
     "end_time": "2023-11-11T10:05:36.009189",
     "exception": false,
     "start_time": "2023-11-11T10:05:35.978849",
     "status": "completed"
    },
    "tags": []
   },
   "source": [
    "## Sec 2: Splitting the Data **(P3-Sec2: 5 points)**"
   ]
  },
  {
   "cell_type": "markdown",
   "id": "fe052f4d",
   "metadata": {
    "id": "e52068ba",
    "papermill": {
     "duration": 0.030056,
     "end_time": "2023-11-11T10:05:36.070068",
     "exception": false,
     "start_time": "2023-11-11T10:05:36.040012",
     "status": "completed"
    },
    "tags": []
   },
   "source": [
    "Split the dataset into two parts such that the training set (denoted as `x_train` and ‍`y_train`), contains 80% of the samples. **(P3-2: 5 points)**"
   ]
  },
  {
   "cell_type": "code",
   "execution_count": 18,
   "id": "3e5f0e20",
   "metadata": {
    "execution": {
     "iopub.execute_input": "2023-11-11T10:05:36.134517Z",
     "iopub.status.busy": "2023-11-11T10:05:36.133802Z",
     "iopub.status.idle": "2023-11-11T10:05:36.296658Z",
     "shell.execute_reply": "2023-11-11T10:05:36.295552Z"
    },
    "id": "2f51edf6",
    "papermill": {
     "duration": 0.19777,
     "end_time": "2023-11-11T10:05:36.299434",
     "exception": false,
     "start_time": "2023-11-11T10:05:36.101664",
     "status": "completed"
    },
    "tags": []
   },
   "outputs": [],
   "source": [
    "from sklearn.model_selection import train_test_split\n",
    "x_train, x_test, y_train, y_test= train_test_split(x, y, test_size=0.2)"
   ]
  },
  {
   "cell_type": "markdown",
   "id": "bd5067ac",
   "metadata": {
    "id": "3b11b352",
    "papermill": {
     "duration": 0.030397,
     "end_time": "2023-11-11T10:05:36.360562",
     "exception": false,
     "start_time": "2023-11-11T10:05:36.330165",
     "status": "completed"
    },
    "tags": []
   },
   "source": [
    "## Sec 3: Linear Regression from Scratch **(P3-Sec3: 10 points)**\n",
    "\n",
    "Complete this section with your code. **(P3-3: 10 points)**"
   ]
  },
  {
   "cell_type": "code",
   "execution_count": 19,
   "id": "a0106ef8",
   "metadata": {
    "execution": {
     "iopub.execute_input": "2023-11-11T10:05:36.423550Z",
     "iopub.status.busy": "2023-11-11T10:05:36.422846Z",
     "iopub.status.idle": "2023-11-11T10:05:36.432197Z",
     "shell.execute_reply": "2023-11-11T10:05:36.431326Z"
    },
    "id": "d19c47ce",
    "papermill": {
     "duration": 0.043715,
     "end_time": "2023-11-11T10:05:36.434759",
     "exception": false,
     "start_time": "2023-11-11T10:05:36.391044",
     "status": "completed"
    },
    "tags": []
   },
   "outputs": [],
   "source": [
    "class MyLinearRegression:\n",
    "    def __init__(self):\n",
    "        self.iteration_count= 10000\n",
    "        self.learning_rate= 0.01\n",
    "        self.w= None\n",
    "        self.b= None\n",
    "\n",
    "    def fit(self, x, y):\n",
    "        \n",
    "        sample_count, feature_count= x.shape\n",
    "        self.w= np.zeros(feature_count)\n",
    "        self.b= 0\n",
    "        \n",
    "        for i in range(self.iteration_count):\n",
    "            y_pred= self.predict(x)\n",
    "            \n",
    "            dw = -(2*np.dot(x.T, y-y_pred))/ sample_count \n",
    "            db = -2*np.sum(y-y_pred)/ sample_count  \n",
    "\n",
    "            self.w -= self.learning_rate*dw \n",
    "            self.b -= self.learning_rate*db \n",
    "\n",
    "\n",
    "    def predict(self, x):\n",
    "        return (np.dot(x, self.w) + self.b)"
   ]
  },
  {
   "cell_type": "markdown",
   "id": "a114fdeb",
   "metadata": {
    "id": "8f4e311e",
    "papermill": {
     "duration": 0.029876,
     "end_time": "2023-11-11T10:05:36.494658",
     "exception": false,
     "start_time": "2023-11-11T10:05:36.464782",
     "status": "completed"
    },
    "tags": []
   },
   "source": [
    "## Sec 4: Fit the model to training data **(P3-Sec4: 10 points)**"
   ]
  },
  {
   "cell_type": "markdown",
   "id": "ff74a40a",
   "metadata": {
    "id": "a158924a",
    "papermill": {
     "duration": 0.030808,
     "end_time": "2023-11-11T10:05:36.556192",
     "exception": false,
     "start_time": "2023-11-11T10:05:36.525384",
     "status": "completed"
    },
    "tags": []
   },
   "source": [
    "Fit a linear regressor to the data. (Use both regressors - sklearn & from scratch) **(P3-4-1: 2 points)**"
   ]
  },
  {
   "cell_type": "code",
   "execution_count": 20,
   "id": "023adab2",
   "metadata": {
    "execution": {
     "iopub.execute_input": "2023-11-11T10:05:36.619198Z",
     "iopub.status.busy": "2023-11-11T10:05:36.618517Z",
     "iopub.status.idle": "2023-11-11T10:05:37.804279Z",
     "shell.execute_reply": "2023-11-11T10:05:37.802598Z"
    },
    "id": "2bf0cb99",
    "papermill": {
     "duration": 1.222159,
     "end_time": "2023-11-11T10:05:37.808766",
     "exception": false,
     "start_time": "2023-11-11T10:05:36.586607",
     "status": "completed"
    },
    "tags": []
   },
   "outputs": [],
   "source": [
    "from sklearn.linear_model import LinearRegression\n",
    "\n",
    "sklearn_regressor = LinearRegression()\n",
    "scratch_regressor=MyLinearRegression()\n",
    "\n",
    "sklearn_regressor.fit(x_train, y_train)\n",
    "scratch_regressor.fit(x_train, y_train)"
   ]
  },
  {
   "cell_type": "markdown",
   "id": "c56acf75",
   "metadata": {
    "id": "0604ea17",
    "papermill": {
     "duration": 0.056364,
     "end_time": "2023-11-11T10:05:37.930321",
     "exception": false,
     "start_time": "2023-11-11T10:05:37.873957",
     "status": "completed"
    },
    "tags": []
   },
   "source": [
    "Get the coefficients of the variables (sklearn) **(P3-4-2: 3 points)**"
   ]
  },
  {
   "cell_type": "code",
   "execution_count": 21,
   "id": "87a96264",
   "metadata": {
    "execution": {
     "iopub.execute_input": "2023-11-11T10:05:37.993865Z",
     "iopub.status.busy": "2023-11-11T10:05:37.993481Z",
     "iopub.status.idle": "2023-11-11T10:05:38.000375Z",
     "shell.execute_reply": "2023-11-11T10:05:37.999118Z"
    },
    "id": "4d6fb9a9",
    "outputId": "d48a567f-6ead-47a4-a00d-c0334cd5ed9f",
    "papermill": {
     "duration": 0.041822,
     "end_time": "2023-11-11T10:05:38.002971",
     "exception": false,
     "start_time": "2023-11-11T10:05:37.961149",
     "status": "completed"
    },
    "tags": []
   },
   "outputs": [
    {
     "name": "stdout",
     "output_type": "stream",
     "text": [
      "{'age': 11663.140682633319, 'bmi': 12631.496575775333, 'children': 2514.6528719562334, 'region_0': 534.9286194217729, 'region_1': 20.23176919826389, 'region_2': -115.09588194824892, 'region_3': -440.0645066717884, 'smk_0': -11848.835488273662, 'smk_1': 11848.835488273664, 'sex_0': 2.3121474348237143, 'sex_1': -2.3121474348252207}\n"
     ]
    }
   ],
   "source": [
    "coeffs= {}\n",
    "i=0\n",
    "for coef in sklearn_regressor.coef_:\n",
    "    coeffs[features_df.columns.values[i]]= coef\n",
    "    i+=1\n",
    "    \n",
    "print(coeffs)"
   ]
  },
  {
   "cell_type": "markdown",
   "id": "4d9ecf92",
   "metadata": {
    "id": "a015255e",
    "papermill": {
     "duration": 0.030764,
     "end_time": "2023-11-11T10:05:38.064172",
     "exception": false,
     "start_time": "2023-11-11T10:05:38.033408",
     "status": "completed"
    },
    "tags": []
   },
   "source": [
    "Get the score value of sklearn regressor on train dataset (sklearn) **(P3-4-3: 5 points)**"
   ]
  },
  {
   "cell_type": "code",
   "execution_count": 22,
   "id": "d6eb3e49",
   "metadata": {
    "execution": {
     "iopub.execute_input": "2023-11-11T10:05:38.129873Z",
     "iopub.status.busy": "2023-11-11T10:05:38.128799Z",
     "iopub.status.idle": "2023-11-11T10:05:38.138379Z",
     "shell.execute_reply": "2023-11-11T10:05:38.136475Z"
    },
    "id": "7f75a009",
    "outputId": "327b0138-4632-4283-cb68-91be1f86a8b4",
    "papermill": {
     "duration": 0.047133,
     "end_time": "2023-11-11T10:05:38.142997",
     "exception": false,
     "start_time": "2023-11-11T10:05:38.095864",
     "status": "completed"
    },
    "tags": []
   },
   "outputs": [
    {
     "name": "stdout",
     "output_type": "stream",
     "text": [
      "0.7353868269527727\n"
     ]
    }
   ],
   "source": [
    "print(sklearn_regressor.score(x_train, y_train))\n"
   ]
  },
  {
   "cell_type": "markdown",
   "id": "408cac24",
   "metadata": {
    "id": "4fc41ff7",
    "papermill": {
     "duration": 0.054936,
     "end_time": "2023-11-11T10:05:38.264138",
     "exception": false,
     "start_time": "2023-11-11T10:05:38.209202",
     "status": "completed"
    },
    "tags": []
   },
   "source": [
    "# Phase 4: Evaluation"
   ]
  },
  {
   "cell_type": "markdown",
   "id": "a3011e46",
   "metadata": {
    "id": "pokhZKbfnxEu",
    "papermill": {
     "duration": 0.031743,
     "end_time": "2023-11-11T10:05:38.334307",
     "exception": false,
     "start_time": "2023-11-11T10:05:38.302564",
     "status": "completed"
    },
    "tags": []
   },
   "source": [
    "## Sec 1: Evaluate both models and compare the results **(P4-Sec1: 20 points)**"
   ]
  },
  {
   "cell_type": "markdown",
   "id": "02e1d678",
   "metadata": {
    "id": "37c78322",
    "papermill": {
     "duration": 0.030466,
     "end_time": "2023-11-11T10:05:38.397644",
     "exception": false,
     "start_time": "2023-11-11T10:05:38.367178",
     "status": "completed"
    },
    "tags": []
   },
   "source": [
    "Predict the value of \"y\" for each \"x\" belonging to the \"testing\" set (use both regressors) **(P4-1-1: 10 points)**"
   ]
  },
  {
   "cell_type": "code",
   "execution_count": 23,
   "id": "135eed75",
   "metadata": {
    "execution": {
     "iopub.execute_input": "2023-11-11T10:05:38.461043Z",
     "iopub.status.busy": "2023-11-11T10:05:38.460643Z",
     "iopub.status.idle": "2023-11-11T10:05:38.465789Z",
     "shell.execute_reply": "2023-11-11T10:05:38.464845Z"
    },
    "id": "1ade9347",
    "papermill": {
     "duration": 0.040103,
     "end_time": "2023-11-11T10:05:38.468171",
     "exception": false,
     "start_time": "2023-11-11T10:05:38.428068",
     "status": "completed"
    },
    "tags": []
   },
   "outputs": [],
   "source": [
    "sklearn_pred= sklearn_regressor.predict(x_test)\n",
    "scratch_pred= scratch_regressor.predict(x_test)\n"
   ]
  },
  {
   "cell_type": "markdown",
   "id": "3bac846c",
   "metadata": {
    "id": "9bc059bf",
    "papermill": {
     "duration": 0.030291,
     "end_time": "2023-11-11T10:05:38.528865",
     "exception": false,
     "start_time": "2023-11-11T10:05:38.498574",
     "status": "completed"
    },
    "tags": []
   },
   "source": [
    "Compute the mean squared error **(P4-1-2: 5 points)**"
   ]
  },
  {
   "cell_type": "code",
   "execution_count": 24,
   "id": "fb17aeac",
   "metadata": {
    "execution": {
     "iopub.execute_input": "2023-11-11T10:05:38.594297Z",
     "iopub.status.busy": "2023-11-11T10:05:38.593495Z",
     "iopub.status.idle": "2023-11-11T10:05:38.602069Z",
     "shell.execute_reply": "2023-11-11T10:05:38.600741Z"
    },
    "id": "c259c493",
    "outputId": "1395f093-4ad7-420a-dd24-612f0a926189",
    "papermill": {
     "duration": 0.044914,
     "end_time": "2023-11-11T10:05:38.604492",
     "exception": false,
     "start_time": "2023-11-11T10:05:38.559578",
     "status": "completed"
    },
    "tags": []
   },
   "outputs": [
    {
     "name": "stdout",
     "output_type": "stream",
     "text": [
      "sklearn model mse:  31895890.93491925\n",
      "scratch model mse:  31893220.15130375\n"
     ]
    }
   ],
   "source": [
    "from sklearn.metrics import mean_squared_error\n",
    " \n",
    "print(\"sklearn model mse: \", mean_squared_error(y_test, sklearn_pred))\n",
    "print(\"scratch model mse: \", mean_squared_error(y_test, scratch_pred))"
   ]
  },
  {
   "cell_type": "markdown",
   "id": "2a7706bc",
   "metadata": {
    "id": "04b0fe21",
    "papermill": {
     "duration": 0.030821,
     "end_time": "2023-11-11T10:05:38.666800",
     "exception": false,
     "start_time": "2023-11-11T10:05:38.635979",
     "status": "completed"
    },
    "tags": []
   },
   "source": [
    "Calculate the maximum error for each regressor **(P4-1-3: 5 points)**"
   ]
  },
  {
   "cell_type": "code",
   "execution_count": 25,
   "id": "79fd8c68",
   "metadata": {
    "execution": {
     "iopub.execute_input": "2023-11-11T10:05:38.729739Z",
     "iopub.status.busy": "2023-11-11T10:05:38.729298Z",
     "iopub.status.idle": "2023-11-11T10:05:38.736740Z",
     "shell.execute_reply": "2023-11-11T10:05:38.735633Z"
    },
    "id": "35dbdec9",
    "outputId": "f01dbc9e-a33d-42cf-ec67-bf2aca942108",
    "papermill": {
     "duration": 0.04184,
     "end_time": "2023-11-11T10:05:38.739080",
     "exception": false,
     "start_time": "2023-11-11T10:05:38.697240",
     "status": "completed"
    },
    "tags": []
   },
   "outputs": [
    {
     "name": "stdout",
     "output_type": "stream",
     "text": [
      "sklearn model max error:  20406.410623339427\n",
      "scratch model max error:  20394.691477648703\n"
     ]
    }
   ],
   "source": [
    "print(\"sklearn model max error: \", np.max(np.subtract(y_test, sklearn_pred)))\n",
    "print(\"scratch model max error: \", np.max(np.subtract(y_test, scratch_pred)))"
   ]
  },
  {
   "cell_type": "markdown",
   "id": "3b40e544",
   "metadata": {
    "id": "416b6766",
    "papermill": {
     "duration": 0.030146,
     "end_time": "2023-11-11T10:05:38.799725",
     "exception": false,
     "start_time": "2023-11-11T10:05:38.769579",
     "status": "completed"
    },
    "tags": []
   },
   "source": [
    "# Phase 5 (Optional): Submit your predictions to our Kaggle competition"
   ]
  },
  {
   "cell_type": "markdown",
   "id": "a6bdd33f",
   "metadata": {
    "id": "e162e26a",
    "papermill": {
     "duration": 0.030087,
     "end_time": "2023-11-11T10:05:38.860687",
     "exception": false,
     "start_time": "2023-11-11T10:05:38.830600",
     "status": "completed"
    },
    "tags": []
   },
   "source": [
    "Competition Link: WILL BE ADDED IN THE NEXT FEW DAYS<br>\n",
    "You'll have to make a csv file containing two columns: `ID` and `charges`, and submit the file.<br>"
   ]
  },
  {
   "cell_type": "code",
   "execution_count": null,
   "id": "457db0e4",
   "metadata": {
    "id": "55d8ac92",
    "papermill": {
     "duration": 0.030433,
     "end_time": "2023-11-11T10:05:38.921573",
     "exception": false,
     "start_time": "2023-11-11T10:05:38.891140",
     "status": "completed"
    },
    "tags": []
   },
   "outputs": [],
   "source": []
  }
 ],
 "metadata": {
  "kernelspec": {
   "display_name": "Python 3",
   "language": "python",
   "name": "python3"
  },
  "language_info": {
   "codemirror_mode": {
    "name": "ipython",
    "version": 3
   },
   "file_extension": ".py",
   "mimetype": "text/x-python",
   "name": "python",
   "nbconvert_exporter": "python",
   "pygments_lexer": "ipython3",
   "version": "3.10.12"
  },
  "papermill": {
   "default_parameters": {},
   "duration": 26.256915,
   "end_time": "2023-11-11T10:05:39.773850",
   "environment_variables": {},
   "exception": null,
   "input_path": "__notebook__.ipynb",
   "output_path": "__notebook__.ipynb",
   "parameters": {},
   "start_time": "2023-11-11T10:05:13.516935",
   "version": "2.4.0"
  }
 },
 "nbformat": 4,
 "nbformat_minor": 5
}
