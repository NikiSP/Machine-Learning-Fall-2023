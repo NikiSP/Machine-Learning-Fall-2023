{
 "cells": [
  {
   "cell_type": "markdown",
   "id": "6f6b0a94",
   "metadata": {
    "id": "UQJOGC-VaYRn",
    "papermill": {
     "duration": 0.01488,
     "end_time": "2023-12-02T07:51:14.477753",
     "exception": false,
     "start_time": "2023-12-02T07:51:14.462873",
     "status": "completed"
    },
    "tags": []
   },
   "source": [
    "# ML - Fall 2023 - Practical - 2\n",
    "## Practical Homework 2 - Naive Bayes\n",
    "\n",
    "Student Number: 400105003\n",
    "\n",
    "Student Name: Niki Sepasian\n",
    "\n",
    "\n"
   ]
  },
  {
   "cell_type": "markdown",
   "id": "20bea480",
   "metadata": {
    "id": "wyO9QVndoLPQ",
    "papermill": {
     "duration": 0.014124,
     "end_time": "2023-12-02T07:51:14.506365",
     "exception": false,
     "start_time": "2023-12-02T07:51:14.492241",
     "status": "completed"
    },
    "tags": []
   },
   "source": [
    "# Phase 0: Intro"
   ]
  },
  {
   "cell_type": "markdown",
   "id": "d1367747",
   "metadata": {
    "id": "zncm1JE1oSQl",
    "papermill": {
     "duration": 0.0148,
     "end_time": "2023-12-02T07:51:14.535321",
     "exception": false,
     "start_time": "2023-12-02T07:51:14.520521",
     "status": "completed"
    },
    "tags": []
   },
   "source": [
    "**In this assignment, you will develop Naive Bayes models to perform text classification. The dataset contains texts and the feelings correspond to each text. Your goal is to make a model to predict the emotion associated with each given text.**"
   ]
  },
  {
   "cell_type": "markdown",
   "id": "242505e1",
   "metadata": {
    "id": "0lWioVAHBYFS",
    "papermill": {
     "duration": 0.014017,
     "end_time": "2023-12-02T07:51:14.563659",
     "exception": false,
     "start_time": "2023-12-02T07:51:14.549642",
     "status": "completed"
    },
    "tags": []
   },
   "source": [
    "Importing necessary libraries"
   ]
  },
  {
   "cell_type": "code",
   "execution_count": 1,
   "id": "523f58d2",
   "metadata": {
    "execution": {
     "iopub.execute_input": "2023-12-02T07:51:14.595469Z",
     "iopub.status.busy": "2023-12-02T07:51:14.594887Z",
     "iopub.status.idle": "2023-12-02T07:51:23.698710Z",
     "shell.execute_reply": "2023-12-02T07:51:23.697429Z"
    },
    "id": "bcBZwjpJBU30",
    "papermill": {
     "duration": 9.123898,
     "end_time": "2023-12-02T07:51:23.701537",
     "exception": false,
     "start_time": "2023-12-02T07:51:14.577639",
     "status": "completed"
    },
    "tags": []
   },
   "outputs": [],
   "source": [
    "import nltk\n",
    "import pandas\n",
    "import sklearn\n",
    "import string\n",
    "import spacy\n",
    "import re\n",
    "import numpy as np\n",
    "import pandas as pd\n",
    "from matplotlib import pyplot as plt\n",
    "from nltk.stem import WordNetLemmatizer\n",
    "from nltk.tokenize import word_tokenize\n",
    "from nltk.corpus import stopwords\n",
    "from sklearn.model_selection import train_test_split\n",
    "from sklearn.naive_bayes import MultinomialNB\n",
    "from sklearn.metrics import accuracy_score\n",
    "from sklearn.metrics import confusion_matrix\n",
    "from sklearn.metrics import classification_report\n",
    "from collections import defaultdict"
   ]
  },
  {
   "cell_type": "code",
   "execution_count": 2,
   "id": "ff950bce",
   "metadata": {
    "execution": {
     "iopub.execute_input": "2023-12-02T07:51:23.738585Z",
     "iopub.status.busy": "2023-12-02T07:51:23.737695Z",
     "iopub.status.idle": "2023-12-02T07:51:35.890574Z",
     "shell.execute_reply": "2023-12-02T07:51:35.888950Z"
    },
    "id": "USv0nt0Vsec_",
    "outputId": "f7f34f32-344b-49a0-e128-7b51444d3c36",
    "papermill": {
     "duration": 12.17552,
     "end_time": "2023-12-02T07:51:35.893128",
     "exception": false,
     "start_time": "2023-12-02T07:51:23.717608",
     "status": "completed"
    },
    "tags": []
   },
   "outputs": [
    {
     "name": "stdout",
     "output_type": "stream",
     "text": [
      "Requirement already satisfied: nltk in /opt/conda/lib/python3.10/site-packages (3.2.4)\r\n",
      "Requirement already satisfied: six in /opt/conda/lib/python3.10/site-packages (from nltk) (1.16.0)\r\n"
     ]
    }
   ],
   "source": [
    "!pip install nltk"
   ]
  },
  {
   "cell_type": "code",
   "execution_count": 3,
   "id": "4531542f",
   "metadata": {
    "execution": {
     "iopub.execute_input": "2023-12-02T07:51:35.925198Z",
     "iopub.status.busy": "2023-12-02T07:51:35.924790Z",
     "iopub.status.idle": "2023-12-02T07:51:50.115332Z",
     "shell.execute_reply": "2023-12-02T07:51:50.113817Z"
    },
    "papermill": {
     "duration": 14.209903,
     "end_time": "2023-12-02T07:51:50.117943",
     "exception": false,
     "start_time": "2023-12-02T07:51:35.908040",
     "status": "completed"
    },
    "tags": []
   },
   "outputs": [
    {
     "name": "stdout",
     "output_type": "stream",
     "text": [
      "Collecting en-core-web-sm==3.7.1\r\n",
      "  Downloading https://github.com/explosion/spacy-models/releases/download/en_core_web_sm-3.7.1/en_core_web_sm-3.7.1-py3-none-any.whl (12.8 MB)\r\n",
      "\u001b[2K     \u001b[90m━━━━━━━━━━━━━━━━━━━━━━━━━━━━━━━━━━━━━━━━\u001b[0m \u001b[32m12.8/12.8 MB\u001b[0m \u001b[31m85.3 MB/s\u001b[0m eta \u001b[36m0:00:00\u001b[0m\r\n",
      "\u001b[?25hRequirement already satisfied: spacy<3.8.0,>=3.7.2 in /opt/conda/lib/python3.10/site-packages (from en-core-web-sm==3.7.1) (3.7.2)\r\n",
      "Requirement already satisfied: spacy-legacy<3.1.0,>=3.0.11 in /opt/conda/lib/python3.10/site-packages (from spacy<3.8.0,>=3.7.2->en-core-web-sm==3.7.1) (3.0.12)\r\n",
      "Requirement already satisfied: spacy-loggers<2.0.0,>=1.0.0 in /opt/conda/lib/python3.10/site-packages (from spacy<3.8.0,>=3.7.2->en-core-web-sm==3.7.1) (1.0.5)\r\n",
      "Requirement already satisfied: murmurhash<1.1.0,>=0.28.0 in /opt/conda/lib/python3.10/site-packages (from spacy<3.8.0,>=3.7.2->en-core-web-sm==3.7.1) (1.0.10)\r\n",
      "Requirement already satisfied: cymem<2.1.0,>=2.0.2 in /opt/conda/lib/python3.10/site-packages (from spacy<3.8.0,>=3.7.2->en-core-web-sm==3.7.1) (2.0.8)\r\n",
      "Requirement already satisfied: preshed<3.1.0,>=3.0.2 in /opt/conda/lib/python3.10/site-packages (from spacy<3.8.0,>=3.7.2->en-core-web-sm==3.7.1) (3.0.9)\r\n",
      "Requirement already satisfied: thinc<8.3.0,>=8.1.8 in /opt/conda/lib/python3.10/site-packages (from spacy<3.8.0,>=3.7.2->en-core-web-sm==3.7.1) (8.2.1)\r\n",
      "Requirement already satisfied: wasabi<1.2.0,>=0.9.1 in /opt/conda/lib/python3.10/site-packages (from spacy<3.8.0,>=3.7.2->en-core-web-sm==3.7.1) (1.1.2)\r\n",
      "Requirement already satisfied: srsly<3.0.0,>=2.4.3 in /opt/conda/lib/python3.10/site-packages (from spacy<3.8.0,>=3.7.2->en-core-web-sm==3.7.1) (2.4.8)\r\n",
      "Requirement already satisfied: catalogue<2.1.0,>=2.0.6 in /opt/conda/lib/python3.10/site-packages (from spacy<3.8.0,>=3.7.2->en-core-web-sm==3.7.1) (2.0.10)\r\n",
      "Requirement already satisfied: weasel<0.4.0,>=0.1.0 in /opt/conda/lib/python3.10/site-packages (from spacy<3.8.0,>=3.7.2->en-core-web-sm==3.7.1) (0.3.3)\r\n",
      "Requirement already satisfied: typer<0.10.0,>=0.3.0 in /opt/conda/lib/python3.10/site-packages (from spacy<3.8.0,>=3.7.2->en-core-web-sm==3.7.1) (0.9.0)\r\n",
      "Requirement already satisfied: smart-open<7.0.0,>=5.2.1 in /opt/conda/lib/python3.10/site-packages (from spacy<3.8.0,>=3.7.2->en-core-web-sm==3.7.1) (6.3.0)\r\n",
      "Requirement already satisfied: tqdm<5.0.0,>=4.38.0 in /opt/conda/lib/python3.10/site-packages (from spacy<3.8.0,>=3.7.2->en-core-web-sm==3.7.1) (4.66.1)\r\n",
      "Requirement already satisfied: requests<3.0.0,>=2.13.0 in /opt/conda/lib/python3.10/site-packages (from spacy<3.8.0,>=3.7.2->en-core-web-sm==3.7.1) (2.31.0)\r\n",
      "Requirement already satisfied: pydantic!=1.8,!=1.8.1,<3.0.0,>=1.7.4 in /opt/conda/lib/python3.10/site-packages (from spacy<3.8.0,>=3.7.2->en-core-web-sm==3.7.1) (1.10.12)\r\n",
      "Requirement already satisfied: jinja2 in /opt/conda/lib/python3.10/site-packages (from spacy<3.8.0,>=3.7.2->en-core-web-sm==3.7.1) (3.1.2)\r\n",
      "Requirement already satisfied: setuptools in /opt/conda/lib/python3.10/site-packages (from spacy<3.8.0,>=3.7.2->en-core-web-sm==3.7.1) (68.1.2)\r\n",
      "Requirement already satisfied: packaging>=20.0 in /opt/conda/lib/python3.10/site-packages (from spacy<3.8.0,>=3.7.2->en-core-web-sm==3.7.1) (21.3)\r\n",
      "Requirement already satisfied: langcodes<4.0.0,>=3.2.0 in /opt/conda/lib/python3.10/site-packages (from spacy<3.8.0,>=3.7.2->en-core-web-sm==3.7.1) (3.3.0)\r\n",
      "Requirement already satisfied: numpy>=1.19.0 in /opt/conda/lib/python3.10/site-packages (from spacy<3.8.0,>=3.7.2->en-core-web-sm==3.7.1) (1.24.3)\r\n",
      "Requirement already satisfied: pyparsing!=3.0.5,>=2.0.2 in /opt/conda/lib/python3.10/site-packages (from packaging>=20.0->spacy<3.8.0,>=3.7.2->en-core-web-sm==3.7.1) (3.0.9)\r\n",
      "Requirement already satisfied: typing-extensions>=4.2.0 in /opt/conda/lib/python3.10/site-packages (from pydantic!=1.8,!=1.8.1,<3.0.0,>=1.7.4->spacy<3.8.0,>=3.7.2->en-core-web-sm==3.7.1) (4.5.0)\r\n",
      "Requirement already satisfied: charset-normalizer<4,>=2 in /opt/conda/lib/python3.10/site-packages (from requests<3.0.0,>=2.13.0->spacy<3.8.0,>=3.7.2->en-core-web-sm==3.7.1) (3.2.0)\r\n",
      "Requirement already satisfied: idna<4,>=2.5 in /opt/conda/lib/python3.10/site-packages (from requests<3.0.0,>=2.13.0->spacy<3.8.0,>=3.7.2->en-core-web-sm==3.7.1) (3.4)\r\n",
      "Requirement already satisfied: urllib3<3,>=1.21.1 in /opt/conda/lib/python3.10/site-packages (from requests<3.0.0,>=2.13.0->spacy<3.8.0,>=3.7.2->en-core-web-sm==3.7.1) (1.26.15)\r\n",
      "Requirement already satisfied: certifi>=2017.4.17 in /opt/conda/lib/python3.10/site-packages (from requests<3.0.0,>=2.13.0->spacy<3.8.0,>=3.7.2->en-core-web-sm==3.7.1) (2023.7.22)\r\n",
      "Requirement already satisfied: blis<0.8.0,>=0.7.8 in /opt/conda/lib/python3.10/site-packages (from thinc<8.3.0,>=8.1.8->spacy<3.8.0,>=3.7.2->en-core-web-sm==3.7.1) (0.7.11)\r\n",
      "Requirement already satisfied: confection<1.0.0,>=0.0.1 in /opt/conda/lib/python3.10/site-packages (from thinc<8.3.0,>=8.1.8->spacy<3.8.0,>=3.7.2->en-core-web-sm==3.7.1) (0.1.3)\r\n",
      "Requirement already satisfied: click<9.0.0,>=7.1.1 in /opt/conda/lib/python3.10/site-packages (from typer<0.10.0,>=0.3.0->spacy<3.8.0,>=3.7.2->en-core-web-sm==3.7.1) (8.1.7)\r\n",
      "Requirement already satisfied: cloudpathlib<0.17.0,>=0.7.0 in /opt/conda/lib/python3.10/site-packages (from weasel<0.4.0,>=0.1.0->spacy<3.8.0,>=3.7.2->en-core-web-sm==3.7.1) (0.16.0)\r\n",
      "Requirement already satisfied: MarkupSafe>=2.0 in /opt/conda/lib/python3.10/site-packages (from jinja2->spacy<3.8.0,>=3.7.2->en-core-web-sm==3.7.1) (2.1.3)\r\n",
      "Installing collected packages: en-core-web-sm\r\n",
      "  Attempting uninstall: en-core-web-sm\r\n",
      "    Found existing installation: en-core-web-sm 3.7.0\r\n",
      "    Uninstalling en-core-web-sm-3.7.0:\r\n",
      "      Successfully uninstalled en-core-web-sm-3.7.0\r\n",
      "Successfully installed en-core-web-sm-3.7.1\r\n",
      "\u001b[38;5;2m✔ Download and installation successful\u001b[0m\r\n",
      "You can now load the package via spacy.load('en_core_web_sm')\r\n"
     ]
    }
   ],
   "source": [
    "!python -m spacy download en_core_web_sm"
   ]
  },
  {
   "cell_type": "code",
   "execution_count": 4,
   "id": "2a2a3bf4",
   "metadata": {
    "execution": {
     "iopub.execute_input": "2023-12-02T07:51:50.220442Z",
     "iopub.status.busy": "2023-12-02T07:51:50.220071Z",
     "iopub.status.idle": "2023-12-02T07:51:51.197761Z",
     "shell.execute_reply": "2023-12-02T07:51:51.196414Z"
    },
    "id": "h0ullxNxsid5",
    "outputId": "af9ccb9a-e6cb-4f7f-94f5-bf217c900c05",
    "papermill": {
     "duration": 1.065679,
     "end_time": "2023-12-02T07:51:51.200234",
     "exception": false,
     "start_time": "2023-12-02T07:51:50.134555",
     "status": "completed"
    },
    "tags": []
   },
   "outputs": [
    {
     "name": "stdout",
     "output_type": "stream",
     "text": [
      "[nltk_data] Downloading package punkt to /usr/share/nltk_data...\n",
      "[nltk_data]   Package punkt is already up-to-date!\n",
      "[nltk_data] Downloading package stopwords to /usr/share/nltk_data...\n",
      "[nltk_data]   Package stopwords is already up-to-date!\n"
     ]
    }
   ],
   "source": [
    "import nltk\n",
    "nltk.download('punkt')\n",
    "nltk.download('stopwords')\n",
    "nlp = spacy.load(\"en_core_web_sm\")"
   ]
  },
  {
   "cell_type": "code",
   "execution_count": 5,
   "id": "b49c843f",
   "metadata": {
    "execution": {
     "iopub.execute_input": "2023-12-02T07:51:51.235427Z",
     "iopub.status.busy": "2023-12-02T07:51:51.235064Z",
     "iopub.status.idle": "2023-12-02T07:51:52.511207Z",
     "shell.execute_reply": "2023-12-02T07:51:52.509959Z"
    },
    "id": "_syr-zPSirCE",
    "outputId": "a063c1b0-1f63-48e5-e060-a0513899be9e",
    "papermill": {
     "duration": 1.296392,
     "end_time": "2023-12-02T07:51:52.513981",
     "exception": false,
     "start_time": "2023-12-02T07:51:51.217589",
     "status": "completed"
    },
    "tags": []
   },
   "outputs": [
    {
     "name": "stdout",
     "output_type": "stream",
     "text": [
      "--2023-12-02 07:51:51--  https://www.dropbox.com/scl/fi/vezn3809mk6br6jb2xari/ML-P2-DataSet.csv?rlkey=yweu1fhtvisqhxm78s4ofpxed&dl=1\r\n",
      "Resolving www.dropbox.com (www.dropbox.com)... 162.125.65.18, 2620:100:6021:18::a27d:4112\r\n",
      "Connecting to www.dropbox.com (www.dropbox.com)|162.125.65.18|:443... connected.\r\n",
      "HTTP request sent, awaiting response... 302 Found\r\n",
      "Location: https://ucc6166603c124969d67d6093dc2.dl.dropboxusercontent.com/cd/0/inline/CIpFFbnN2oppJVkvoXBenQ1K2XsACROSc99QIWJj-83kXcPAnoXV25YxZktfQRh8l7jLsj7nTT2XnhQjYK6U3Ut0R1jhIA8fCjUaCalXcIxABbFoObiFwbWPIPbtkTp3v6betK5HX4-hz5RBXKhXI2A4/file?dl=1# [following]\r\n",
      "--2023-12-02 07:51:52--  https://ucc6166603c124969d67d6093dc2.dl.dropboxusercontent.com/cd/0/inline/CIpFFbnN2oppJVkvoXBenQ1K2XsACROSc99QIWJj-83kXcPAnoXV25YxZktfQRh8l7jLsj7nTT2XnhQjYK6U3Ut0R1jhIA8fCjUaCalXcIxABbFoObiFwbWPIPbtkTp3v6betK5HX4-hz5RBXKhXI2A4/file?dl=1\r\n",
      "Resolving ucc6166603c124969d67d6093dc2.dl.dropboxusercontent.com (ucc6166603c124969d67d6093dc2.dl.dropboxusercontent.com)... 162.125.65.15, 2620:100:6021:15::a27d:410f\r\n",
      "Connecting to ucc6166603c124969d67d6093dc2.dl.dropboxusercontent.com (ucc6166603c124969d67d6093dc2.dl.dropboxusercontent.com)|162.125.65.15|:443... connected.\r\n",
      "HTTP request sent, awaiting response... 200 OK\r\n",
      "Length: 619991 (605K) [application/binary]\r\n",
      "Saving to: ‘/kaggle/working/dataset.csv’\r\n",
      "\r\n",
      "/kaggle/working/dat 100%[===================>] 605.46K  --.-KB/s    in 0.02s   \r\n",
      "\r\n",
      "2023-12-02 07:51:52 (32.1 MB/s) - ‘/kaggle/working/dataset.csv’ saved [619991/619991]\r\n",
      "\r\n"
     ]
    }
   ],
   "source": [
    "!wget -O /kaggle/working/dataset.csv \"https://www.dropbox.com/scl/fi/vezn3809mk6br6jb2xari/ML-P2-DataSet.csv?rlkey=yweu1fhtvisqhxm78s4ofpxed&dl=1\""
   ]
  },
  {
   "cell_type": "markdown",
   "id": "d4ee4201",
   "metadata": {
    "id": "RIIiFseLa3lF",
    "papermill": {
     "duration": 0.016189,
     "end_time": "2023-12-02T07:51:52.546660",
     "exception": false,
     "start_time": "2023-12-02T07:51:52.530471",
     "status": "completed"
    },
    "tags": []
   },
   "source": [
    "# Phase 1: Explore"
   ]
  },
  {
   "cell_type": "markdown",
   "id": "2dc252db",
   "metadata": {
    "id": "ZhxTfOB5peCj",
    "papermill": {
     "duration": 0.016065,
     "end_time": "2023-12-02T07:51:52.579996",
     "exception": false,
     "start_time": "2023-12-02T07:51:52.563931",
     "status": "completed"
    },
    "tags": []
   },
   "source": [
    "## Sec 1: Load and Explore the given dataset **(P1-Sec1: 10 Points)**"
   ]
  },
  {
   "cell_type": "markdown",
   "id": "170ffde3",
   "metadata": {
    "id": "Usio0HXKof-5",
    "papermill": {
     "duration": 0.016836,
     "end_time": "2023-12-02T07:51:52.613307",
     "exception": false,
     "start_time": "2023-12-02T07:51:52.596471",
     "status": "completed"
    },
    "tags": []
   },
   "source": [
    "Load the dataset. Look at the head of dataset. How many rows are there in the dataset? **(P1-1-1: 2 points)**\n",
    "\n",
    "\n"
   ]
  },
  {
   "cell_type": "code",
   "execution_count": 6,
   "id": "de0b6cd1",
   "metadata": {
    "execution": {
     "iopub.execute_input": "2023-12-02T07:51:52.652416Z",
     "iopub.status.busy": "2023-12-02T07:51:52.651311Z",
     "iopub.status.idle": "2023-12-02T07:51:52.704168Z",
     "shell.execute_reply": "2023-12-02T07:51:52.702574Z"
    },
    "id": "V8RdrWrkkgQj",
    "papermill": {
     "duration": 0.076125,
     "end_time": "2023-12-02T07:51:52.706551",
     "exception": false,
     "start_time": "2023-12-02T07:51:52.630426",
     "status": "completed"
    },
    "tags": []
   },
   "outputs": [
    {
     "name": "stdout",
     "output_type": "stream",
     "text": [
      "5937\n"
     ]
    },
    {
     "data": {
      "text/html": [
       "<div>\n",
       "<style scoped>\n",
       "    .dataframe tbody tr th:only-of-type {\n",
       "        vertical-align: middle;\n",
       "    }\n",
       "\n",
       "    .dataframe tbody tr th {\n",
       "        vertical-align: top;\n",
       "    }\n",
       "\n",
       "    .dataframe thead th {\n",
       "        text-align: right;\n",
       "    }\n",
       "</style>\n",
       "<table border=\"1\" class=\"dataframe\">\n",
       "  <thead>\n",
       "    <tr style=\"text-align: right;\">\n",
       "      <th></th>\n",
       "      <th>Text</th>\n",
       "      <th>Feeling</th>\n",
       "    </tr>\n",
       "  </thead>\n",
       "  <tbody>\n",
       "    <tr>\n",
       "      <th>0</th>\n",
       "      <td>i seriously hate one subject to death but now ...</td>\n",
       "      <td>fear</td>\n",
       "    </tr>\n",
       "    <tr>\n",
       "      <th>1</th>\n",
       "      <td>im so full of life i feel appalled</td>\n",
       "      <td>anger</td>\n",
       "    </tr>\n",
       "    <tr>\n",
       "      <th>2</th>\n",
       "      <td>i sit here to write i start to dig out my feel...</td>\n",
       "      <td>fear</td>\n",
       "    </tr>\n",
       "    <tr>\n",
       "      <th>3</th>\n",
       "      <td>ive been really angry with r and i feel like a...</td>\n",
       "      <td>joy</td>\n",
       "    </tr>\n",
       "    <tr>\n",
       "      <th>4</th>\n",
       "      <td>i feel suspicious if there is no one outside l...</td>\n",
       "      <td>fear</td>\n",
       "    </tr>\n",
       "    <tr>\n",
       "      <th>5</th>\n",
       "      <td>i feel jealous becasue i wanted that kind of l...</td>\n",
       "      <td>anger</td>\n",
       "    </tr>\n",
       "    <tr>\n",
       "      <th>6</th>\n",
       "      <td>when a friend of mine keeps telling me morbid ...</td>\n",
       "      <td>anger</td>\n",
       "    </tr>\n",
       "    <tr>\n",
       "      <th>7</th>\n",
       "      <td>i finally fell asleep feeling angry useless an...</td>\n",
       "      <td>anger</td>\n",
       "    </tr>\n",
       "    <tr>\n",
       "      <th>8</th>\n",
       "      <td>i feel a bit annoyed and antsy in a good way</td>\n",
       "      <td>anger</td>\n",
       "    </tr>\n",
       "    <tr>\n",
       "      <th>9</th>\n",
       "      <td>i feel like i ve regained another vital part o...</td>\n",
       "      <td>joy</td>\n",
       "    </tr>\n",
       "  </tbody>\n",
       "</table>\n",
       "</div>"
      ],
      "text/plain": [
       "                                                Text Feeling\n",
       "0  i seriously hate one subject to death but now ...    fear\n",
       "1                 im so full of life i feel appalled   anger\n",
       "2  i sit here to write i start to dig out my feel...    fear\n",
       "3  ive been really angry with r and i feel like a...     joy\n",
       "4  i feel suspicious if there is no one outside l...    fear\n",
       "5  i feel jealous becasue i wanted that kind of l...   anger\n",
       "6  when a friend of mine keeps telling me morbid ...   anger\n",
       "7  i finally fell asleep feeling angry useless an...   anger\n",
       "8       i feel a bit annoyed and antsy in a good way   anger\n",
       "9  i feel like i ve regained another vital part o...     joy"
      ]
     },
     "execution_count": 6,
     "metadata": {},
     "output_type": "execute_result"
    }
   ],
   "source": [
    "df= pd.read_csv(\"dataset.csv\")\n",
    "print(df.shape[0])\n",
    "df.head(10)"
   ]
  },
  {
   "cell_type": "markdown",
   "id": "f38c7a94",
   "metadata": {
    "id": "w0rYcT-wqFpt",
    "papermill": {
     "duration": 0.01823,
     "end_time": "2023-12-02T07:51:52.744646",
     "exception": false,
     "start_time": "2023-12-02T07:51:52.726416",
     "status": "completed"
    },
    "tags": []
   },
   "source": [
    "Handle missing values **(P1-1-2: 2 pints)**"
   ]
  },
  {
   "cell_type": "code",
   "execution_count": 7,
   "id": "71b97717",
   "metadata": {
    "execution": {
     "iopub.execute_input": "2023-12-02T07:51:52.780609Z",
     "iopub.status.busy": "2023-12-02T07:51:52.780186Z",
     "iopub.status.idle": "2023-12-02T07:51:52.787335Z",
     "shell.execute_reply": "2023-12-02T07:51:52.785916Z"
    },
    "id": "qjfsDc35qMQn",
    "papermill": {
     "duration": 0.028886,
     "end_time": "2023-12-02T07:51:52.790349",
     "exception": false,
     "start_time": "2023-12-02T07:51:52.761463",
     "status": "completed"
    },
    "tags": []
   },
   "outputs": [
    {
     "name": "stdout",
     "output_type": "stream",
     "text": [
      "Text       0\n",
      "Feeling    0\n",
      "dtype: int64\n"
     ]
    }
   ],
   "source": [
    "print(df.isnull().sum())\n",
    "# we have no missing values"
   ]
  },
  {
   "cell_type": "markdown",
   "id": "31abea40",
   "metadata": {
    "id": "Cbr-RfEypELP",
    "papermill": {
     "duration": 0.018817,
     "end_time": "2023-12-02T07:51:52.826429",
     "exception": false,
     "start_time": "2023-12-02T07:51:52.807612",
     "status": "completed"
    },
    "tags": []
   },
   "source": [
    "Identify the unique feeling values and for each of them, print their count in the dataset. **(P1-1-3: 2 points)**"
   ]
  },
  {
   "cell_type": "code",
   "execution_count": 8,
   "id": "f1590380",
   "metadata": {
    "execution": {
     "iopub.execute_input": "2023-12-02T07:51:52.863345Z",
     "iopub.status.busy": "2023-12-02T07:51:52.861884Z",
     "iopub.status.idle": "2023-12-02T07:51:52.881554Z",
     "shell.execute_reply": "2023-12-02T07:51:52.880204Z"
    },
    "id": "1QTBJmjxqA8c",
    "papermill": {
     "duration": 0.040658,
     "end_time": "2023-12-02T07:51:52.884240",
     "exception": false,
     "start_time": "2023-12-02T07:51:52.843582",
     "status": "completed"
    },
    "tags": []
   },
   "outputs": [
    {
     "name": "stdout",
     "output_type": "stream",
     "text": [
      "fear :  1937\n",
      "anger :  2000\n",
      "joy :  2000\n"
     ]
    }
   ],
   "source": [
    "labels= df['Feeling'].unique()\n",
    "values=[];\n",
    "for u in labels:\n",
    "    count= df['Feeling'].value_counts()[u]\n",
    "    print(u, \": \", count)\n",
    "    values.append(count)\n",
    "    "
   ]
  },
  {
   "cell_type": "markdown",
   "id": "9effff13",
   "metadata": {
    "id": "-Kq0AdFvrFIw",
    "papermill": {
     "duration": 0.01595,
     "end_time": "2023-12-02T07:51:52.916808",
     "exception": false,
     "start_time": "2023-12-02T07:51:52.900858",
     "status": "completed"
    },
    "tags": []
   },
   "source": [
    "Plot a pie chart to display the occurance frequency of each genre that you found in the prevoius part. **(P1-1-4: 2 points)**"
   ]
  },
  {
   "cell_type": "code",
   "execution_count": 9,
   "id": "a2eb9e5a",
   "metadata": {
    "execution": {
     "iopub.execute_input": "2023-12-02T07:51:52.953298Z",
     "iopub.status.busy": "2023-12-02T07:51:52.952929Z",
     "iopub.status.idle": "2023-12-02T07:51:53.090654Z",
     "shell.execute_reply": "2023-12-02T07:51:53.089907Z"
    },
    "id": "eAWSp6sUrgjC",
    "papermill": {
     "duration": 0.159181,
     "end_time": "2023-12-02T07:51:53.092568",
     "exception": false,
     "start_time": "2023-12-02T07:51:52.933387",
     "status": "completed"
    },
    "tags": []
   },
   "outputs": [
    {
     "data": {
      "image/png": "[encoded data removed]",
      "text/plain": [
       "<Figure size 640x480 with 1 Axes>"
      ]
     },
     "metadata": {},
     "output_type": "display_data"
    }
   ],
   "source": [
    "plt.pie(values, labels= labels, autopct='%1.1f%%')\n",
    "plt.show() "
   ]
  },
  {
   "cell_type": "markdown",
   "id": "28815450",
   "metadata": {
    "id": "HcR5_JeIrg6I",
    "papermill": {
     "duration": 0.023043,
     "end_time": "2023-12-02T07:51:53.139297",
     "exception": false,
     "start_time": "2023-12-02T07:51:53.116254",
     "status": "completed"
    },
    "tags": []
   },
   "source": [
    "Find the mean, max and min values of the length (in chars) of the Text Column. **(P1-1-5: 2 points)**\n"
   ]
  },
  {
   "cell_type": "code",
   "execution_count": 10,
   "id": "152c26e6",
   "metadata": {
    "execution": {
     "iopub.execute_input": "2023-12-02T07:51:53.184852Z",
     "iopub.status.busy": "2023-12-02T07:51:53.184458Z",
     "iopub.status.idle": "2023-12-02T07:51:53.200676Z",
     "shell.execute_reply": "2023-12-02T07:51:53.198653Z"
    },
    "id": "ROoIdpPj8Y0H",
    "papermill": {
     "duration": 0.041612,
     "end_time": "2023-12-02T07:51:53.203441",
     "exception": false,
     "start_time": "2023-12-02T07:51:53.161829",
     "status": "completed"
    },
    "tags": []
   },
   "outputs": [
    {
     "name": "stdout",
     "output_type": "stream",
     "text": [
      "min:  9\n",
      "max:  298\n",
      "mean:  97.42597271349166\n"
     ]
    }
   ],
   "source": [
    "from statistics import mean\n",
    "\n",
    "lengths= df['Text'].apply(lambda x: len(x))\n",
    "print(\"min: \",min(lengths))\n",
    "print(\"max: \",max(lengths))\n",
    "print(\"mean: \",mean(lengths))"
   ]
  },
  {
   "cell_type": "markdown",
   "id": "fdcfe548",
   "metadata": {
    "id": "qwRicPs98nN9",
    "papermill": {
     "duration": 0.016926,
     "end_time": "2023-12-02T07:51:53.238676",
     "exception": false,
     "start_time": "2023-12-02T07:51:53.221750",
     "status": "completed"
    },
    "tags": []
   },
   "source": [
    "# Phase 2: Preprocessing"
   ]
  },
  {
   "cell_type": "markdown",
   "id": "08d94eb3",
   "metadata": {
    "id": "tzkvX5IewOco",
    "papermill": {
     "duration": 0.017052,
     "end_time": "2023-12-02T07:51:53.272894",
     "exception": false,
     "start_time": "2023-12-02T07:51:53.255842",
     "status": "completed"
    },
    "tags": []
   },
   "source": [
    "## Sec 1: Preprocess the data **(P2-Sec1: 20 Points)**"
   ]
  },
  {
   "cell_type": "code",
   "execution_count": 11,
   "id": "31dfc127",
   "metadata": {
    "execution": {
     "iopub.execute_input": "2023-12-02T07:51:53.318721Z",
     "iopub.status.busy": "2023-12-02T07:51:53.316949Z",
     "iopub.status.idle": "2023-12-02T07:51:53.329560Z",
     "shell.execute_reply": "2023-12-02T07:51:53.326436Z"
    },
    "id": "t3YP4gNwkL6r",
    "papermill": {
     "duration": 0.038581,
     "end_time": "2023-12-02T07:51:53.332482",
     "exception": false,
     "start_time": "2023-12-02T07:51:53.293901",
     "status": "completed"
    },
    "tags": []
   },
   "outputs": [],
   "source": [
    "class Preprocessor:\n",
    "\n",
    "    def preprocess(self, text):\n",
    "        text= text.lower()\n",
    "        text= self.remove_links_and_tags(text)\n",
    "        words= self.word_tokenize(text)\n",
    "        words= self.remove_stopwords(words)\n",
    "        words= self.remove_punctuations(words)\n",
    "#         words= self.normalize(words)\n",
    "        return words\n",
    "        \n",
    "    def remove_links_and_tags(self, text):\n",
    "        return (re.sub('r`<.*?>', '', re.sub('r`http\\S+','', text, flags= re.MULTILINE), flags= re.MULTILINE))\n",
    "\n",
    "    def word_tokenize(self, text):\n",
    "        return word_tokenize(text)\n",
    "\n",
    "    def remove_stopwords(self, words):\n",
    "        return [word for word in words if word not in stopwords.words('english')]\n",
    "\n",
    "    def remove_punctuations(self, words):\n",
    "        return [word.translate(str.maketrans('', '', string.punctuation)) for word in words]\n",
    "\n",
    "    def normalize(self, words):\n",
    "        spacy_model= spacy.load('en_core_web_sm')\n",
    "        return [word.lemma_ for word in spacy_model(\" \".join(words))]"
   ]
  },
  {
   "cell_type": "markdown",
   "id": "f6067d48",
   "metadata": {
    "id": "nMOXi03Y8s_9",
    "papermill": {
     "duration": 0.017256,
     "end_time": "2023-12-02T07:51:53.369121",
     "exception": false,
     "start_time": "2023-12-02T07:51:53.351865",
     "status": "completed"
    },
    "tags": []
   },
   "source": [
    "Inspect the dataset for any empty cells or duplicate rows, and if they are present, remove the corresponding rows from the dataset. **(P2-1-1: 5 points)**"
   ]
  },
  {
   "cell_type": "code",
   "execution_count": 12,
   "id": "4829efa6",
   "metadata": {
    "execution": {
     "iopub.execute_input": "2023-12-02T07:51:53.408465Z",
     "iopub.status.busy": "2023-12-02T07:51:53.407208Z",
     "iopub.status.idle": "2023-12-02T07:51:53.424115Z",
     "shell.execute_reply": "2023-12-02T07:51:53.422654Z"
    },
    "id": "co0umvGj2mpn",
    "papermill": {
     "duration": 0.039866,
     "end_time": "2023-12-02T07:51:53.426914",
     "exception": false,
     "start_time": "2023-12-02T07:51:53.387048",
     "status": "completed"
    },
    "tags": []
   },
   "outputs": [],
   "source": [
    "# althought we checked before that there are no empty cells\n",
    "df= df.dropna()\n",
    "df= df.drop_duplicates()"
   ]
  },
  {
   "cell_type": "markdown",
   "id": "6f41945d",
   "metadata": {
    "id": "LHR4w6dB9dVt",
    "papermill": {
     "duration": 0.017427,
     "end_time": "2023-12-02T07:51:53.462057",
     "exception": false,
     "start_time": "2023-12-02T07:51:53.444630",
     "status": "completed"
    },
    "tags": []
   },
   "source": [
    "Clean the Texts by removing the special characters and punctations. **(P2-1-2: 5 points)**"
   ]
  },
  {
   "cell_type": "code",
   "execution_count": 13,
   "id": "2a78e44f",
   "metadata": {
    "execution": {
     "iopub.execute_input": "2023-12-02T07:51:53.498848Z",
     "iopub.status.busy": "2023-12-02T07:51:53.498386Z",
     "iopub.status.idle": "2023-12-02T07:51:54.450886Z",
     "shell.execute_reply": "2023-12-02T07:51:54.450157Z"
    },
    "id": "tK299IssK0_C",
    "papermill": {
     "duration": 0.973438,
     "end_time": "2023-12-02T07:51:54.452893",
     "exception": false,
     "start_time": "2023-12-02T07:51:53.479455",
     "status": "completed"
    },
    "tags": []
   },
   "outputs": [
    {
     "data": {
      "text/html": [
       "<div>\n",
       "<style scoped>\n",
       "    .dataframe tbody tr th:only-of-type {\n",
       "        vertical-align: middle;\n",
       "    }\n",
       "\n",
       "    .dataframe tbody tr th {\n",
       "        vertical-align: top;\n",
       "    }\n",
       "\n",
       "    .dataframe thead th {\n",
       "        text-align: right;\n",
       "    }\n",
       "</style>\n",
       "<table border=\"1\" class=\"dataframe\">\n",
       "  <thead>\n",
       "    <tr style=\"text-align: right;\">\n",
       "      <th></th>\n",
       "      <th>Text</th>\n",
       "      <th>Feeling</th>\n",
       "      <th>processed_text</th>\n",
       "    </tr>\n",
       "  </thead>\n",
       "  <tbody>\n",
       "    <tr>\n",
       "      <th>0</th>\n",
       "      <td>i seriously hate one subject to death but now ...</td>\n",
       "      <td>fear</td>\n",
       "      <td>i seriously hate one subject to death but now ...</td>\n",
       "    </tr>\n",
       "    <tr>\n",
       "      <th>1</th>\n",
       "      <td>im so full of life i feel appalled</td>\n",
       "      <td>anger</td>\n",
       "      <td>im so full of life i feel appalled</td>\n",
       "    </tr>\n",
       "    <tr>\n",
       "      <th>2</th>\n",
       "      <td>i sit here to write i start to dig out my feel...</td>\n",
       "      <td>fear</td>\n",
       "      <td>i sit here to write i start to dig out my feel...</td>\n",
       "    </tr>\n",
       "    <tr>\n",
       "      <th>3</th>\n",
       "      <td>ive been really angry with r and i feel like a...</td>\n",
       "      <td>joy</td>\n",
       "      <td>ive been really angry with r and i feel like a...</td>\n",
       "    </tr>\n",
       "    <tr>\n",
       "      <th>4</th>\n",
       "      <td>i feel suspicious if there is no one outside l...</td>\n",
       "      <td>fear</td>\n",
       "      <td>i feel suspicious if there is no one outside l...</td>\n",
       "    </tr>\n",
       "    <tr>\n",
       "      <th>...</th>\n",
       "      <td>...</td>\n",
       "      <td>...</td>\n",
       "      <td>...</td>\n",
       "    </tr>\n",
       "    <tr>\n",
       "      <th>5932</th>\n",
       "      <td>i begun to feel distressed for you</td>\n",
       "      <td>fear</td>\n",
       "      <td>i begun to feel distressed for you</td>\n",
       "    </tr>\n",
       "    <tr>\n",
       "      <th>5933</th>\n",
       "      <td>i left feeling annoyed and angry thinking that...</td>\n",
       "      <td>anger</td>\n",
       "      <td>i left feeling annoyed and angry thinking that...</td>\n",
       "    </tr>\n",
       "    <tr>\n",
       "      <th>5934</th>\n",
       "      <td>i were to ever get married i d have everything...</td>\n",
       "      <td>joy</td>\n",
       "      <td>i were to ever get married i d have everything...</td>\n",
       "    </tr>\n",
       "    <tr>\n",
       "      <th>5935</th>\n",
       "      <td>i feel reluctant in applying there because i w...</td>\n",
       "      <td>fear</td>\n",
       "      <td>i feel reluctant in applying there because i w...</td>\n",
       "    </tr>\n",
       "    <tr>\n",
       "      <th>5936</th>\n",
       "      <td>i just wanted to apologize to you because i fe...</td>\n",
       "      <td>anger</td>\n",
       "      <td>i just wanted to apologize to you because i fe...</td>\n",
       "    </tr>\n",
       "  </tbody>\n",
       "</table>\n",
       "<p>5937 rows × 3 columns</p>\n",
       "</div>"
      ],
      "text/plain": [
       "                                                   Text Feeling  \\\n",
       "0     i seriously hate one subject to death but now ...    fear   \n",
       "1                    im so full of life i feel appalled   anger   \n",
       "2     i sit here to write i start to dig out my feel...    fear   \n",
       "3     ive been really angry with r and i feel like a...     joy   \n",
       "4     i feel suspicious if there is no one outside l...    fear   \n",
       "...                                                 ...     ...   \n",
       "5932                 i begun to feel distressed for you    fear   \n",
       "5933  i left feeling annoyed and angry thinking that...   anger   \n",
       "5934  i were to ever get married i d have everything...     joy   \n",
       "5935  i feel reluctant in applying there because i w...    fear   \n",
       "5936  i just wanted to apologize to you because i fe...   anger   \n",
       "\n",
       "                                         processed_text  \n",
       "0     i seriously hate one subject to death but now ...  \n",
       "1                    im so full of life i feel appalled  \n",
       "2     i sit here to write i start to dig out my feel...  \n",
       "3     ive been really angry with r and i feel like a...  \n",
       "4     i feel suspicious if there is no one outside l...  \n",
       "...                                                 ...  \n",
       "5932                 i begun to feel distressed for you  \n",
       "5933  i left feeling annoyed and angry thinking that...  \n",
       "5934  i were to ever get married i d have everything...  \n",
       "5935  i feel reluctant in applying there because i w...  \n",
       "5936  i just wanted to apologize to you because i fe...  \n",
       "\n",
       "[5937 rows x 3 columns]"
      ]
     },
     "execution_count": 13,
     "metadata": {},
     "output_type": "execute_result"
    }
   ],
   "source": [
    "preprocessor= Preprocessor()\n",
    "df['processed_text']= df['Text'].apply(lambda x: preprocessor.remove_links_and_tags(x))\n",
    "df['processed_text']= df['Text'].apply(lambda x: ' '.join(preprocessor.remove_punctuations(preprocessor.word_tokenize(x))))\n",
    "df\n",
    "# df['processed_text']= df['Text'].apply(lambda x: preprocessor.preprocess(x))\n",
    "# df\n"
   ]
  },
  {
   "cell_type": "markdown",
   "id": "8d01617f",
   "metadata": {
    "id": "r0LHBi9zK1Ro",
    "papermill": {
     "duration": 0.017224,
     "end_time": "2023-12-02T07:51:54.487892",
     "exception": false,
     "start_time": "2023-12-02T07:51:54.470668",
     "status": "completed"
    },
    "tags": []
   },
   "source": [
    "Remove the stop-words from the synopsis texts. Stop-words are those that have a high frequency in the language but don't have much information like 'the', 'and', 'to', etc. **(P2-1-3: 5 points)**"
   ]
  },
  {
   "cell_type": "code",
   "execution_count": 14,
   "id": "ebbec216",
   "metadata": {
    "execution": {
     "iopub.execute_input": "2023-12-02T07:51:54.524787Z",
     "iopub.status.busy": "2023-12-02T07:51:54.524384Z",
     "iopub.status.idle": "2023-12-02T07:52:06.090415Z",
     "shell.execute_reply": "2023-12-02T07:52:06.088920Z"
    },
    "id": "rZV4H3vPNJhH",
    "papermill": {
     "duration": 11.588356,
     "end_time": "2023-12-02T07:52:06.093149",
     "exception": false,
     "start_time": "2023-12-02T07:51:54.504793",
     "status": "completed"
    },
    "tags": []
   },
   "outputs": [
    {
     "data": {
      "text/html": [
       "<div>\n",
       "<style scoped>\n",
       "    .dataframe tbody tr th:only-of-type {\n",
       "        vertical-align: middle;\n",
       "    }\n",
       "\n",
       "    .dataframe tbody tr th {\n",
       "        vertical-align: top;\n",
       "    }\n",
       "\n",
       "    .dataframe thead th {\n",
       "        text-align: right;\n",
       "    }\n",
       "</style>\n",
       "<table border=\"1\" class=\"dataframe\">\n",
       "  <thead>\n",
       "    <tr style=\"text-align: right;\">\n",
       "      <th></th>\n",
       "      <th>Text</th>\n",
       "      <th>Feeling</th>\n",
       "      <th>processed_text</th>\n",
       "    </tr>\n",
       "  </thead>\n",
       "  <tbody>\n",
       "    <tr>\n",
       "      <th>0</th>\n",
       "      <td>i seriously hate one subject to death but now ...</td>\n",
       "      <td>fear</td>\n",
       "      <td>seriously hate one subject death feel reluctan...</td>\n",
       "    </tr>\n",
       "    <tr>\n",
       "      <th>1</th>\n",
       "      <td>im so full of life i feel appalled</td>\n",
       "      <td>anger</td>\n",
       "      <td>im full life feel appalled</td>\n",
       "    </tr>\n",
       "    <tr>\n",
       "      <th>2</th>\n",
       "      <td>i sit here to write i start to dig out my feel...</td>\n",
       "      <td>fear</td>\n",
       "      <td>sit write start dig feelings think afraid acce...</td>\n",
       "    </tr>\n",
       "    <tr>\n",
       "      <th>3</th>\n",
       "      <td>ive been really angry with r and i feel like a...</td>\n",
       "      <td>joy</td>\n",
       "      <td>ive really angry r feel like idiot trusting fi...</td>\n",
       "    </tr>\n",
       "    <tr>\n",
       "      <th>4</th>\n",
       "      <td>i feel suspicious if there is no one outside l...</td>\n",
       "      <td>fear</td>\n",
       "      <td>feel suspicious one outside like rapture happe...</td>\n",
       "    </tr>\n",
       "    <tr>\n",
       "      <th>...</th>\n",
       "      <td>...</td>\n",
       "      <td>...</td>\n",
       "      <td>...</td>\n",
       "    </tr>\n",
       "    <tr>\n",
       "      <th>5932</th>\n",
       "      <td>i begun to feel distressed for you</td>\n",
       "      <td>fear</td>\n",
       "      <td>begun feel distressed</td>\n",
       "    </tr>\n",
       "    <tr>\n",
       "      <th>5933</th>\n",
       "      <td>i left feeling annoyed and angry thinking that...</td>\n",
       "      <td>anger</td>\n",
       "      <td>left feeling annoyed angry thinking center stu...</td>\n",
       "    </tr>\n",
       "    <tr>\n",
       "      <th>5934</th>\n",
       "      <td>i were to ever get married i d have everything...</td>\n",
       "      <td>joy</td>\n",
       "      <td>ever get married everything ready offer got to...</td>\n",
       "    </tr>\n",
       "    <tr>\n",
       "      <th>5935</th>\n",
       "      <td>i feel reluctant in applying there because i w...</td>\n",
       "      <td>fear</td>\n",
       "      <td>feel reluctant applying want able find company...</td>\n",
       "    </tr>\n",
       "    <tr>\n",
       "      <th>5936</th>\n",
       "      <td>i just wanted to apologize to you because i fe...</td>\n",
       "      <td>anger</td>\n",
       "      <td>wanted apologize feel like heartless bitch</td>\n",
       "    </tr>\n",
       "  </tbody>\n",
       "</table>\n",
       "<p>5937 rows × 3 columns</p>\n",
       "</div>"
      ],
      "text/plain": [
       "                                                   Text Feeling  \\\n",
       "0     i seriously hate one subject to death but now ...    fear   \n",
       "1                    im so full of life i feel appalled   anger   \n",
       "2     i sit here to write i start to dig out my feel...    fear   \n",
       "3     ive been really angry with r and i feel like a...     joy   \n",
       "4     i feel suspicious if there is no one outside l...    fear   \n",
       "...                                                 ...     ...   \n",
       "5932                 i begun to feel distressed for you    fear   \n",
       "5933  i left feeling annoyed and angry thinking that...   anger   \n",
       "5934  i were to ever get married i d have everything...     joy   \n",
       "5935  i feel reluctant in applying there because i w...    fear   \n",
       "5936  i just wanted to apologize to you because i fe...   anger   \n",
       "\n",
       "                                         processed_text  \n",
       "0     seriously hate one subject death feel reluctan...  \n",
       "1                            im full life feel appalled  \n",
       "2     sit write start dig feelings think afraid acce...  \n",
       "3     ive really angry r feel like idiot trusting fi...  \n",
       "4     feel suspicious one outside like rapture happe...  \n",
       "...                                                 ...  \n",
       "5932                              begun feel distressed  \n",
       "5933  left feeling annoyed angry thinking center stu...  \n",
       "5934  ever get married everything ready offer got to...  \n",
       "5935  feel reluctant applying want able find company...  \n",
       "5936         wanted apologize feel like heartless bitch  \n",
       "\n",
       "[5937 rows x 3 columns]"
      ]
     },
     "execution_count": 14,
     "metadata": {},
     "output_type": "execute_result"
    }
   ],
   "source": [
    "df['processed_text']= df['processed_text'].apply(lambda x: \" \".join(preprocessor.remove_stopwords(x.split())))\n",
    "df"
   ]
  },
  {
   "cell_type": "markdown",
   "id": "a683b64a",
   "metadata": {
    "id": "uJICEKnjMWYY",
    "papermill": {
     "duration": 0.018214,
     "end_time": "2023-12-02T07:52:06.129855",
     "exception": false,
     "start_time": "2023-12-02T07:52:06.111641",
     "status": "completed"
    },
    "tags": []
   },
   "source": [
    "Tokenize the text and convert all characters to their lowercased version **(P2-1-4: 5 points)**"
   ]
  },
  {
   "cell_type": "code",
   "execution_count": 15,
   "id": "f451cb14",
   "metadata": {
    "execution": {
     "iopub.execute_input": "2023-12-02T07:52:06.169283Z",
     "iopub.status.busy": "2023-12-02T07:52:06.168918Z",
     "iopub.status.idle": "2023-12-02T07:52:06.787715Z",
     "shell.execute_reply": "2023-12-02T07:52:06.786565Z"
    },
    "id": "_9hvQsm2u_lZ",
    "papermill": {
     "duration": 0.641194,
     "end_time": "2023-12-02T07:52:06.790518",
     "exception": false,
     "start_time": "2023-12-02T07:52:06.149324",
     "status": "completed"
    },
    "tags": []
   },
   "outputs": [
    {
     "data": {
      "text/html": [
       "<div>\n",
       "<style scoped>\n",
       "    .dataframe tbody tr th:only-of-type {\n",
       "        vertical-align: middle;\n",
       "    }\n",
       "\n",
       "    .dataframe tbody tr th {\n",
       "        vertical-align: top;\n",
       "    }\n",
       "\n",
       "    .dataframe thead th {\n",
       "        text-align: right;\n",
       "    }\n",
       "</style>\n",
       "<table border=\"1\" class=\"dataframe\">\n",
       "  <thead>\n",
       "    <tr style=\"text-align: right;\">\n",
       "      <th></th>\n",
       "      <th>Text</th>\n",
       "      <th>Feeling</th>\n",
       "      <th>processed_text</th>\n",
       "    </tr>\n",
       "  </thead>\n",
       "  <tbody>\n",
       "    <tr>\n",
       "      <th>0</th>\n",
       "      <td>i seriously hate one subject to death but now ...</td>\n",
       "      <td>fear</td>\n",
       "      <td>[seriously, hate, one, subject, death, feel, r...</td>\n",
       "    </tr>\n",
       "    <tr>\n",
       "      <th>1</th>\n",
       "      <td>im so full of life i feel appalled</td>\n",
       "      <td>anger</td>\n",
       "      <td>[im, full, life, feel, appalled]</td>\n",
       "    </tr>\n",
       "    <tr>\n",
       "      <th>2</th>\n",
       "      <td>i sit here to write i start to dig out my feel...</td>\n",
       "      <td>fear</td>\n",
       "      <td>[sit, write, start, dig, feelings, think, afra...</td>\n",
       "    </tr>\n",
       "    <tr>\n",
       "      <th>3</th>\n",
       "      <td>ive been really angry with r and i feel like a...</td>\n",
       "      <td>joy</td>\n",
       "      <td>[ive, really, angry, r, feel, like, idiot, tru...</td>\n",
       "    </tr>\n",
       "    <tr>\n",
       "      <th>4</th>\n",
       "      <td>i feel suspicious if there is no one outside l...</td>\n",
       "      <td>fear</td>\n",
       "      <td>[feel, suspicious, one, outside, like, rapture...</td>\n",
       "    </tr>\n",
       "    <tr>\n",
       "      <th>...</th>\n",
       "      <td>...</td>\n",
       "      <td>...</td>\n",
       "      <td>...</td>\n",
       "    </tr>\n",
       "    <tr>\n",
       "      <th>5932</th>\n",
       "      <td>i begun to feel distressed for you</td>\n",
       "      <td>fear</td>\n",
       "      <td>[begun, feel, distressed]</td>\n",
       "    </tr>\n",
       "    <tr>\n",
       "      <th>5933</th>\n",
       "      <td>i left feeling annoyed and angry thinking that...</td>\n",
       "      <td>anger</td>\n",
       "      <td>[left, feeling, annoyed, angry, thinking, cent...</td>\n",
       "    </tr>\n",
       "    <tr>\n",
       "      <th>5934</th>\n",
       "      <td>i were to ever get married i d have everything...</td>\n",
       "      <td>joy</td>\n",
       "      <td>[ever, get, married, everything, ready, offer,...</td>\n",
       "    </tr>\n",
       "    <tr>\n",
       "      <th>5935</th>\n",
       "      <td>i feel reluctant in applying there because i w...</td>\n",
       "      <td>fear</td>\n",
       "      <td>[feel, reluctant, applying, want, able, find, ...</td>\n",
       "    </tr>\n",
       "    <tr>\n",
       "      <th>5936</th>\n",
       "      <td>i just wanted to apologize to you because i fe...</td>\n",
       "      <td>anger</td>\n",
       "      <td>[wanted, apologize, feel, like, heartless, bitch]</td>\n",
       "    </tr>\n",
       "  </tbody>\n",
       "</table>\n",
       "<p>5937 rows × 3 columns</p>\n",
       "</div>"
      ],
      "text/plain": [
       "                                                   Text Feeling  \\\n",
       "0     i seriously hate one subject to death but now ...    fear   \n",
       "1                    im so full of life i feel appalled   anger   \n",
       "2     i sit here to write i start to dig out my feel...    fear   \n",
       "3     ive been really angry with r and i feel like a...     joy   \n",
       "4     i feel suspicious if there is no one outside l...    fear   \n",
       "...                                                 ...     ...   \n",
       "5932                 i begun to feel distressed for you    fear   \n",
       "5933  i left feeling annoyed and angry thinking that...   anger   \n",
       "5934  i were to ever get married i d have everything...     joy   \n",
       "5935  i feel reluctant in applying there because i w...    fear   \n",
       "5936  i just wanted to apologize to you because i fe...   anger   \n",
       "\n",
       "                                         processed_text  \n",
       "0     [seriously, hate, one, subject, death, feel, r...  \n",
       "1                      [im, full, life, feel, appalled]  \n",
       "2     [sit, write, start, dig, feelings, think, afra...  \n",
       "3     [ive, really, angry, r, feel, like, idiot, tru...  \n",
       "4     [feel, suspicious, one, outside, like, rapture...  \n",
       "...                                                 ...  \n",
       "5932                          [begun, feel, distressed]  \n",
       "5933  [left, feeling, annoyed, angry, thinking, cent...  \n",
       "5934  [ever, get, married, everything, ready, offer,...  \n",
       "5935  [feel, reluctant, applying, want, able, find, ...  \n",
       "5936  [wanted, apologize, feel, like, heartless, bitch]  \n",
       "\n",
       "[5937 rows x 3 columns]"
      ]
     },
     "execution_count": 15,
     "metadata": {},
     "output_type": "execute_result"
    }
   ],
   "source": [
    "df['processed_text']= df['processed_text'].apply(lambda x: (preprocessor.word_tokenize(x.lower())))\n",
    "df"
   ]
  },
  {
   "cell_type": "markdown",
   "id": "f41a8de2",
   "metadata": {
    "id": "MGSci8O5ueGy",
    "papermill": {
     "duration": 0.018569,
     "end_time": "2023-12-02T07:52:06.827103",
     "exception": false,
     "start_time": "2023-12-02T07:52:06.808534",
     "status": "completed"
    },
    "tags": []
   },
   "source": [
    "# Phase 3: Training"
   ]
  },
  {
   "cell_type": "markdown",
   "id": "195e9ef4",
   "metadata": {
    "id": "nW-PD4yKVcOZ",
    "papermill": {
     "duration": 0.018285,
     "end_time": "2023-12-02T07:52:06.863852",
     "exception": false,
     "start_time": "2023-12-02T07:52:06.845567",
     "status": "completed"
    },
    "tags": []
   },
   "source": [
    "## Sec 1: Preparing the training feed **(P3-Sec1: 20 Points)**"
   ]
  },
  {
   "cell_type": "markdown",
   "id": "e26b7563",
   "metadata": {
    "id": "ExOLUFqkV6l3",
    "papermill": {
     "duration": 0.018019,
     "end_time": "2023-12-02T07:52:06.900044",
     "exception": false,
     "start_time": "2023-12-02T07:52:06.882025",
     "status": "completed"
    },
    "tags": []
   },
   "source": [
    "Extract the \"X\" and \"y\" numpy array from columns corresponding to text and feelings. **(P3-1-1: 5 Points)**"
   ]
  },
  {
   "cell_type": "code",
   "execution_count": 16,
   "id": "b9af3ed8",
   "metadata": {
    "execution": {
     "iopub.execute_input": "2023-12-02T07:52:06.939118Z",
     "iopub.status.busy": "2023-12-02T07:52:06.938186Z",
     "iopub.status.idle": "2023-12-02T07:52:06.946069Z",
     "shell.execute_reply": "2023-12-02T07:52:06.943965Z"
    },
    "id": "QxZuaLXoXW3f",
    "papermill": {
     "duration": 0.030593,
     "end_time": "2023-12-02T07:52:06.948885",
     "exception": false,
     "start_time": "2023-12-02T07:52:06.918292",
     "status": "completed"
    },
    "tags": []
   },
   "outputs": [
    {
     "name": "stdout",
     "output_type": "stream",
     "text": [
      "[list(['seriously', 'hate', 'one', 'subject', 'death', 'feel', 'reluctant', 'drop'])\n",
      " list(['im', 'full', 'life', 'feel', 'appalled'])\n",
      " list(['sit', 'write', 'start', 'dig', 'feelings', 'think', 'afraid', 'accept', 'possibility', 'might', 'make'])\n",
      " ...\n",
      " list(['ever', 'get', 'married', 'everything', 'ready', 'offer', 'got', 'together', 'go', 'clubs', 'even', 'perfect', 'good', 'looking', 'guys', 'feel', 'intimated', 'talking', 'clever', 'self'])\n",
      " list(['feel', 'reluctant', 'applying', 'want', 'able', 'find', 'company', 'know', 'least', 'one', 'person'])\n",
      " list(['wanted', 'apologize', 'feel', 'like', 'heartless', 'bitch'])]\n",
      "['fear' 'anger' 'fear' ... 'joy' 'fear' 'anger']\n"
     ]
    }
   ],
   "source": [
    "x= df[\"processed_text\"].to_numpy()\n",
    "print(x)\n",
    "y= df[\"Feeling\"].to_numpy()\n",
    "print(y)"
   ]
  },
  {
   "cell_type": "markdown",
   "id": "c74843aa",
   "metadata": {
    "id": "HTXGdu5pYqCQ",
    "papermill": {
     "duration": 0.017645,
     "end_time": "2023-12-02T07:52:06.986324",
     "exception": false,
     "start_time": "2023-12-02T07:52:06.968679",
     "status": "completed"
    },
    "tags": []
   },
   "source": [
    "Split the dataset into two parts such that the training set (denoted as `x_train` and ‍`y_train`) contains 80% of the samples. **(P3-1-2: 5 Points)**"
   ]
  },
  {
   "cell_type": "code",
   "execution_count": 17,
   "id": "afb9dbd6",
   "metadata": {
    "execution": {
     "iopub.execute_input": "2023-12-02T07:52:07.025978Z",
     "iopub.status.busy": "2023-12-02T07:52:07.024936Z",
     "iopub.status.idle": "2023-12-02T07:52:07.032000Z",
     "shell.execute_reply": "2023-12-02T07:52:07.030606Z"
    },
    "id": "LXUtIDtFMnrv",
    "papermill": {
     "duration": 0.030632,
     "end_time": "2023-12-02T07:52:07.034538",
     "exception": false,
     "start_time": "2023-12-02T07:52:07.003906",
     "status": "completed"
    },
    "tags": []
   },
   "outputs": [],
   "source": [
    "x_train, x_test, y_train, y_test = train_test_split(x, y, test_size=0.2, shuffle=True)"
   ]
  },
  {
   "cell_type": "markdown",
   "id": "ff2c47d8",
   "metadata": {
    "id": "4gmg4zF7XX-0",
    "papermill": {
     "duration": 0.018423,
     "end_time": "2023-12-02T07:52:07.071904",
     "exception": false,
     "start_time": "2023-12-02T07:52:07.053481",
     "status": "completed"
    },
    "tags": []
   },
   "source": [
    "Extract the text embeddings (feature vectors) for all the texts in the dataset. **(P3-1-3: 10 Points)**\n",
    "\n",
    "For this task you can use **tf-idf** or **count vectorizer**. Search about them!"
   ]
  },
  {
   "cell_type": "code",
   "execution_count": 18,
   "id": "2cc4a6c9",
   "metadata": {
    "execution": {
     "iopub.execute_input": "2023-12-02T07:52:07.112772Z",
     "iopub.status.busy": "2023-12-02T07:52:07.111689Z",
     "iopub.status.idle": "2023-12-02T07:52:07.287065Z",
     "shell.execute_reply": "2023-12-02T07:52:07.285937Z"
    },
    "id": "tBIDgJQGZ5Q-",
    "papermill": {
     "duration": 0.198643,
     "end_time": "2023-12-02T07:52:07.289112",
     "exception": false,
     "start_time": "2023-12-02T07:52:07.090469",
     "status": "completed"
    },
    "tags": []
   },
   "outputs": [
    {
     "data": {
      "text/plain": [
       "array([[0., 0., 0., ..., 0., 0., 0.],\n",
       "       [0., 0., 0., ..., 0., 0., 0.],\n",
       "       [0., 0., 0., ..., 0., 0., 0.],\n",
       "       ...,\n",
       "       [0., 0., 0., ..., 0., 0., 0.],\n",
       "       [0., 0., 0., ..., 0., 0., 0.],\n",
       "       [0., 0., 0., ..., 0., 0., 0.]])"
      ]
     },
     "execution_count": 18,
     "metadata": {},
     "output_type": "execute_result"
    }
   ],
   "source": [
    "from sklearn.feature_extraction.text import TfidfVectorizer as tf_idf\n",
    "\n",
    "tfidf= tf_idf(norm = None)\n",
    "vectorized_x= tfidf.fit_transform(' '.join(t) for t in x).toarray()\n",
    "vectorized_x"
   ]
  },
  {
   "cell_type": "code",
   "execution_count": 19,
   "id": "4cf1c8ac",
   "metadata": {
    "execution": {
     "iopub.execute_input": "2023-12-02T07:52:07.329104Z",
     "iopub.status.busy": "2023-12-02T07:52:07.328263Z",
     "iopub.status.idle": "2023-12-02T07:52:07.445143Z",
     "shell.execute_reply": "2023-12-02T07:52:07.443877Z"
    },
    "papermill": {
     "duration": 0.140544,
     "end_time": "2023-12-02T07:52:07.448015",
     "exception": false,
     "start_time": "2023-12-02T07:52:07.307471",
     "status": "completed"
    },
    "tags": []
   },
   "outputs": [],
   "source": [
    "x_train, x_test, y_train, y_test = train_test_split(vectorized_x, y, test_size=0.2, shuffle=True)"
   ]
  },
  {
   "cell_type": "markdown",
   "id": "9cad9824",
   "metadata": {
    "id": "P4Cb8trgcraO",
    "papermill": {
     "duration": 0.018393,
     "end_time": "2023-12-02T07:52:07.484729",
     "exception": false,
     "start_time": "2023-12-02T07:52:07.466336",
     "status": "completed"
    },
    "tags": []
   },
   "source": [
    "## Sec 2: Naive Bayes from Scratch **(P3-Sec2: 20 Points)**"
   ]
  },
  {
   "cell_type": "markdown",
   "id": "82a5aa0e",
   "metadata": {
    "id": "uQRW4hGffgTD",
    "papermill": {
     "duration": 0.01859,
     "end_time": "2023-12-02T07:52:07.521853",
     "exception": false,
     "start_time": "2023-12-02T07:52:07.503263",
     "status": "completed"
    },
    "tags": []
   },
   "source": [
    "Complete this section with your code. **(P3-2: 20 points)**"
   ]
  },
  {
   "cell_type": "code",
   "execution_count": 20,
   "id": "47280df5",
   "metadata": {
    "execution": {
     "iopub.execute_input": "2023-12-02T07:52:07.564536Z",
     "iopub.status.busy": "2023-12-02T07:52:07.563400Z",
     "iopub.status.idle": "2023-12-02T07:52:07.574989Z",
     "shell.execute_reply": "2023-12-02T07:52:07.573456Z"
    },
    "id": "Ah98uzFwfXs1",
    "papermill": {
     "duration": 0.034215,
     "end_time": "2023-12-02T07:52:07.577679",
     "exception": false,
     "start_time": "2023-12-02T07:52:07.543464",
     "status": "completed"
    },
    "tags": []
   },
   "outputs": [],
   "source": [
    "from operator import itemgetter\n",
    "\n",
    "class NaiveBayesClassifier:\n",
    "    def __init__(self, alpha=1):\n",
    "\n",
    "        '''\n",
    "        Initialize these:\n",
    "\n",
    "        Laplace smoothing parameter\n",
    "        P(Y)\n",
    "        P(X_i | Y)\n",
    "        '''\n",
    "        self.alpha=alpha\n",
    "        self.y_prob= {}\n",
    "        self.xy_prob= {}\n",
    "        self.classes= None\n",
    "\n",
    "    def fit(self, X, y):\n",
    "\n",
    "        '''\n",
    "        Calculate class probabilities P(Y)\n",
    "        \n",
    "        Calculate word probabilities P(X_i | Y)\n",
    "        '''\n",
    "      \n",
    "        # calculate calss probabilities\n",
    "        self.classes, class_count= np.unique(y, return_counts=True)\n",
    "        total_count= len(y)\n",
    "        for i in range(len(self.classes)):\n",
    "            self.y_prob[self.classes[i]]= class_count[i]/total_count\n",
    "        \n",
    "        # calculate word probabilities\n",
    "        for val in self.classes:\n",
    "            indices= np.argwhere(y==val).flatten()\n",
    "            N_xy= np.sum(X[indices], axis=0)\n",
    "            N_y= np.sum(N_xy)\n",
    "            n= X.shape[1]\n",
    "            self.xy_prob[val]= ((N_xy+self.alpha)/(N_y+(self.alpha*n)))\n",
    "            \n",
    "\n",
    "    def predict(self, X):\n",
    "\n",
    "        '''\n",
    "        Calculate the log likelihood of the sample for each class\n",
    "\n",
    "        Predict the class with the highest score\n",
    "        '''\n",
    "\n",
    "        results=[]\n",
    "        for xi in X:\n",
    "            prob=[]\n",
    "        \n",
    "            for val in self.classes:\n",
    "                prior_log= np.log(self.y_prob[val])\n",
    "                conditional_log= np.sum(xi*np.log(self.xy_prob[val]))\n",
    "                prob.append((val, prior_log+conditional_log))\n",
    "            \n",
    "            results.append(max(prob, key=itemgetter(1))[0])\n",
    "            \n",
    "        return np.array(results).transpose()\n",
    "            "
   ]
  },
  {
   "cell_type": "markdown",
   "id": "cc813418",
   "metadata": {
    "id": "X1fAy_ElhOOw",
    "papermill": {
     "duration": 0.018463,
     "end_time": "2023-12-02T07:52:07.614004",
     "exception": false,
     "start_time": "2023-12-02T07:52:07.595541",
     "status": "completed"
    },
    "tags": []
   },
   "source": [
    "## Sec 3: Fit models to the training data **(P3-Sec3: 10 Points)**"
   ]
  },
  {
   "cell_type": "markdown",
   "id": "9aa1db13",
   "metadata": {
    "id": "veTOr_lxhrGe",
    "papermill": {
     "duration": 0.018108,
     "end_time": "2023-12-02T07:52:07.652759",
     "exception": false,
     "start_time": "2023-12-02T07:52:07.634651",
     "status": "completed"
    },
    "tags": []
   },
   "source": [
    "Fit a Naive Bayes classifier to the data. (Use both regressors - sklearn & from scratch) **(P3-3-1: 10 points)**"
   ]
  },
  {
   "cell_type": "code",
   "execution_count": 21,
   "id": "0af3e856",
   "metadata": {
    "execution": {
     "iopub.execute_input": "2023-12-02T07:52:07.693038Z",
     "iopub.status.busy": "2023-12-02T07:52:07.692641Z",
     "iopub.status.idle": "2023-12-02T07:52:07.792664Z",
     "shell.execute_reply": "2023-12-02T07:52:07.791527Z"
    },
    "id": "2p7w47zsMdVA",
    "papermill": {
     "duration": 0.122049,
     "end_time": "2023-12-02T07:52:07.795118",
     "exception": false,
     "start_time": "2023-12-02T07:52:07.673069",
     "status": "completed"
    },
    "tags": []
   },
   "outputs": [
    {
     "data": {
      "text/html": [
       "<style>#sk-container-id-1 {color: black;background-color: white;}#sk-container-id-1 pre{padding: 0;}#sk-container-id-1 div.sk-toggleable {background-color: white;}#sk-container-id-1 label.sk-toggleable__label {cursor: pointer;display: block;width: 100%;margin-bottom: 0;padding: 0.3em;box-sizing: border-box;text-align: center;}#sk-container-id-1 label.sk-toggleable__label-arrow:before {content: \"▸\";float: left;margin-right: 0.25em;color: #696969;}#sk-container-id-1 label.sk-toggleable__label-arrow:hover:before {color: black;}#sk-container-id-1 div.sk-estimator:hover label.sk-toggleable__label-arrow:before {color: black;}#sk-container-id-1 div.sk-toggleable__content {max-height: 0;max-width: 0;overflow: hidden;text-align: left;background-color: #f0f8ff;}#sk-container-id-1 div.sk-toggleable__content pre {margin: 0.2em;color: black;border-radius: 0.25em;background-color: #f0f8ff;}#sk-container-id-1 input.sk-toggleable__control:checked~div.sk-toggleable__content {max-height: 200px;max-width: 100%;overflow: auto;}#sk-container-id-1 input.sk-toggleable__control:checked~label.sk-toggleable__label-arrow:before {content: \"▾\";}#sk-container-id-1 div.sk-estimator input.sk-toggleable__control:checked~label.sk-toggleable__label {background-color: #d4ebff;}#sk-container-id-1 div.sk-label input.sk-toggleable__control:checked~label.sk-toggleable__label {background-color: #d4ebff;}#sk-container-id-1 input.sk-hidden--visually {border: 0;clip: rect(1px 1px 1px 1px);clip: rect(1px, 1px, 1px, 1px);height: 1px;margin: -1px;overflow: hidden;padding: 0;position: absolute;width: 1px;}#sk-container-id-1 div.sk-estimator {font-family: monospace;background-color: #f0f8ff;border: 1px dotted black;border-radius: 0.25em;box-sizing: border-box;margin-bottom: 0.5em;}#sk-container-id-1 div.sk-estimator:hover {background-color: #d4ebff;}#sk-container-id-1 div.sk-parallel-item::after {content: \"\";width: 100%;border-bottom: 1px solid gray;flex-grow: 1;}#sk-container-id-1 div.sk-label:hover label.sk-toggleable__label {background-color: #d4ebff;}#sk-container-id-1 div.sk-serial::before {content: \"\";position: absolute;border-left: 1px solid gray;box-sizing: border-box;top: 0;bottom: 0;left: 50%;z-index: 0;}#sk-container-id-1 div.sk-serial {display: flex;flex-direction: column;align-items: center;background-color: white;padding-right: 0.2em;padding-left: 0.2em;position: relative;}#sk-container-id-1 div.sk-item {position: relative;z-index: 1;}#sk-container-id-1 div.sk-parallel {display: flex;align-items: stretch;justify-content: center;background-color: white;position: relative;}#sk-container-id-1 div.sk-item::before, #sk-container-id-1 div.sk-parallel-item::before {content: \"\";position: absolute;border-left: 1px solid gray;box-sizing: border-box;top: 0;bottom: 0;left: 50%;z-index: -1;}#sk-container-id-1 div.sk-parallel-item {display: flex;flex-direction: column;z-index: 1;position: relative;background-color: white;}#sk-container-id-1 div.sk-parallel-item:first-child::after {align-self: flex-end;width: 50%;}#sk-container-id-1 div.sk-parallel-item:last-child::after {align-self: flex-start;width: 50%;}#sk-container-id-1 div.sk-parallel-item:only-child::after {width: 0;}#sk-container-id-1 div.sk-dashed-wrapped {border: 1px dashed gray;margin: 0 0.4em 0.5em 0.4em;box-sizing: border-box;padding-bottom: 0.4em;background-color: white;}#sk-container-id-1 div.sk-label label {font-family: monospace;font-weight: bold;display: inline-block;line-height: 1.2em;}#sk-container-id-1 div.sk-label-container {text-align: center;}#sk-container-id-1 div.sk-container {/* jupyter's `normalize.less` sets `[hidden] { display: none; }` but bootstrap.min.css set `[hidden] { display: none !important; }` so we also need the `!important` here to be able to override the default hidden behavior on the sphinx rendered scikit-learn.org. See: https://github.com/scikit-learn/scikit-learn/issues/21755 */display: inline-block !important;position: relative;}#sk-container-id-1 div.sk-text-repr-fallback {display: none;}</style><div id=\"sk-container-id-1\" class=\"sk-top-container\"><div class=\"sk-text-repr-fallback\"><pre>MultinomialNB()</pre><b>In a Jupyter environment, please rerun this cell to show the HTML representation or trust the notebook. <br />On GitHub, the HTML representation is unable to render, please try loading this page with nbviewer.org.</b></div><div class=\"sk-container\" hidden><div class=\"sk-item\"><div class=\"sk-estimator sk-toggleable\"><input class=\"sk-toggleable__control sk-hidden--visually\" id=\"sk-estimator-id-1\" type=\"checkbox\" checked><label for=\"sk-estimator-id-1\" class=\"sk-toggleable__label sk-toggleable__label-arrow\">MultinomialNB</label><div class=\"sk-toggleable__content\"><pre>MultinomialNB()</pre></div></div></div></div></div>"
      ],
      "text/plain": [
       "MultinomialNB()"
      ]
     },
     "execution_count": 21,
     "metadata": {},
     "output_type": "execute_result"
    }
   ],
   "source": [
    "sklearn_model= MultinomialNB()\n",
    "sklearn_model.fit(x_train, y_train)"
   ]
  },
  {
   "cell_type": "code",
   "execution_count": 22,
   "id": "c0317a37",
   "metadata": {
    "execution": {
     "iopub.execute_input": "2023-12-02T07:52:07.845443Z",
     "iopub.status.busy": "2023-12-02T07:52:07.844639Z",
     "iopub.status.idle": "2023-12-02T07:52:07.950399Z",
     "shell.execute_reply": "2023-12-02T07:52:07.948484Z"
    },
    "id": "UzYnUkxTIlTe",
    "papermill": {
     "duration": 0.134025,
     "end_time": "2023-12-02T07:52:07.953310",
     "exception": false,
     "start_time": "2023-12-02T07:52:07.819285",
     "status": "completed"
    },
    "tags": []
   },
   "outputs": [],
   "source": [
    "scratch_model= NaiveBayesClassifier()\n",
    "scratch_model.fit(x_train, y_train)"
   ]
  },
  {
   "cell_type": "markdown",
   "id": "c9e69550",
   "metadata": {
    "id": "ZidDcRTCfI0K",
    "papermill": {
     "duration": 0.01844,
     "end_time": "2023-12-02T07:52:07.991703",
     "exception": false,
     "start_time": "2023-12-02T07:52:07.973263",
     "status": "completed"
    },
    "tags": []
   },
   "source": [
    "# Phase 4: Evaluation"
   ]
  },
  {
   "cell_type": "markdown",
   "id": "0e1a3138",
   "metadata": {
    "id": "U9b0k6u7kzio",
    "papermill": {
     "duration": 0.019703,
     "end_time": "2023-12-02T07:52:08.030174",
     "exception": false,
     "start_time": "2023-12-02T07:52:08.010471",
     "status": "completed"
    },
    "tags": []
   },
   "source": [
    "## Sec 1: Evaluate both models and compare the results (P4-Sec1: 20 points)"
   ]
  },
  {
   "cell_type": "markdown",
   "id": "084577b8",
   "metadata": {
    "id": "kPGUaf8olFiO",
    "papermill": {
     "duration": 0.018244,
     "end_time": "2023-12-02T07:52:08.069912",
     "exception": false,
     "start_time": "2023-12-02T07:52:08.051668",
     "status": "completed"
    },
    "tags": []
   },
   "source": [
    "Predict the value of \"y\" for each \"x\" belonging to the \"testing\" set (use both models) **(P4-1-1: 5 points)**"
   ]
  },
  {
   "cell_type": "code",
   "execution_count": 23,
   "id": "f607bd60",
   "metadata": {
    "execution": {
     "iopub.execute_input": "2023-12-02T07:52:08.109780Z",
     "iopub.status.busy": "2023-12-02T07:52:08.109357Z",
     "iopub.status.idle": "2023-12-02T07:52:08.135098Z",
     "shell.execute_reply": "2023-12-02T07:52:08.134264Z"
    },
    "id": "GlrvfgIClGNq",
    "papermill": {
     "duration": 0.048908,
     "end_time": "2023-12-02T07:52:08.137225",
     "exception": false,
     "start_time": "2023-12-02T07:52:08.088317",
     "status": "completed"
    },
    "tags": []
   },
   "outputs": [
    {
     "data": {
      "text/plain": [
       "array(['fear', 'joy', 'joy', ..., 'anger', 'fear', 'fear'], dtype='<U5')"
      ]
     },
     "execution_count": 23,
     "metadata": {},
     "output_type": "execute_result"
    }
   ],
   "source": [
    "sklearn_pred= sklearn_model.predict(x_test)\n",
    "sklearn_pred"
   ]
  },
  {
   "cell_type": "code",
   "execution_count": 24,
   "id": "24fe9575",
   "metadata": {
    "execution": {
     "iopub.execute_input": "2023-12-02T07:52:08.190947Z",
     "iopub.status.busy": "2023-12-02T07:52:08.190550Z",
     "iopub.status.idle": "2023-12-02T07:52:08.439567Z",
     "shell.execute_reply": "2023-12-02T07:52:08.437535Z"
    },
    "id": "TSckruksl45m",
    "papermill": {
     "duration": 0.280722,
     "end_time": "2023-12-02T07:52:08.443137",
     "exception": false,
     "start_time": "2023-12-02T07:52:08.162415",
     "status": "completed"
    },
    "tags": []
   },
   "outputs": [
    {
     "data": {
      "text/plain": [
       "array(['fear', 'joy', 'joy', ..., 'anger', 'fear', 'fear'], dtype='<U5')"
      ]
     },
     "execution_count": 24,
     "metadata": {},
     "output_type": "execute_result"
    }
   ],
   "source": [
    "scratch_pred= scratch_model.predict(x_test)\n",
    "scratch_pred"
   ]
  },
  {
   "cell_type": "markdown",
   "id": "c6d56838",
   "metadata": {
    "id": "t9B1GJB4lFWE",
    "papermill": {
     "duration": 0.018649,
     "end_time": "2023-12-02T07:52:08.482103",
     "exception": false,
     "start_time": "2023-12-02T07:52:08.463454",
     "status": "completed"
    },
    "tags": []
   },
   "source": [
    "Compute Confusion matrix and classification report for each model **(P4-1-2: 10 points)**"
   ]
  },
  {
   "cell_type": "code",
   "execution_count": 25,
   "id": "77d126de",
   "metadata": {
    "execution": {
     "iopub.execute_input": "2023-12-02T07:52:08.523308Z",
     "iopub.status.busy": "2023-12-02T07:52:08.522877Z",
     "iopub.status.idle": "2023-12-02T07:52:08.558374Z",
     "shell.execute_reply": "2023-12-02T07:52:08.557593Z"
    },
    "id": "YT-F4Hsvmtv0",
    "papermill": {
     "duration": 0.059167,
     "end_time": "2023-12-02T07:52:08.560525",
     "exception": false,
     "start_time": "2023-12-02T07:52:08.501358",
     "status": "completed"
    },
    "tags": []
   },
   "outputs": [
    {
     "name": "stdout",
     "output_type": "stream",
     "text": [
      "              precision    recall  f1-score   support\n",
      "\n",
      "       anger       0.83      0.82      0.83       415\n",
      "        fear       0.77      0.83      0.80       379\n",
      "         joy       0.84      0.79      0.81       394\n",
      "\n",
      "    accuracy                           0.81      1188\n",
      "   macro avg       0.81      0.81      0.81      1188\n",
      "weighted avg       0.82      0.81      0.81      1188\n",
      "\n",
      "[[342  43  30]\n",
      " [ 37 315  27]\n",
      " [ 33  51 310]]\n"
     ]
    }
   ],
   "source": [
    "from sklearn import metrics\n",
    "print(classification_report(y_test, sklearn_pred))\n",
    "print(metrics.confusion_matrix(y_test, sklearn_pred))"
   ]
  },
  {
   "cell_type": "code",
   "execution_count": 26,
   "id": "442207ed",
   "metadata": {
    "execution": {
     "iopub.execute_input": "2023-12-02T07:52:08.602692Z",
     "iopub.status.busy": "2023-12-02T07:52:08.602033Z",
     "iopub.status.idle": "2023-12-02T07:52:08.635253Z",
     "shell.execute_reply": "2023-12-02T07:52:08.633595Z"
    },
    "id": "9d1Ww_gWm9up",
    "papermill": {
     "duration": 0.05691,
     "end_time": "2023-12-02T07:52:08.637650",
     "exception": false,
     "start_time": "2023-12-02T07:52:08.580740",
     "status": "completed"
    },
    "tags": []
   },
   "outputs": [
    {
     "name": "stdout",
     "output_type": "stream",
     "text": [
      "              precision    recall  f1-score   support\n",
      "\n",
      "       anger       0.83      0.82      0.83       415\n",
      "        fear       0.77      0.83      0.80       379\n",
      "         joy       0.84      0.79      0.81       394\n",
      "\n",
      "    accuracy                           0.81      1188\n",
      "   macro avg       0.81      0.81      0.81      1188\n",
      "weighted avg       0.82      0.81      0.81      1188\n",
      "\n",
      "[[342  43  30]\n",
      " [ 37 315  27]\n",
      " [ 33  51 310]]\n"
     ]
    }
   ],
   "source": [
    "print(classification_report(y_test, scratch_pred))\n",
    "print(metrics.confusion_matrix(y_test, scratch_pred))"
   ]
  },
  {
   "cell_type": "markdown",
   "id": "e15e622a",
   "metadata": {
    "id": "cMIeloShnHaO",
    "papermill": {
     "duration": 0.017971,
     "end_time": "2023-12-02T07:52:08.676733",
     "exception": false,
     "start_time": "2023-12-02T07:52:08.658762",
     "status": "completed"
    },
    "tags": []
   },
   "source": [
    "Explain the results of the previous section (what is f1-score? - what is the recall? - what is precision?), also compare the model's performance **(P4-1-3: 5 points)**"
   ]
  },
  {
   "cell_type": "markdown",
   "id": "a08bf27b",
   "metadata": {
    "id": "sBhfjcnmnhrD",
    "papermill": {
     "duration": 0.019902,
     "end_time": "2023-12-02T07:52:08.715301",
     "exception": false,
     "start_time": "2023-12-02T07:52:08.695399",
     "status": "completed"
    },
    "tags": []
   },
   "source": [
    "* **Recall** is the total number of the actual positive cases that were predicted correctly. So recall is calculated as the number of true positives divided by the total number of true positives and false negatives\n",
    "\n",
    "* **Precision** in definition is defined as the actual correct prediction divided by total prediction made by model. In simpler terms, it is a metric that tells us about the quality of positive predictions.\n",
    "\n",
    "* **F1 Score** is a machine learning evaluation metric that measures a model's accuracy by calculating the weighted average of precision and recall. \n",
    "\n",
    "\\* Compared to accuracy, F1 Score is a more useful way of understanding whether a model works good or not. The from-scartch model and sklearn model both have the same F1 score therefore they both have similar performances.\n",
    "\n",
    "source: \n",
    "* [microsoft.com](https://learn.microsoft.com/en-us/dynamics365/finance/finance-insights/confusion-matrix#:~:text=Recall%20is%20the%20total%20number,TP%20%C3%B7%20(TP%20%2B%20FP))\n",
    "* [linkedin.com](https://www.linkedin.com/pulse/confusion-matrix-accuracy-precision-recall-f1-score-measures-silwal/)\n",
    "* [kdnuggets.com](https://www.kdnuggets.com/2022/11/confusion-matrix-precision-recall-explained.html#:~:text=Precision%20is%20a%20metric%20that,of%20true%20positives%20is%200.)"
   ]
  },
  {
   "cell_type": "markdown",
   "id": "2db5b53e",
   "metadata": {
    "id": "VxsQ2oA8lHhg",
    "papermill": {
     "duration": 0.018852,
     "end_time": "2023-12-02T07:52:08.753764",
     "exception": false,
     "start_time": "2023-12-02T07:52:08.734912",
     "status": "completed"
    },
    "tags": []
   },
   "source": [
    "Model Performance Intuition Part: Now, you can test whether your model has a good prediction for a random text."
   ]
  },
  {
   "cell_type": "code",
   "execution_count": 27,
   "id": "ab199ad1",
   "metadata": {
    "execution": {
     "iopub.execute_input": "2023-12-02T07:52:08.800863Z",
     "iopub.status.busy": "2023-12-02T07:52:08.800244Z",
     "iopub.status.idle": "2023-12-02T07:52:08.817824Z",
     "shell.execute_reply": "2023-12-02T07:52:08.816918Z"
    },
    "id": "MGZOyfU8aszg",
    "papermill": {
     "duration": 0.043354,
     "end_time": "2023-12-02T07:52:08.820038",
     "exception": false,
     "start_time": "2023-12-02T07:52:08.776684",
     "status": "completed"
    },
    "tags": []
   },
   "outputs": [
    {
     "name": "stdout",
     "output_type": "stream",
     "text": [
      "['anger']\n",
      "['fear']\n",
      "['anger']\n"
     ]
    }
   ],
   "source": [
    "example= \"Look! behind that tree there is a secret object, I am so scared\"\n",
    "processed= \" \".join(preprocessor.preprocess(example))\n",
    "print(scratch_model.predict(tfidf.transform([processed]).toarray()))\n",
    "\n",
    "example= \"I want to die\"\n",
    "processed= \" \".join(preprocessor.preprocess(example))\n",
    "print(scratch_model.predict(tfidf.transform([processed]).toarray()))\n",
    "\n",
    "example= \"I am so mad that I am thinking about ripping their vocal cords out\"\n",
    "processed= \" \".join(preprocessor.preprocess(example))\n",
    "print(scratch_model.predict(tfidf.transform([processed]).toarray()))"
   ]
  },
  {
   "cell_type": "markdown",
   "id": "4f9cbefc",
   "metadata": {
    "papermill": {
     "duration": 0.019474,
     "end_time": "2023-12-02T07:52:08.858836",
     "exception": false,
     "start_time": "2023-12-02T07:52:08.839362",
     "status": "completed"
    },
    "tags": []
   },
   "source": [
    "# Phase 5: Neural Net (Bonus)"
   ]
  },
  {
   "cell_type": "markdown",
   "id": "03f902df",
   "metadata": {
    "papermill": {
     "duration": 0.018439,
     "end_time": "2023-12-02T07:52:08.897144",
     "exception": false,
     "start_time": "2023-12-02T07:52:08.878705",
     "status": "completed"
    },
    "tags": []
   },
   "source": [
    "Make a list of words available in the dataset"
   ]
  },
  {
   "cell_type": "code",
   "execution_count": 28,
   "id": "68b8dbf8",
   "metadata": {
    "execution": {
     "iopub.execute_input": "2023-12-02T07:52:08.937134Z",
     "iopub.status.busy": "2023-12-02T07:52:08.936732Z",
     "iopub.status.idle": "2023-12-02T07:52:21.700354Z",
     "shell.execute_reply": "2023-12-02T07:52:21.699426Z"
    },
    "papermill": {
     "duration": 12.786948,
     "end_time": "2023-12-02T07:52:21.703199",
     "exception": false,
     "start_time": "2023-12-02T07:52:08.916251",
     "status": "completed"
    },
    "tags": []
   },
   "outputs": [],
   "source": [
    "df['get_words']= df['Text'].apply(lambda x: preprocessor.preprocess(x))"
   ]
  },
  {
   "cell_type": "code",
   "execution_count": 29,
   "id": "c75a40fd",
   "metadata": {
    "execution": {
     "iopub.execute_input": "2023-12-02T07:52:21.743047Z",
     "iopub.status.busy": "2023-12-02T07:52:21.742201Z",
     "iopub.status.idle": "2023-12-02T07:52:21.753389Z",
     "shell.execute_reply": "2023-12-02T07:52:21.752762Z"
    },
    "papermill": {
     "duration": 0.033908,
     "end_time": "2023-12-02T07:52:21.755781",
     "exception": false,
     "start_time": "2023-12-02T07:52:21.721873",
     "status": "completed"
    },
    "tags": []
   },
   "outputs": [],
   "source": [
    "words=[]\n",
    "for sen in df['get_words']:\n",
    "    words.extend(sen)\n",
    "    \n",
    "# remove duplicate words\n",
    "words=list(set(words))"
   ]
  },
  {
   "cell_type": "markdown",
   "id": "19b8a9fb",
   "metadata": {
    "papermill": {
     "duration": 0.018021,
     "end_time": "2023-12-02T07:52:21.792460",
     "exception": false,
     "start_time": "2023-12-02T07:52:21.774439",
     "status": "completed"
    },
    "tags": []
   },
   "source": [
    "Retrieve the Word2Vec embeddings for each word"
   ]
  },
  {
   "cell_type": "code",
   "execution_count": 30,
   "id": "c62f2bf9",
   "metadata": {
    "execution": {
     "iopub.execute_input": "2023-12-02T07:52:21.832768Z",
     "iopub.status.busy": "2023-12-02T07:52:21.832353Z",
     "iopub.status.idle": "2023-12-02T07:53:36.347479Z",
     "shell.execute_reply": "2023-12-02T07:53:36.346730Z"
    },
    "papermill": {
     "duration": 74.537637,
     "end_time": "2023-12-02T07:53:36.349750",
     "exception": false,
     "start_time": "2023-12-02T07:52:21.812113",
     "status": "completed"
    },
    "tags": []
   },
   "outputs": [],
   "source": [
    "import gensim\n",
    "path= '/kaggle/input/googlenewsvectorsnegative300/GoogleNews-vectors-negative300.bin'\n",
    "w2v_model = gensim.models.KeyedVectors.load_word2vec_format(path, binary=True)"
   ]
  },
  {
   "cell_type": "code",
   "execution_count": 31,
   "id": "932b9b9c",
   "metadata": {
    "execution": {
     "iopub.execute_input": "2023-12-02T07:53:36.388458Z",
     "iopub.status.busy": "2023-12-02T07:53:36.387455Z",
     "iopub.status.idle": "2023-12-02T07:53:36.473996Z",
     "shell.execute_reply": "2023-12-02T07:53:36.472999Z"
    },
    "papermill": {
     "duration": 0.107916,
     "end_time": "2023-12-02T07:53:36.476288",
     "exception": false,
     "start_time": "2023-12-02T07:53:36.368372",
     "status": "completed"
    },
    "tags": []
   },
   "outputs": [],
   "source": [
    "texts= df['get_words']\n",
    "embedded_text= [[w2v_model.key_to_index[word] for word in txt if word in w2v_model.key_to_index] for txt in texts]"
   ]
  },
  {
   "cell_type": "code",
   "execution_count": 32,
   "id": "c0aee88a",
   "metadata": {
    "execution": {
     "iopub.execute_input": "2023-12-02T07:53:36.517117Z",
     "iopub.status.busy": "2023-12-02T07:53:36.516702Z",
     "iopub.status.idle": "2023-12-02T07:53:36.535672Z",
     "shell.execute_reply": "2023-12-02T07:53:36.534300Z"
    },
    "papermill": {
     "duration": 0.041818,
     "end_time": "2023-12-02T07:53:36.538185",
     "exception": false,
     "start_time": "2023-12-02T07:53:36.496367",
     "status": "completed"
    },
    "tags": []
   },
   "outputs": [],
   "source": [
    "one_hot_encoded_df= pd.get_dummies(data=df, columns=['Feeling'], dtype=int)\n",
    "encoded_y= np.vstack((one_hot_encoded_df['Feeling_anger'], one_hot_encoded_df['Feeling_fear'], one_hot_encoded_df['Feeling_joy'])).T\n",
    "\n",
    "x_train, x_test, y_train, y_test= train_test_split(embedded_text, encoded_y, test_size= 0.2)"
   ]
  },
  {
   "cell_type": "markdown",
   "id": "a67544d9",
   "metadata": {
    "papermill": {
     "duration": 0.017917,
     "end_time": "2023-12-02T07:53:36.575195",
     "exception": false,
     "start_time": "2023-12-02T07:53:36.557278",
     "status": "completed"
    },
    "tags": []
   },
   "source": [
    "Train a neural network consisting of LSTM and Fully-Connected layers to perform text classification **(P5-1: 8 points)**"
   ]
  },
  {
   "cell_type": "markdown",
   "id": "d50492a4",
   "metadata": {
    "papermill": {
     "duration": 0.018131,
     "end_time": "2023-12-02T07:53:36.613161",
     "exception": false,
     "start_time": "2023-12-02T07:53:36.595030",
     "status": "completed"
    },
    "tags": []
   },
   "source": [
    "Note: To get the points, Your neural net's performance should be at least as good as the Naive Bayes classifier. The exact architecture of the neural net is up to you. You can use Pytorch or Tensorflow to train it."
   ]
  },
  {
   "cell_type": "code",
   "execution_count": 33,
   "id": "7d691128",
   "metadata": {
    "execution": {
     "iopub.execute_input": "2023-12-02T07:53:36.651303Z",
     "iopub.status.busy": "2023-12-02T07:53:36.650910Z",
     "iopub.status.idle": "2023-12-02T07:55:25.078423Z",
     "shell.execute_reply": "2023-12-02T07:55:25.076831Z"
    },
    "papermill": {
     "duration": 108.513147,
     "end_time": "2023-12-02T07:55:25.144438",
     "exception": false,
     "start_time": "2023-12-02T07:53:36.631291",
     "status": "completed"
    },
    "tags": []
   },
   "outputs": [
    {
     "name": "stdout",
     "output_type": "stream",
     "text": [
      "Epoch 1/10\n",
      "149/149 [==============================] - 11s 36ms/step - loss: 0.9375 - accuracy: 0.5551\n",
      "Epoch 2/10\n",
      "149/149 [==============================] - 5s 35ms/step - loss: 0.6001 - accuracy: 0.7711\n",
      "Epoch 3/10\n",
      "149/149 [==============================] - 5s 35ms/step - loss: 0.4496 - accuracy: 0.8372\n",
      "Epoch 4/10\n",
      "149/149 [==============================] - 5s 35ms/step - loss: 0.3633 - accuracy: 0.8621\n",
      "Epoch 5/10\n",
      "149/149 [==============================] - 5s 35ms/step - loss: 0.3072 - accuracy: 0.8899\n",
      "Epoch 6/10\n",
      "149/149 [==============================] - 5s 35ms/step - loss: 0.2687 - accuracy: 0.9008\n",
      "Epoch 7/10\n",
      "149/149 [==============================] - 5s 35ms/step - loss: 0.2358 - accuracy: 0.9130\n",
      "Epoch 8/10\n",
      "149/149 [==============================] - 5s 34ms/step - loss: 0.2084 - accuracy: 0.9196\n",
      "Epoch 9/10\n",
      "149/149 [==============================] - 5s 34ms/step - loss: 0.2014 - accuracy: 0.9263\n",
      "Epoch 10/10\n",
      "149/149 [==============================] - 5s 35ms/step - loss: 0.1767 - accuracy: 0.9335\n"
     ]
    },
    {
     "data": {
      "text/plain": [
       "<keras.src.callbacks.History at 0x798f041698a0>"
      ]
     },
     "execution_count": 33,
     "metadata": {},
     "output_type": "execute_result"
    }
   ],
   "source": [
    "from tensorflow.keras.models import Sequential\n",
    "from tensorflow.keras.layers import Embedding, LSTM, Dense, BatchNormalization, Dropout\n",
    "from tensorflow.keras.preprocessing.sequence import pad_sequences\n",
    "from keras.callbacks import EarlyStopping\n",
    "\n",
    "vec= w2v_model.vectors\n",
    "model= Sequential()\n",
    "model.add(Embedding(input_dim= vec.shape[0], output_dim= vec.shape[1], input_length=15, weights=[vec], trainable=False))\n",
    "model.add(LSTM(100, dropout=0.5, recurrent_dropout=0.5, return_sequences=True))\n",
    "model.add(LSTM(80, dropout=0.5, recurrent_dropout=0.5))\n",
    "model.add(Dense(64, activation='relu'))\n",
    "model.add(Dropout(0.5))\n",
    "model.add(Dense(32, activation='relu'))\n",
    "model.add(Dense(3, activation='softmax'))\n",
    "\n",
    "    \n",
    "model.compile(optimizer='adam', loss='categorical_crossentropy', metrics=['accuracy'])\n",
    "early_stopping= EarlyStopping(monitor='val_loss', patience=3, restore_best_weights=True)\n",
    "\n",
    "x_train= pad_sequences(x_train, maxlen=15)\n",
    "x_test= pad_sequences(x_test, maxlen=15)\n",
    "model.fit(x_train, y_train, epochs=10, callbacks=[early_stopping])"
   ]
  },
  {
   "cell_type": "markdown",
   "id": "c654157d",
   "metadata": {
    "papermill": {
     "duration": 0.067958,
     "end_time": "2023-12-02T07:55:25.278394",
     "exception": false,
     "start_time": "2023-12-02T07:55:25.210436",
     "status": "completed"
    },
    "tags": []
   },
   "source": [
    "Evaluate the neural net on the training and testing data from the section *3-1-2*. **(P5-2: 2 points)**"
   ]
  },
  {
   "cell_type": "code",
   "execution_count": 34,
   "id": "a8862f8f",
   "metadata": {
    "execution": {
     "iopub.execute_input": "2023-12-02T07:55:25.419923Z",
     "iopub.status.busy": "2023-12-02T07:55:25.419115Z",
     "iopub.status.idle": "2023-12-02T07:55:26.304969Z",
     "shell.execute_reply": "2023-12-02T07:55:26.304140Z"
    },
    "papermill": {
     "duration": 0.958597,
     "end_time": "2023-12-02T07:55:26.307315",
     "exception": false,
     "start_time": "2023-12-02T07:55:25.348718",
     "status": "completed"
    },
    "tags": []
   },
   "outputs": [
    {
     "name": "stdout",
     "output_type": "stream",
     "text": [
      "38/38 [==============================] - 1s 9ms/step\n",
      "[[389  18  16]\n",
      " [ 20 350  11]\n",
      " [  1  13 370]]\n",
      "              precision    recall  f1-score   support\n",
      "\n",
      "           0       0.95      0.92      0.93       423\n",
      "           1       0.92      0.92      0.92       381\n",
      "           2       0.93      0.96      0.95       384\n",
      "\n",
      "    accuracy                           0.93      1188\n",
      "   macro avg       0.93      0.93      0.93      1188\n",
      "weighted avg       0.93      0.93      0.93      1188\n",
      "\n"
     ]
    }
   ],
   "source": [
    "y_pred= np.argmax(model.predict(x_test), axis= 1)\n",
    "y_test= np.argmax(y_test, axis=1)     \n",
    "\n",
    "print(confusion_matrix(y_test, y_pred))\n",
    "print(classification_report(y_test, y_pred))"
   ]
  },
  {
   "cell_type": "markdown",
   "id": "28f03edb",
   "metadata": {
    "papermill": {
     "duration": 0.065491,
     "end_time": "2023-12-02T07:55:26.439949",
     "exception": false,
     "start_time": "2023-12-02T07:55:26.374458",
     "status": "completed"
    },
    "tags": []
   },
   "source": [
    "# Phase 6 (Optional): Submit your predictions to our Kaggle competition"
   ]
  },
  {
   "cell_type": "markdown",
   "id": "df82ebc4",
   "metadata": {
    "papermill": {
     "duration": 0.067928,
     "end_time": "2023-12-02T07:55:26.574199",
     "exception": false,
     "start_time": "2023-12-02T07:55:26.506271",
     "status": "completed"
    },
    "tags": []
   },
   "source": [
    "Competition Link: WILL BE ADDED HERE"
   ]
  },
  {
   "cell_type": "code",
   "execution_count": 35,
   "id": "b1ef50f0",
   "metadata": {
    "execution": {
     "iopub.execute_input": "2023-12-02T07:55:26.704542Z",
     "iopub.status.busy": "2023-12-02T07:55:26.704132Z",
     "iopub.status.idle": "2023-12-02T07:55:26.757996Z",
     "shell.execute_reply": "2023-12-02T07:55:26.756880Z"
    },
    "papermill": {
     "duration": 0.121783,
     "end_time": "2023-12-02T07:55:26.760455",
     "exception": false,
     "start_time": "2023-12-02T07:55:26.638672",
     "status": "completed"
    },
    "tags": []
   },
   "outputs": [],
   "source": [
    "train= pd.read_csv(\"/kaggle/input/competition-files/train.csv\")\n",
    "test= pd.read_csv(\"/kaggle/input/competition-files/test.csv\")"
   ]
  },
  {
   "cell_type": "code",
   "execution_count": 36,
   "id": "35df3b8d",
   "metadata": {
    "execution": {
     "iopub.execute_input": "2023-12-02T07:55:26.891359Z",
     "iopub.status.busy": "2023-12-02T07:55:26.890246Z",
     "iopub.status.idle": "2023-12-02T07:55:38.643903Z",
     "shell.execute_reply": "2023-12-02T07:55:38.642329Z"
    },
    "papermill": {
     "duration": 11.820784,
     "end_time": "2023-12-02T07:55:38.646528",
     "exception": false,
     "start_time": "2023-12-02T07:55:26.825744",
     "status": "completed"
    },
    "tags": []
   },
   "outputs": [],
   "source": [
    "train['get_words']= train['Text'].apply(lambda x: preprocessor.preprocess(x))"
   ]
  },
  {
   "cell_type": "code",
   "execution_count": 37,
   "id": "1f8b2487",
   "metadata": {
    "execution": {
     "iopub.execute_input": "2023-12-02T07:55:38.780887Z",
     "iopub.status.busy": "2023-12-02T07:55:38.779106Z",
     "iopub.status.idle": "2023-12-02T07:56:04.990599Z",
     "shell.execute_reply": "2023-12-02T07:56:04.989514Z"
    },
    "papermill": {
     "duration": 26.281193,
     "end_time": "2023-12-02T07:56:04.993106",
     "exception": false,
     "start_time": "2023-12-02T07:55:38.711913",
     "status": "completed"
    },
    "tags": []
   },
   "outputs": [],
   "source": [
    "import gensim\n",
    "path= '/kaggle/input/googlenewsvectorsnegative300/GoogleNews-vectors-negative300.bin'\n",
    "w2v_model = gensim.models.KeyedVectors.load_word2vec_format(path, binary=True)"
   ]
  },
  {
   "cell_type": "code",
   "execution_count": 38,
   "id": "52b2756a",
   "metadata": {
    "execution": {
     "iopub.execute_input": "2023-12-02T07:56:05.136545Z",
     "iopub.status.busy": "2023-12-02T07:56:05.136094Z",
     "iopub.status.idle": "2023-12-02T07:56:05.201963Z",
     "shell.execute_reply": "2023-12-02T07:56:05.200521Z"
    },
    "papermill": {
     "duration": 0.13508,
     "end_time": "2023-12-02T07:56:05.204701",
     "exception": false,
     "start_time": "2023-12-02T07:56:05.069621",
     "status": "completed"
    },
    "tags": []
   },
   "outputs": [],
   "source": [
    "texts= train['get_words']\n",
    "x_train= [[w2v_model.key_to_index[word] for word in txt if word in w2v_model.key_to_index] for txt in texts]"
   ]
  },
  {
   "cell_type": "code",
   "execution_count": 39,
   "id": "bc7856b4",
   "metadata": {
    "execution": {
     "iopub.execute_input": "2023-12-02T07:56:05.342405Z",
     "iopub.status.busy": "2023-12-02T07:56:05.342076Z",
     "iopub.status.idle": "2023-12-02T07:56:05.355527Z",
     "shell.execute_reply": "2023-12-02T07:56:05.354557Z"
    },
    "papermill": {
     "duration": 0.085683,
     "end_time": "2023-12-02T07:56:05.357702",
     "exception": false,
     "start_time": "2023-12-02T07:56:05.272019",
     "status": "completed"
    },
    "tags": []
   },
   "outputs": [],
   "source": [
    "one_hot_encoded_df= pd.get_dummies(data=train, columns=['target'], dtype=int)\n",
    "y_train= np.vstack((one_hot_encoded_df['target_anger'], one_hot_encoded_df['target_fear'], one_hot_encoded_df['target_joy'])).T"
   ]
  },
  {
   "cell_type": "code",
   "execution_count": 40,
   "id": "01a66575",
   "metadata": {
    "execution": {
     "iopub.execute_input": "2023-12-02T07:56:05.499511Z",
     "iopub.status.busy": "2023-12-02T07:56:05.498688Z",
     "iopub.status.idle": "2023-12-02T07:58:14.624064Z",
     "shell.execute_reply": "2023-12-02T07:58:14.623007Z"
    },
    "papermill": {
     "duration": 129.198253,
     "end_time": "2023-12-02T07:58:14.626092",
     "exception": false,
     "start_time": "2023-12-02T07:56:05.427839",
     "status": "completed"
    },
    "tags": []
   },
   "outputs": [
    {
     "name": "stdout",
     "output_type": "stream",
     "text": [
      "Epoch 1/20\n",
      "167/167 [==============================] - 11s 34ms/step - loss: 0.9066 - accuracy: 0.5748\n",
      "Epoch 2/20\n",
      "167/167 [==============================] - 6s 35ms/step - loss: 0.5644 - accuracy: 0.7891\n",
      "Epoch 3/20\n",
      "167/167 [==============================] - 6s 34ms/step - loss: 0.4297 - accuracy: 0.8375\n",
      "Epoch 4/20\n",
      "167/167 [==============================] - 6s 38ms/step - loss: 0.3229 - accuracy: 0.8755\n",
      "Epoch 5/20\n",
      "167/167 [==============================] - 6s 34ms/step - loss: 0.2753 - accuracy: 0.8971\n",
      "Epoch 6/20\n",
      "167/167 [==============================] - 6s 34ms/step - loss: 0.2286 - accuracy: 0.9147\n",
      "Epoch 7/20\n",
      "167/167 [==============================] - 6s 34ms/step - loss: 0.2132 - accuracy: 0.9223\n",
      "Epoch 8/20\n",
      "167/167 [==============================] - 6s 35ms/step - loss: 0.1918 - accuracy: 0.9281\n",
      "Epoch 9/20\n",
      "167/167 [==============================] - 6s 38ms/step - loss: 0.1896 - accuracy: 0.9302\n",
      "Epoch 10/20\n",
      "167/167 [==============================] - 6s 35ms/step - loss: 0.1717 - accuracy: 0.9373\n",
      "Epoch 11/20\n",
      "167/167 [==============================] - 6s 34ms/step - loss: 0.1518 - accuracy: 0.9453\n",
      "Epoch 12/20\n",
      "167/167 [==============================] - 6s 35ms/step - loss: 0.1475 - accuracy: 0.9399\n",
      "Epoch 13/20\n",
      "167/167 [==============================] - 6s 34ms/step - loss: 0.1402 - accuracy: 0.9433\n",
      "Epoch 14/20\n",
      "167/167 [==============================] - 6s 37ms/step - loss: 0.1261 - accuracy: 0.9495\n",
      "Epoch 15/20\n",
      "167/167 [==============================] - 6s 34ms/step - loss: 0.1177 - accuracy: 0.9525\n",
      "Epoch 16/20\n",
      "167/167 [==============================] - 6s 34ms/step - loss: 0.1150 - accuracy: 0.9545\n",
      "Epoch 17/20\n",
      "167/167 [==============================] - 6s 35ms/step - loss: 0.1129 - accuracy: 0.9538\n",
      "Epoch 18/20\n",
      "167/167 [==============================] - 6s 36ms/step - loss: 0.1073 - accuracy: 0.9538\n",
      "Epoch 19/20\n",
      "167/167 [==============================] - 6s 35ms/step - loss: 0.1012 - accuracy: 0.9598\n",
      "Epoch 20/20\n",
      "167/167 [==============================] - 6s 35ms/step - loss: 0.0932 - accuracy: 0.9618\n"
     ]
    },
    {
     "data": {
      "text/plain": [
       "<keras.src.callbacks.History at 0x798efd3e82b0>"
      ]
     },
     "execution_count": 40,
     "metadata": {},
     "output_type": "execute_result"
    }
   ],
   "source": [
    "from tensorflow.keras.models import Sequential\n",
    "from tensorflow.keras.layers import Embedding, LSTM, Dense, BatchNormalization, Dropout\n",
    "from tensorflow.keras.preprocessing.sequence import pad_sequences\n",
    "from keras.callbacks import EarlyStopping\n",
    "\n",
    "vec= w2v_model.vectors\n",
    "modelc= Sequential()\n",
    "modelc.add(Embedding(input_dim= vec.shape[0], output_dim= vec.shape[1], input_length=15, weights=[vec], trainable=False))\n",
    "modelc.add(LSTM(100, dropout=0.5, recurrent_dropout=0.5, return_sequences=True))\n",
    "modelc.add(LSTM(80, dropout=0.5, recurrent_dropout=0.5))\n",
    "modelc.add(Dense(64, activation='relu'))\n",
    "modelc.add(Dropout(0.5))\n",
    "modelc.add(Dense(32, activation='relu'))\n",
    "modelc.add(Dense(3, activation='softmax'))\n",
    "\n",
    "    \n",
    "modelc.compile(optimizer='adam', loss='categorical_crossentropy', metrics=['accuracy'])\n",
    "early_stopping = EarlyStopping(monitor='val_loss', patience=3, restore_best_weights=True)\n",
    "\n",
    "x_train= pad_sequences(x_train, maxlen=15)\n",
    "\n",
    "modelc.fit(x_train, y_train, epochs=20, callbacks=[early_stopping])"
   ]
  },
  {
   "cell_type": "code",
   "execution_count": 41,
   "id": "c3bb9b78",
   "metadata": {
    "execution": {
     "iopub.execute_input": "2023-12-02T07:58:14.968236Z",
     "iopub.status.busy": "2023-12-02T07:58:14.967891Z",
     "iopub.status.idle": "2023-12-02T07:58:16.284930Z",
     "shell.execute_reply": "2023-12-02T07:58:16.284219Z"
    },
    "papermill": {
     "duration": 1.492624,
     "end_time": "2023-12-02T07:58:16.287139",
     "exception": false,
     "start_time": "2023-12-02T07:58:14.794515",
     "status": "completed"
    },
    "tags": []
   },
   "outputs": [],
   "source": [
    "test['get_words']= test['Text'].apply(lambda x: preprocessor.preprocess(x))"
   ]
  },
  {
   "cell_type": "code",
   "execution_count": 42,
   "id": "e6c9b72b",
   "metadata": {
    "execution": {
     "iopub.execute_input": "2023-12-02T07:58:16.686524Z",
     "iopub.status.busy": "2023-12-02T07:58:16.685867Z",
     "iopub.status.idle": "2023-12-02T07:58:16.695889Z",
     "shell.execute_reply": "2023-12-02T07:58:16.695198Z"
    },
    "papermill": {
     "duration": 0.181169,
     "end_time": "2023-12-02T07:58:16.698187",
     "exception": false,
     "start_time": "2023-12-02T07:58:16.517018",
     "status": "completed"
    },
    "tags": []
   },
   "outputs": [],
   "source": [
    "texts= test['get_words']\n",
    "x_test= [[w2v_model.key_to_index[word] for word in txt if word in w2v_model.key_to_index] for txt in texts]\n",
    "x_test= pad_sequences(x_test, maxlen=15)"
   ]
  },
  {
   "cell_type": "code",
   "execution_count": 43,
   "id": "4c608a26",
   "metadata": {
    "execution": {
     "iopub.execute_input": "2023-12-02T07:58:17.036244Z",
     "iopub.status.busy": "2023-12-02T07:58:17.035639Z",
     "iopub.status.idle": "2023-12-02T07:58:17.664838Z",
     "shell.execute_reply": "2023-12-02T07:58:17.662902Z"
    },
    "papermill": {
     "duration": 0.803488,
     "end_time": "2023-12-02T07:58:17.667818",
     "exception": false,
     "start_time": "2023-12-02T07:58:16.864330",
     "status": "completed"
    },
    "tags": []
   },
   "outputs": [
    {
     "name": "stdout",
     "output_type": "stream",
     "text": [
      "19/19 [==============================] - 1s 9ms/step\n"
     ]
    }
   ],
   "source": [
    "y_pred= np.argmax(modelc.predict(x_test), axis= 1)\n",
    "results=[]\n",
    "for val in y_pred:\n",
    "    if val==0:\n",
    "        results.append('anger')\n",
    "    elif val==1:\n",
    "        results.append('fear')\n",
    "    elif val==2:\n",
    "        results.append('joy')"
   ]
  },
  {
   "cell_type": "code",
   "execution_count": 44,
   "id": "e2d807dd",
   "metadata": {
    "execution": {
     "iopub.execute_input": "2023-12-02T07:58:18.005294Z",
     "iopub.status.busy": "2023-12-02T07:58:18.004910Z",
     "iopub.status.idle": "2023-12-02T07:58:18.012372Z",
     "shell.execute_reply": "2023-12-02T07:58:18.010955Z"
    },
    "papermill": {
     "duration": 0.179546,
     "end_time": "2023-12-02T07:58:18.014243",
     "exception": false,
     "start_time": "2023-12-02T07:58:17.834697",
     "status": "completed"
    },
    "tags": []
   },
   "outputs": [],
   "source": [
    "test['target']= results\n",
    "test= test.drop('Text', axis=1)\n",
    "test= test.drop('get_words', axis=1) "
   ]
  },
  {
   "cell_type": "code",
   "execution_count": 45,
   "id": "d7a7cb2b",
   "metadata": {
    "execution": {
     "iopub.execute_input": "2023-12-02T07:58:18.353628Z",
     "iopub.status.busy": "2023-12-02T07:58:18.352900Z",
     "iopub.status.idle": "2023-12-02T07:58:18.362648Z",
     "shell.execute_reply": "2023-12-02T07:58:18.360968Z"
    },
    "papermill": {
     "duration": 0.182685,
     "end_time": "2023-12-02T07:58:18.364880",
     "exception": false,
     "start_time": "2023-12-02T07:58:18.182195",
     "status": "completed"
    },
    "tags": []
   },
   "outputs": [],
   "source": [
    "test.to_csv('result.csv',index=False)"
   ]
  }
 ],
 "metadata": {
  "colab": {
   "collapsed_sections": [
    "wyO9QVndoLPQ",
    "RIIiFseLa3lF",
    "qwRicPs98nN9",
    "nW-PD4yKVcOZ"
   ],
   "provenance": []
  },
  "kaggle": {
   "accelerator": "none",
   "dataSources": [
    {
     "datasetId": 6763,
     "sourceId": 9801,
     "sourceType": "datasetVersion"
    },
    {
     "datasetId": 4005827,
     "sourceId": 6971948,
     "sourceType": "datasetVersion"
    },
    {
     "datasetId": 4086196,
     "sourceId": 7090964,
     "sourceType": "datasetVersion"
    }
   ],
   "dockerImageVersionId": 30579,
   "isGpuEnabled": false,
   "isInternetEnabled": true,
   "language": "python",
   "sourceType": "notebook"
  },
  "kernelspec": {
   "display_name": "Python 3",
   "language": "python",
   "name": "python3"
  },
  "language_info": {
   "codemirror_mode": {
    "name": "ipython",
    "version": 3
   },
   "file_extension": ".py",
   "mimetype": "text/x-python",
   "name": "python",
   "nbconvert_exporter": "python",
   "pygments_lexer": "ipython3",
   "version": "3.10.12"
  },
  "papermill": {
   "default_parameters": {},
   "duration": 430.60316,
   "end_time": "2023-12-02T07:58:21.836360",
   "environment_variables": {},
   "exception": null,
   "input_path": "__notebook__.ipynb",
   "output_path": "__notebook__.ipynb",
   "parameters": {},
   "start_time": "2023-12-02T07:51:11.233200",
   "version": "2.4.0"
  }
 },
 "nbformat": 4,
 "nbformat_minor": 5
}
